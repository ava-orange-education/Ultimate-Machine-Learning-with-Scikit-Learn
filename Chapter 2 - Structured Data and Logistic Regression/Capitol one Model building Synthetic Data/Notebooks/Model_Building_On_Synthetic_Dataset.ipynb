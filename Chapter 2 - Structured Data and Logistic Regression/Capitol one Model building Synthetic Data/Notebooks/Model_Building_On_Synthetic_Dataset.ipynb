{
 "cells": [
  {
   "cell_type": "markdown",
   "metadata": {},
   "source": [
    "# Model Building on a Synthetic Dataset"
   ]
  },
  {
   "cell_type": "markdown",
   "metadata": {},
   "source": [
    "## Table Contents\n",
    "\n",
    "* [Business Problem Statement](#business-problem-statement)\n",
    "* [Objective](#objective)\n",
    "* [Data Description](#data-description)\n",
    "* [Exploratory Data Analysis](#exploratory-data-analysis)\n",
    "* [Encoding](#encoding)\n",
    "* [Missing Values](#missing-values)\n",
    "* [Modeling](#modeling)"
   ]
  },
  {
   "cell_type": "markdown",
   "metadata": {},
   "source": [
    "# Business Problem Statement\n",
    "\n",
    "The challenge at hand involves the development of a predictive model using a training dataset (`codetest_train.txt`) comprising 5,000 records with 254 features plus 1 target variable (~7.8MB). The ultimate goal is to utilize this model to predict values for a separate test dataset (`codetest_test.txt`) consisting of 1,000 records with the same 254 features (~1.5MB).\n",
    "\n",
    "The synthetic nature of the datasets ensures a consistent data model for both training and testing. The success of the model will be assessed through the mean squared error (MSE), reflecting the accuracy of predictions.\n",
    "\n",
    "The business objective is to deploy a robust predictive model capable of generalizing patterns from the training data to make accurate predictions on the test data. This predictive capability can be leveraged for various applications, such as optimizing decision-making processes, resource allocation, or any scenario where accurate predictions based on given features are crucial for business outcomes."
   ]
  },
  {
   "cell_type": "markdown",
   "metadata": {},
   "source": [
    "![Image](https://d130b8xaedzatc.cloudfront.net/blog/how-to-build-machine-learning-model-for-beginners/What-is-ML-Model.webp)"
   ]
  },
  {
   "cell_type": "markdown",
   "metadata": {},
   "source": [
    "# Objective\n",
    "\n",
    "This notebook endeavors to create a predictive model utilizing a single training dataset. The objective is to forecast values for a separate test dataset. Both datasets are synthetically generated and adhere to the same data model. The evaluation of success will be based on the mean squared error (MSE)."
   ]
  },
  {
   "cell_type": "markdown",
   "metadata": {},
   "source": [
    "\n",
    "# Data Description \n",
    "\n",
    "We have included two tab-delimited files in conjunction with these instructions:\n",
    "\n",
    "- `codetest_train.txt`: 5,000 records x 254 features + 1 target (~7.8MB)\n",
    "- `codetest_test.txt`: 1,000 records x 254 features (~1.5MB)"
   ]
  },
  {
   "cell_type": "markdown",
   "metadata": {},
   "source": [
    "\n",
    "# Exploratory Data Analysis"
   ]
  },
  {
   "cell_type": "markdown",
   "metadata": {},
   "source": [
    "The provided Python code utilizes the pandas library to manipulate data. It reads training and test datasets from 'codetest_train.txt' and 'codetest_test.txt' files, respectively, using tab ('\\t') as the delimiter. The first few rows of the training data are then displayed and printed.\n"
   ]
  },
  {
   "cell_type": "code",
   "execution_count": 2,
   "metadata": {},
   "outputs": [
    {
     "data": {
      "text/html": [
       "<div>\n",
       "<style scoped>\n",
       "    .dataframe tbody tr th:only-of-type {\n",
       "        vertical-align: middle;\n",
       "    }\n",
       "\n",
       "    .dataframe tbody tr th {\n",
       "        vertical-align: top;\n",
       "    }\n",
       "\n",
       "    .dataframe thead th {\n",
       "        text-align: right;\n",
       "    }\n",
       "</style>\n",
       "<table border=\"1\" class=\"dataframe\">\n",
       "  <thead>\n",
       "    <tr style=\"text-align: right;\">\n",
       "      <th></th>\n",
       "      <th>target</th>\n",
       "      <th>f_0</th>\n",
       "      <th>f_1</th>\n",
       "      <th>f_2</th>\n",
       "      <th>f_3</th>\n",
       "      <th>f_4</th>\n",
       "      <th>f_5</th>\n",
       "      <th>f_6</th>\n",
       "      <th>f_7</th>\n",
       "      <th>f_8</th>\n",
       "      <th>...</th>\n",
       "      <th>f_244</th>\n",
       "      <th>f_245</th>\n",
       "      <th>f_246</th>\n",
       "      <th>f_247</th>\n",
       "      <th>f_248</th>\n",
       "      <th>f_249</th>\n",
       "      <th>f_250</th>\n",
       "      <th>f_251</th>\n",
       "      <th>f_252</th>\n",
       "      <th>f_253</th>\n",
       "    </tr>\n",
       "  </thead>\n",
       "  <tbody>\n",
       "    <tr>\n",
       "      <th>0</th>\n",
       "      <td>3.066056</td>\n",
       "      <td>-0.653</td>\n",
       "      <td>0.255</td>\n",
       "      <td>-0.615</td>\n",
       "      <td>-1.833</td>\n",
       "      <td>-0.736</td>\n",
       "      <td>NaN</td>\n",
       "      <td>1.115</td>\n",
       "      <td>-0.171</td>\n",
       "      <td>-0.351</td>\n",
       "      <td>...</td>\n",
       "      <td>-1.607</td>\n",
       "      <td>-1.400</td>\n",
       "      <td>-0.920</td>\n",
       "      <td>-0.198</td>\n",
       "      <td>-0.945</td>\n",
       "      <td>-0.573</td>\n",
       "      <td>0.170</td>\n",
       "      <td>-0.418</td>\n",
       "      <td>-1.244</td>\n",
       "      <td>-0.503</td>\n",
       "    </tr>\n",
       "    <tr>\n",
       "      <th>1</th>\n",
       "      <td>-1.910473</td>\n",
       "      <td>1.179</td>\n",
       "      <td>-0.093</td>\n",
       "      <td>-0.556</td>\n",
       "      <td>0.811</td>\n",
       "      <td>-0.468</td>\n",
       "      <td>-0.005</td>\n",
       "      <td>-0.116</td>\n",
       "      <td>-1.243</td>\n",
       "      <td>1.985</td>\n",
       "      <td>...</td>\n",
       "      <td>1.282</td>\n",
       "      <td>0.032</td>\n",
       "      <td>-0.061</td>\n",
       "      <td>NaN</td>\n",
       "      <td>-0.061</td>\n",
       "      <td>-0.302</td>\n",
       "      <td>1.281</td>\n",
       "      <td>-0.850</td>\n",
       "      <td>0.821</td>\n",
       "      <td>-0.260</td>\n",
       "    </tr>\n",
       "    <tr>\n",
       "      <th>2</th>\n",
       "      <td>7.830711</td>\n",
       "      <td>0.181</td>\n",
       "      <td>-0.778</td>\n",
       "      <td>-0.919</td>\n",
       "      <td>0.113</td>\n",
       "      <td>0.887</td>\n",
       "      <td>-0.762</td>\n",
       "      <td>1.872</td>\n",
       "      <td>-1.709</td>\n",
       "      <td>0.135</td>\n",
       "      <td>...</td>\n",
       "      <td>-0.237</td>\n",
       "      <td>-0.660</td>\n",
       "      <td>1.073</td>\n",
       "      <td>-0.193</td>\n",
       "      <td>0.570</td>\n",
       "      <td>-0.267</td>\n",
       "      <td>1.435</td>\n",
       "      <td>1.332</td>\n",
       "      <td>-1.147</td>\n",
       "      <td>2.580</td>\n",
       "    </tr>\n",
       "    <tr>\n",
       "      <th>3</th>\n",
       "      <td>-2.180862</td>\n",
       "      <td>0.745</td>\n",
       "      <td>-0.245</td>\n",
       "      <td>-1.343</td>\n",
       "      <td>1.163</td>\n",
       "      <td>-0.169</td>\n",
       "      <td>-0.151</td>\n",
       "      <td>-1.100</td>\n",
       "      <td>0.225</td>\n",
       "      <td>1.223</td>\n",
       "      <td>...</td>\n",
       "      <td>0.709</td>\n",
       "      <td>-0.203</td>\n",
       "      <td>-0.136</td>\n",
       "      <td>-0.571</td>\n",
       "      <td>1.682</td>\n",
       "      <td>0.243</td>\n",
       "      <td>-0.381</td>\n",
       "      <td>0.613</td>\n",
       "      <td>1.033</td>\n",
       "      <td>0.400</td>\n",
       "    </tr>\n",
       "    <tr>\n",
       "      <th>4</th>\n",
       "      <td>5.462784</td>\n",
       "      <td>1.217</td>\n",
       "      <td>-1.324</td>\n",
       "      <td>-0.958</td>\n",
       "      <td>0.448</td>\n",
       "      <td>-2.873</td>\n",
       "      <td>-0.856</td>\n",
       "      <td>0.603</td>\n",
       "      <td>0.763</td>\n",
       "      <td>0.020</td>\n",
       "      <td>...</td>\n",
       "      <td>0.892</td>\n",
       "      <td>-0.433</td>\n",
       "      <td>-0.877</td>\n",
       "      <td>0.289</td>\n",
       "      <td>0.654</td>\n",
       "      <td>1.230</td>\n",
       "      <td>0.457</td>\n",
       "      <td>-0.754</td>\n",
       "      <td>-0.025</td>\n",
       "      <td>-0.931</td>\n",
       "    </tr>\n",
       "  </tbody>\n",
       "</table>\n",
       "<p>5 rows × 255 columns</p>\n",
       "</div>"
      ],
      "text/plain": [
       "     target    f_0    f_1    f_2    f_3    f_4    f_5    f_6    f_7    f_8  \\\n",
       "0  3.066056 -0.653  0.255 -0.615 -1.833 -0.736    NaN  1.115 -0.171 -0.351   \n",
       "1 -1.910473  1.179 -0.093 -0.556  0.811 -0.468 -0.005 -0.116 -1.243  1.985   \n",
       "2  7.830711  0.181 -0.778 -0.919  0.113  0.887 -0.762  1.872 -1.709  0.135   \n",
       "3 -2.180862  0.745 -0.245 -1.343  1.163 -0.169 -0.151 -1.100  0.225  1.223   \n",
       "4  5.462784  1.217 -1.324 -0.958  0.448 -2.873 -0.856  0.603  0.763  0.020   \n",
       "\n",
       "   ...  f_244  f_245  f_246  f_247  f_248  f_249  f_250  f_251  f_252  f_253  \n",
       "0  ... -1.607 -1.400 -0.920 -0.198 -0.945 -0.573  0.170 -0.418 -1.244 -0.503  \n",
       "1  ...  1.282  0.032 -0.061    NaN -0.061 -0.302  1.281 -0.850  0.821 -0.260  \n",
       "2  ... -0.237 -0.660  1.073 -0.193  0.570 -0.267  1.435  1.332 -1.147  2.580  \n",
       "3  ...  0.709 -0.203 -0.136 -0.571  1.682  0.243 -0.381  0.613  1.033  0.400  \n",
       "4  ...  0.892 -0.433 -0.877  0.289  0.654  1.230  0.457 -0.754 -0.025 -0.931  \n",
       "\n",
       "[5 rows x 255 columns]"
      ]
     },
     "execution_count": 2,
     "metadata": {},
     "output_type": "execute_result"
    }
   ],
   "source": [
    "# Import the pandas library as pd for data manipulation\n",
    "import pandas as pd\n",
    "\n",
    "# Read training data from 'codetest_train.txt' file using tab ('\\t') as the delimiter\n",
    "training_dataset = pd.read_csv('./datasets/codetest_train.txt', delimiter='\\t')\n",
    "\n",
    "# Read test data from 'codetest_test.txt' file using tab ('\\t') as the delimiter\n",
    "testing_dataset = pd.read_csv('./datasets/codetest_test.txt', delimiter='\\t')\n",
    "\n",
    "# Display the first few rows of the training data\n",
    "first_few_rows_training = training_dataset.head()\n",
    "\n",
    "# Print the first few rows of the training data\n",
    "(first_few_rows_training)\n"
   ]
  },
  {
   "cell_type": "code",
   "execution_count": 4,
   "metadata": {},
   "outputs": [
    {
     "data": {
      "text/html": [
       "<div>\n",
       "<style scoped>\n",
       "    .dataframe tbody tr th:only-of-type {\n",
       "        vertical-align: middle;\n",
       "    }\n",
       "\n",
       "    .dataframe tbody tr th {\n",
       "        vertical-align: top;\n",
       "    }\n",
       "\n",
       "    .dataframe thead th {\n",
       "        text-align: right;\n",
       "    }\n",
       "</style>\n",
       "<table border=\"1\" class=\"dataframe\">\n",
       "  <thead>\n",
       "    <tr style=\"text-align: right;\">\n",
       "      <th></th>\n",
       "      <th>target</th>\n",
       "      <th>f_0</th>\n",
       "      <th>f_1</th>\n",
       "      <th>f_2</th>\n",
       "      <th>f_3</th>\n",
       "      <th>f_4</th>\n",
       "      <th>f_5</th>\n",
       "      <th>f_6</th>\n",
       "      <th>f_7</th>\n",
       "      <th>f_8</th>\n",
       "      <th>...</th>\n",
       "      <th>f_244</th>\n",
       "      <th>f_245</th>\n",
       "      <th>f_246</th>\n",
       "      <th>f_247</th>\n",
       "      <th>f_248</th>\n",
       "      <th>f_249</th>\n",
       "      <th>f_250</th>\n",
       "      <th>f_251</th>\n",
       "      <th>f_252</th>\n",
       "      <th>f_253</th>\n",
       "    </tr>\n",
       "  </thead>\n",
       "  <tbody>\n",
       "    <tr>\n",
       "      <th>count</th>\n",
       "      <td>5000.000000</td>\n",
       "      <td>4903.000000</td>\n",
       "      <td>4928.000000</td>\n",
       "      <td>4908.000000</td>\n",
       "      <td>4910.000000</td>\n",
       "      <td>4907.000000</td>\n",
       "      <td>4912.000000</td>\n",
       "      <td>4897.000000</td>\n",
       "      <td>4904.000000</td>\n",
       "      <td>4893.000000</td>\n",
       "      <td>...</td>\n",
       "      <td>4910.000000</td>\n",
       "      <td>4883.000000</td>\n",
       "      <td>4914.000000</td>\n",
       "      <td>4894.000000</td>\n",
       "      <td>4902.000000</td>\n",
       "      <td>4886.000000</td>\n",
       "      <td>4900.000000</td>\n",
       "      <td>4921.000000</td>\n",
       "      <td>4904.000000</td>\n",
       "      <td>4904.000000</td>\n",
       "    </tr>\n",
       "    <tr>\n",
       "      <th>mean</th>\n",
       "      <td>1.143878</td>\n",
       "      <td>-0.000433</td>\n",
       "      <td>0.002564</td>\n",
       "      <td>0.028877</td>\n",
       "      <td>-0.005437</td>\n",
       "      <td>-0.006759</td>\n",
       "      <td>0.005569</td>\n",
       "      <td>0.001536</td>\n",
       "      <td>-0.001019</td>\n",
       "      <td>0.009744</td>\n",
       "      <td>...</td>\n",
       "      <td>0.013529</td>\n",
       "      <td>0.004941</td>\n",
       "      <td>0.023261</td>\n",
       "      <td>-0.018447</td>\n",
       "      <td>-0.009842</td>\n",
       "      <td>0.016958</td>\n",
       "      <td>-0.004947</td>\n",
       "      <td>0.016868</td>\n",
       "      <td>-0.001351</td>\n",
       "      <td>0.010334</td>\n",
       "    </tr>\n",
       "    <tr>\n",
       "      <th>std</th>\n",
       "      <td>5.259896</td>\n",
       "      <td>0.999739</td>\n",
       "      <td>0.997930</td>\n",
       "      <td>1.019337</td>\n",
       "      <td>0.990351</td>\n",
       "      <td>1.006293</td>\n",
       "      <td>0.995799</td>\n",
       "      <td>1.004624</td>\n",
       "      <td>0.997356</td>\n",
       "      <td>0.988310</td>\n",
       "      <td>...</td>\n",
       "      <td>1.001453</td>\n",
       "      <td>0.997330</td>\n",
       "      <td>0.996458</td>\n",
       "      <td>1.005000</td>\n",
       "      <td>0.989228</td>\n",
       "      <td>1.011331</td>\n",
       "      <td>0.991577</td>\n",
       "      <td>1.001358</td>\n",
       "      <td>1.003411</td>\n",
       "      <td>1.006896</td>\n",
       "    </tr>\n",
       "    <tr>\n",
       "      <th>min</th>\n",
       "      <td>-26.705570</td>\n",
       "      <td>-3.941000</td>\n",
       "      <td>-3.847000</td>\n",
       "      <td>-3.818000</td>\n",
       "      <td>-3.434000</td>\n",
       "      <td>-3.400000</td>\n",
       "      <td>-4.051000</td>\n",
       "      <td>-3.179000</td>\n",
       "      <td>-3.890000</td>\n",
       "      <td>-3.857000</td>\n",
       "      <td>...</td>\n",
       "      <td>-3.585000</td>\n",
       "      <td>-3.494000</td>\n",
       "      <td>-3.485000</td>\n",
       "      <td>-4.012000</td>\n",
       "      <td>-3.252000</td>\n",
       "      <td>-3.821000</td>\n",
       "      <td>-3.376000</td>\n",
       "      <td>-3.373000</td>\n",
       "      <td>-3.950000</td>\n",
       "      <td>-3.728000</td>\n",
       "    </tr>\n",
       "    <tr>\n",
       "      <th>25%</th>\n",
       "      <td>-2.034383</td>\n",
       "      <td>-0.673000</td>\n",
       "      <td>-0.685000</td>\n",
       "      <td>-0.651000</td>\n",
       "      <td>-0.655000</td>\n",
       "      <td>-0.685500</td>\n",
       "      <td>-0.660000</td>\n",
       "      <td>-0.672000</td>\n",
       "      <td>-0.679000</td>\n",
       "      <td>-0.662000</td>\n",
       "      <td>...</td>\n",
       "      <td>-0.665750</td>\n",
       "      <td>-0.676000</td>\n",
       "      <td>-0.661750</td>\n",
       "      <td>-0.692000</td>\n",
       "      <td>-0.663000</td>\n",
       "      <td>-0.647750</td>\n",
       "      <td>-0.679500</td>\n",
       "      <td>-0.647000</td>\n",
       "      <td>-0.695000</td>\n",
       "      <td>-0.677000</td>\n",
       "    </tr>\n",
       "    <tr>\n",
       "      <th>50%</th>\n",
       "      <td>1.166835</td>\n",
       "      <td>-0.011000</td>\n",
       "      <td>-0.003000</td>\n",
       "      <td>0.047500</td>\n",
       "      <td>0.003500</td>\n",
       "      <td>-0.007000</td>\n",
       "      <td>-0.008000</td>\n",
       "      <td>-0.003000</td>\n",
       "      <td>-0.021500</td>\n",
       "      <td>0.017000</td>\n",
       "      <td>...</td>\n",
       "      <td>0.026000</td>\n",
       "      <td>-0.028000</td>\n",
       "      <td>0.027000</td>\n",
       "      <td>-0.035000</td>\n",
       "      <td>-0.010500</td>\n",
       "      <td>0.002500</td>\n",
       "      <td>0.010000</td>\n",
       "      <td>0.020000</td>\n",
       "      <td>0.002500</td>\n",
       "      <td>0.015000</td>\n",
       "    </tr>\n",
       "    <tr>\n",
       "      <th>75%</th>\n",
       "      <td>4.439549</td>\n",
       "      <td>0.677000</td>\n",
       "      <td>0.674500</td>\n",
       "      <td>0.719000</td>\n",
       "      <td>0.668000</td>\n",
       "      <td>0.654000</td>\n",
       "      <td>0.649000</td>\n",
       "      <td>0.679000</td>\n",
       "      <td>0.670250</td>\n",
       "      <td>0.698000</td>\n",
       "      <td>...</td>\n",
       "      <td>0.671750</td>\n",
       "      <td>0.670000</td>\n",
       "      <td>0.702500</td>\n",
       "      <td>0.655000</td>\n",
       "      <td>0.651000</td>\n",
       "      <td>0.709750</td>\n",
       "      <td>0.660250</td>\n",
       "      <td>0.692000</td>\n",
       "      <td>0.672250</td>\n",
       "      <td>0.705250</td>\n",
       "    </tr>\n",
       "    <tr>\n",
       "      <th>max</th>\n",
       "      <td>26.347818</td>\n",
       "      <td>3.831000</td>\n",
       "      <td>3.996000</td>\n",
       "      <td>3.199000</td>\n",
       "      <td>4.962000</td>\n",
       "      <td>3.106000</td>\n",
       "      <td>4.296000</td>\n",
       "      <td>4.166000</td>\n",
       "      <td>3.798000</td>\n",
       "      <td>4.195000</td>\n",
       "      <td>...</td>\n",
       "      <td>3.365000</td>\n",
       "      <td>3.456000</td>\n",
       "      <td>3.881000</td>\n",
       "      <td>3.690000</td>\n",
       "      <td>3.629000</td>\n",
       "      <td>4.144000</td>\n",
       "      <td>3.873000</td>\n",
       "      <td>3.187000</td>\n",
       "      <td>3.724000</td>\n",
       "      <td>3.956000</td>\n",
       "    </tr>\n",
       "  </tbody>\n",
       "</table>\n",
       "<p>8 rows × 251 columns</p>\n",
       "</div>"
      ],
      "text/plain": [
       "            target          f_0          f_1          f_2          f_3  \\\n",
       "count  5000.000000  4903.000000  4928.000000  4908.000000  4910.000000   \n",
       "mean      1.143878    -0.000433     0.002564     0.028877    -0.005437   \n",
       "std       5.259896     0.999739     0.997930     1.019337     0.990351   \n",
       "min     -26.705570    -3.941000    -3.847000    -3.818000    -3.434000   \n",
       "25%      -2.034383    -0.673000    -0.685000    -0.651000    -0.655000   \n",
       "50%       1.166835    -0.011000    -0.003000     0.047500     0.003500   \n",
       "75%       4.439549     0.677000     0.674500     0.719000     0.668000   \n",
       "max      26.347818     3.831000     3.996000     3.199000     4.962000   \n",
       "\n",
       "               f_4          f_5          f_6          f_7          f_8  ...  \\\n",
       "count  4907.000000  4912.000000  4897.000000  4904.000000  4893.000000  ...   \n",
       "mean     -0.006759     0.005569     0.001536    -0.001019     0.009744  ...   \n",
       "std       1.006293     0.995799     1.004624     0.997356     0.988310  ...   \n",
       "min      -3.400000    -4.051000    -3.179000    -3.890000    -3.857000  ...   \n",
       "25%      -0.685500    -0.660000    -0.672000    -0.679000    -0.662000  ...   \n",
       "50%      -0.007000    -0.008000    -0.003000    -0.021500     0.017000  ...   \n",
       "75%       0.654000     0.649000     0.679000     0.670250     0.698000  ...   \n",
       "max       3.106000     4.296000     4.166000     3.798000     4.195000  ...   \n",
       "\n",
       "             f_244        f_245        f_246        f_247        f_248  \\\n",
       "count  4910.000000  4883.000000  4914.000000  4894.000000  4902.000000   \n",
       "mean      0.013529     0.004941     0.023261    -0.018447    -0.009842   \n",
       "std       1.001453     0.997330     0.996458     1.005000     0.989228   \n",
       "min      -3.585000    -3.494000    -3.485000    -4.012000    -3.252000   \n",
       "25%      -0.665750    -0.676000    -0.661750    -0.692000    -0.663000   \n",
       "50%       0.026000    -0.028000     0.027000    -0.035000    -0.010500   \n",
       "75%       0.671750     0.670000     0.702500     0.655000     0.651000   \n",
       "max       3.365000     3.456000     3.881000     3.690000     3.629000   \n",
       "\n",
       "             f_249        f_250        f_251        f_252        f_253  \n",
       "count  4886.000000  4900.000000  4921.000000  4904.000000  4904.000000  \n",
       "mean      0.016958    -0.004947     0.016868    -0.001351     0.010334  \n",
       "std       1.011331     0.991577     1.001358     1.003411     1.006896  \n",
       "min      -3.821000    -3.376000    -3.373000    -3.950000    -3.728000  \n",
       "25%      -0.647750    -0.679500    -0.647000    -0.695000    -0.677000  \n",
       "50%       0.002500     0.010000     0.020000     0.002500     0.015000  \n",
       "75%       0.709750     0.660250     0.692000     0.672250     0.705250  \n",
       "max       4.144000     3.873000     3.187000     3.724000     3.956000  \n",
       "\n",
       "[8 rows x 251 columns]"
      ]
     },
     "execution_count": 4,
     "metadata": {},
     "output_type": "execute_result"
    }
   ],
   "source": [
    "# Summary statistics of the training data\n",
    "training_dataset.describe()"
   ]
  },
  {
   "cell_type": "markdown",
   "metadata": {},
   "source": [
    "The provided Python code employs the matplotlib and seaborn libraries for data visualization. It creates a histogram with kernel density estimation to visualize the distribution of the 'target' variable in the training dataset. The plot is displayed with a title, xlabel, and ylabel for better interpretation.\n"
   ]
  },
  {
   "cell_type": "code",
   "execution_count": 5,
   "metadata": {},
   "outputs": [
    {
     "data": {
      "image/png": "[encoded data removed]",
      "text/plain": [
       "<Figure size 1000x600 with 1 Axes>"
      ]
     },
     "metadata": {},
     "output_type": "display_data"
    }
   ],
   "source": [
    "# Import required libraries for data visualization\n",
    "import matplotlib.pyplot as plt\n",
    "import seaborn as sns\n",
    "\n",
    "# Visualize the distribution of the target variable\n",
    "plt.figure(figsize=(10, 6))\n",
    "\n",
    "# Create a histogram with kernel density estimation for the 'target' variable in the training dataset\n",
    "sns.histplot(training_dataset['target'], bins=50, kde=True)\n",
    "\n",
    "# Set the title, xlabel, and ylabel for the plot\n",
    "plt.title('Distribution of Target Variable')\n",
    "plt.xlabel('Target')\n",
    "plt.ylabel('Frequency')\n",
    "\n",
    "# Display the plot\n",
    "plt.show()\n"
   ]
  },
  {
   "cell_type": "markdown",
   "metadata": {},
   "source": [
    "The provided Python code identifies columns with non-numeric data types in the training dataset. If there are any such columns, it prints the names of those columns; otherwise, it indicates that all columns have float or integer data types.\n"
   ]
  },
  {
   "cell_type": "code",
   "execution_count": 6,
   "metadata": {},
   "outputs": [
    {
     "name": "stdout",
     "output_type": "stream",
     "text": [
      "Columns with non-numeric data types: ['f_61', 'f_121', 'f_215', 'f_237']\n"
     ]
    }
   ],
   "source": [
    "# Identify columns with non-numeric data types\n",
    "non_numeric_columns = [col for col, dtype in training_dataset.dtypes.items() if dtype not in ['float64', 'int64']]\n",
    "\n",
    "# Check if there are any columns with non-numeric data types\n",
    "if non_numeric_columns:\n",
    "    print(f\"Columns with non-numeric data types: {non_numeric_columns}\")\n",
    "else:\n",
    "    print(\"All columns have float or integer data types.\")\n"
   ]
  },
  {
   "cell_type": "markdown",
   "metadata": {},
   "source": [
    "The provided Python code prints the first few rows of selected columns ('f_61', 'f_121', and 'f_215') from the training dataset. Additional columns can be included as needed by replicating the format for each desired column.\n"
   ]
  },
  {
   "cell_type": "code",
   "execution_count": 7,
   "metadata": {},
   "outputs": [
    {
     "name": "stdout",
     "output_type": "stream",
     "text": [
      "Column 'f_61':\n",
      " 0    b\n",
      "1    a\n",
      "2    b\n",
      "3    a\n",
      "4    b\n",
      "Name: f_61, dtype: object\n",
      "\n",
      "Column 'f_121':\n",
      " 0    D\n",
      "1    A\n",
      "2    B\n",
      "3    C\n",
      "4    E\n",
      "Name: f_121, dtype: object\n",
      "\n",
      "Column 'f_215':\n",
      " 0       red\n",
      "1      blue\n",
      "2    orange\n",
      "3      blue\n",
      "4    orange\n",
      "Name: f_215, dtype: object\n"
     ]
    }
   ],
   "source": [
    "# Display the first few rows of selected columns in the training dataset\n",
    "print(\"Column 'f_61':\\n\", training_dataset['f_61'].head())\n",
    "print(\"\\nColumn 'f_121':\\n\", training_dataset['f_121'].head())\n",
    "print(\"\\nColumn 'f_215':\\n\", training_dataset['f_215'].head())\n",
    "# Add more columns as needed\n"
   ]
  },
  {
   "cell_type": "markdown",
   "metadata": {},
   "source": [
    "\n",
    "# Encoding"
   ]
  },
  {
   "cell_type": "markdown",
   "metadata": {},
   "source": [
    "The provided Python code utilizes the `LabelEncoder` from scikit-learn to encode non-numeric features in the training dataset. It identifies non-numeric features, iterates through each feature, and transforms its values to numeric representation. Finally, it confirms that all features are now numeric by printing the data types of features that are not of type 'float64'.\n"
   ]
  },
  {
   "cell_type": "code",
   "execution_count": 8,
   "metadata": {},
   "outputs": [
    {
     "name": "stdout",
     "output_type": "stream",
     "text": [
      "f_61     int64\n",
      "f_121    int64\n",
      "f_215    int64\n",
      "f_237    int64\n",
      "dtype: object\n"
     ]
    }
   ],
   "source": [
    "from sklearn.preprocessing import LabelEncoder\n",
    "# Identify non-numeric features in the training dataset\n",
    "non_numeric_features = training_dataset.dtypes[training_dataset.dtypes == 'object'].index\n",
    "\n",
    "# Encoding the non-numeric features using LabelEncoder\n",
    "encoder = LabelEncoder()\n",
    "for feature in non_numeric_features:\n",
    "    training_dataset[feature] = encoder.fit_transform(training_dataset[feature].astype(str))\n",
    "\n",
    "# Confirming that all features are now numeric\n",
    "non_numeric_features_after_encoding = training_dataset.dtypes[training_dataset.dtypes != 'float64']\n",
    "print(non_numeric_features_after_encoding)\n"
   ]
  },
  {
   "cell_type": "markdown",
   "metadata": {},
   "source": [
    "The provided Python code prints the first few rows of selected columns ('f_61', 'f_121', and 'f_215') from the training dataset after encoding non-numeric features. Additional columns can be included as needed by replicating the format for each desired column.\n"
   ]
  },
  {
   "cell_type": "code",
   "execution_count": 9,
   "metadata": {},
   "outputs": [
    {
     "name": "stdout",
     "output_type": "stream",
     "text": [
      "Column 'f_61':\n",
      " 0    1\n",
      "1    0\n",
      "2    1\n",
      "3    0\n",
      "4    1\n",
      "Name: f_61, dtype: int64\n",
      "\n",
      "Column 'f_121':\n",
      " 0    3\n",
      "1    0\n",
      "2    1\n",
      "3    2\n",
      "4    4\n",
      "Name: f_121, dtype: int64\n",
      "\n",
      "Column 'f_215':\n",
      " 0    3\n",
      "1    0\n",
      "2    2\n",
      "3    0\n",
      "4    2\n",
      "Name: f_215, dtype: int64\n"
     ]
    }
   ],
   "source": [
    "# Display the first few rows of selected columns in the training dataset after encoding\n",
    "print(\"Column 'f_61':\\n\", training_dataset['f_61'].head())\n",
    "print(\"\\nColumn 'f_121':\\n\", training_dataset['f_121'].head())\n",
    "print(\"\\nColumn 'f_215':\\n\", training_dataset['f_215'].head())\n",
    "# Add more columns as needed\n"
   ]
  },
  {
   "cell_type": "markdown",
   "metadata": {},
   "source": [
    "The provided Python code identifies columns with non-numeric data types in the testing dataset. If there are any such columns, it prints the names of those columns; otherwise, it indicates that all columns have float or integer data types.\n"
   ]
  },
  {
   "cell_type": "code",
   "execution_count": 10,
   "metadata": {},
   "outputs": [
    {
     "name": "stdout",
     "output_type": "stream",
     "text": [
      "Columns with non-numeric data types: ['f_61', 'f_121', 'f_215', 'f_237']\n"
     ]
    }
   ],
   "source": [
    "# Identify columns with non-numeric data types in the testing dataset\n",
    "non_numeric_cols = [col for col, dtype in testing_dataset.dtypes.items() if dtype not in ['float64', 'int64']]\n",
    "\n",
    "# Check if there are any columns with non-numeric data types\n",
    "if non_numeric_cols:\n",
    "    print(f\"Columns with non-numeric data types: {non_numeric_cols}\")\n",
    "else:\n",
    "    print(\"All columns have float or integer data types.\")\n"
   ]
  },
  {
   "cell_type": "markdown",
   "metadata": {},
   "source": [
    "The provided Python code identifies non-numeric features in the testing dataset by selecting columns with 'object' data type.\n"
   ]
  },
  {
   "cell_type": "code",
   "execution_count": 11,
   "metadata": {},
   "outputs": [],
   "source": [
    "# Identify non-numeric features in the testing dataset\n",
    "non_numeric_features_test = testing_dataset.dtypes[testing_dataset.dtypes == 'object'].index\n"
   ]
  },
  {
   "cell_type": "markdown",
   "metadata": {},
   "source": [
    "The provided Python code utilizes the `LabelEncoder` from scikit-learn to encode non-numeric features in the testing dataset. It iterates through each feature, transforms its values to numeric representation, and confirms that all features are now numeric by printing the data types of features that are not of type 'float64'.\n"
   ]
  },
  {
   "cell_type": "code",
   "execution_count": 12,
   "metadata": {},
   "outputs": [
    {
     "name": "stdout",
     "output_type": "stream",
     "text": [
      "f_61     int64\n",
      "f_121    int64\n",
      "f_215    int64\n",
      "f_237    int64\n",
      "dtype: object\n"
     ]
    }
   ],
   "source": [
    "from sklearn.preprocessing import LabelEncoder\n",
    "\n",
    "# Encoding the non-numeric features in the testing dataset\n",
    "encoder = LabelEncoder()\n",
    "for feature in non_numeric_features_test:\n",
    "    testing_dataset[feature] = encoder.fit_transform(testing_dataset[feature].astype(str))\n",
    "\n",
    "# Confirming that all features are now numeric in the testing dataset\n",
    "non_numeric_features_after_encoding_test = testing_dataset.dtypes[testing_dataset.dtypes != 'float64']\n",
    "print(non_numeric_features_after_encoding_test)\n"
   ]
  },
  {
   "cell_type": "markdown",
   "metadata": {},
   "source": [
    "\n",
    "# Missing Values\n"
   ]
  },
  {
   "cell_type": "markdown",
   "metadata": {},
   "source": [
    "The provided Python code checks for missing values in both the training and testing datasets. It prints the count of missing values for each column in the training and testing datasets, excluding columns with no missing values.\n"
   ]
  },
  {
   "cell_type": "code",
   "execution_count": 13,
   "metadata": {},
   "outputs": [
    {
     "name": "stdout",
     "output_type": "stream",
     "text": [
      "Missing values in training_dataset:\n",
      "f_0       97\n",
      "f_1       72\n",
      "f_2       92\n",
      "f_3       90\n",
      "f_4       93\n",
      "        ... \n",
      "f_249    114\n",
      "f_250    100\n",
      "f_251     79\n",
      "f_252     96\n",
      "f_253     96\n",
      "Length: 250, dtype: int64\n",
      "\n",
      "Missing values in testing_dataset:\n",
      "f_0      28\n",
      "f_1      17\n",
      "f_2      17\n",
      "f_3      18\n",
      "f_4      22\n",
      "         ..\n",
      "f_249    20\n",
      "f_250    19\n",
      "f_251    22\n",
      "f_252    21\n",
      "f_253    15\n",
      "Length: 250, dtype: int64\n"
     ]
    }
   ],
   "source": [
    "# Check missing values in the training dataset\n",
    "missing_train = training_dataset.isna().sum()\n",
    "print(\"Missing values in training_dataset:\")\n",
    "print(missing_train[missing_train > 0])\n",
    "\n",
    "# Check missing values in the testing dataset\n",
    "missing_test = testing_dataset.isna().sum()\n",
    "print(\"\\nMissing values in testing_dataset:\")\n",
    "print(missing_test[missing_test > 0])\n"
   ]
  },
  {
   "cell_type": "markdown",
   "metadata": {},
   "source": [
    "The provided Python code fills missing values in both the training and testing datasets using the median value for each respective column. It iterates through each column, calculates the median, and replaces missing values with the computed median in-place.\n"
   ]
  },
  {
   "cell_type": "code",
   "execution_count": 14,
   "metadata": {},
   "outputs": [],
   "source": [
    "# Filling missing values in the training dataset with median\n",
    "for column in training_dataset.columns:\n",
    "    median_value = training_dataset[column].median()\n",
    "    training_dataset[column].fillna(median_value, inplace=True)\n",
    "\n",
    "# Filling missing values in the testing dataset with median\n",
    "for column in testing_dataset.columns:\n",
    "    median_value = testing_dataset[column].median()\n",
    "    testing_dataset[column].fillna(median_value, inplace=True)\n"
   ]
  },
  {
   "cell_type": "markdown",
   "metadata": {},
   "source": [
    "After filling missing values with medians, the provided Python code rechecks for missing values in both the training and testing datasets. It prints the count of missing values for each column in the training and testing datasets, excluding columns with no missing values.\n"
   ]
  },
  {
   "cell_type": "code",
   "execution_count": 15,
   "metadata": {},
   "outputs": [
    {
     "name": "stdout",
     "output_type": "stream",
     "text": [
      "Missing values in training_dataset:\n",
      "Series([], dtype: int64)\n",
      "\n",
      "Missing values in testing_dataset:\n",
      "Series([], dtype: int64)\n"
     ]
    }
   ],
   "source": [
    "# Check missing values in the training dataset\n",
    "missing_train = training_dataset.isna().sum()\n",
    "print(\"Missing values in training_dataset:\")\n",
    "print(missing_train[missing_train > 0])\n",
    "\n",
    "# Check missing values in the testing dataset\n",
    "missing_test = testing_dataset.isna().sum()\n",
    "print(\"\\nMissing values in testing_dataset:\")\n",
    "print(missing_test[missing_test > 0])\n"
   ]
  },
  {
   "cell_type": "markdown",
   "metadata": {},
   "source": [
    "\n",
    "# Modeling"
   ]
  },
  {
   "cell_type": "markdown",
   "metadata": {},
   "source": [
    "## LinearRegression"
   ]
  },
  {
   "cell_type": "markdown",
   "metadata": {},
   "source": [
    "The provided Python code performs linear regression on the training dataset. It separates features and the target variable, splits the data into training and validation sets, and normalizes the features using StandardScaler. The linear regression model is initialized, fitted to the training data, and used to predict the target variable for the validation set. The mean squared error (MSE) is then calculated and printed as a performance metric.\n"
   ]
  },
  {
   "cell_type": "code",
   "execution_count": 17,
   "metadata": {},
   "outputs": [
    {
     "name": "stdout",
     "output_type": "stream",
     "text": [
      "The MSE is  14.010723344651982\n"
     ]
    }
   ],
   "source": [
    "# Import necessary libraries\n",
    "import pandas as pd\n",
    "from sklearn.model_selection import train_test_split\n",
    "from sklearn.preprocessing import StandardScaler\n",
    "from sklearn.linear_model import LinearRegression\n",
    "from sklearn.metrics import mean_squared_error\n",
    "\n",
    "# Separating features and target variable from training dataset\n",
    "X = training_dataset.drop('target', axis=1)\n",
    "y = training_dataset['target']\n",
    "\n",
    "# Splitting the data into training and validation sets\n",
    "X_train, X_val, y_train, y_val = train_test_split(X, y, test_size=0.2, random_state=42)\n",
    "\n",
    "# Normalizing the features\n",
    "scaler = StandardScaler()\n",
    "X_train_scaled = scaler.fit_transform(X_train)\n",
    "X_val_scaled = scaler.transform(X_val)\n",
    "X_test_scaled = scaler.transform(testing_dataset)\n",
    "\n",
    "# Initializing the model\n",
    "lr_model = LinearRegression()\n",
    "\n",
    "# Fitting the model to the training data\n",
    "lr_model.fit(X_train_scaled, y_train)\n",
    "\n",
    "# Making predictions on the validation set\n",
    "y_val_pred = lr_model.predict(X_val_scaled)\n",
    "\n",
    "# Calculating the mean squared error\n",
    "mse = mean_squared_error(y_val, y_val_pred)\n",
    "print(\"The MSE is \", mse)\n"
   ]
  },
  {
   "cell_type": "markdown",
   "metadata": {},
   "source": [
    "The provided Python code utilizes a Random Forest Regressor for predicting the target variable on the validation set. The model is initialized, fitted to the training data, and used to make predictions on the validation set. The mean squared error (MSE) is then calculated and printed as a performance metric for the Random Forest model.\n"
   ]
  },
  {
   "cell_type": "markdown",
   "metadata": {},
   "source": [
    "## RandomForestRegressor"
   ]
  },
  {
   "cell_type": "code",
   "execution_count": 18,
   "metadata": {},
   "outputs": [
    {
     "name": "stdout",
     "output_type": "stream",
     "text": [
      "Mean Squared Error for Random Forest: 12.025551828152306\n"
     ]
    }
   ],
   "source": [
    "# Import necessary libraries\n",
    "import pandas as pd\n",
    "from sklearn.ensemble import RandomForestRegressor\n",
    "from sklearn.metrics import mean_squared_error\n",
    "\n",
    "# Assuming you've already separated features and target variable and normalized the features\n",
    "# X_train_scaled, X_val_scaled, y_train, y_val are already defined\n",
    "\n",
    "# Initializing the Random Forest model\n",
    "rf_model = RandomForestRegressor(random_state=42)\n",
    "\n",
    "# Fitting the model to the training data\n",
    "rf_model.fit(X_train_scaled, y_train)\n",
    "\n",
    "# Making predictions on the validation set\n",
    "y_val_pred_rf = rf_model.predict(X_val_scaled)\n",
    "\n",
    "# Calculating the mean squared error for Random Forest\n",
    "mse_rf = mean_squared_error(y_val, y_val_pred_rf)\n",
    "print(\"Mean Squared Error for Random Forest:\", mse_rf)\n"
   ]
  },
  {
   "cell_type": "markdown",
   "metadata": {},
   "source": [
    "The provided Python code extends the analysis to Lasso and Ridge regression models. It initializes and fits Lasso and Ridge models to the training data, makes predictions on the validation set, and calculates mean squared errors (MSE) for each. Additionally, it computes root mean squared errors (RMSE) for Linear Regression, Random Forest, Lasso, and Ridge models, storing the results in lists `mse_values_all` and `rmse_values_all`.\n"
   ]
  },
  {
   "cell_type": "markdown",
   "metadata": {},
   "source": [
    "## Lasso & Ridge"
   ]
  },
  {
   "cell_type": "code",
   "execution_count": 19,
   "metadata": {},
   "outputs": [
    {
     "data": {
      "text/plain": [
       "([14.010723344651982,\n",
       "  12.025551828152306,\n",
       "  18.001387093995596,\n",
       "  14.010561607998667],\n",
       " [3.7430900796871, 3.4677877426613506, 4.242804154565185, 3.7430684749278456])"
      ]
     },
     "execution_count": 19,
     "metadata": {},
     "output_type": "execute_result"
    }
   ],
   "source": [
    "# Import necessary libraries\n",
    "import numpy as np\n",
    "from sklearn.linear_model import Lasso, Ridge\n",
    "from sklearn.metrics import mean_squared_error\n",
    "\n",
    "# Assuming you've already initialized and fit Linear Regression, Random Forest, and have mse and mse_rf defined\n",
    "# X_train_scaled, X_val_scaled, y_train, y_val are already defined\n",
    "\n",
    "# Initializing the Lasso and Ridge models\n",
    "lasso_model = Lasso(random_state=42)\n",
    "ridge_model = Ridge(random_state=42)\n",
    "\n",
    "# Fitting the Lasso and Ridge models to the training data\n",
    "lasso_model.fit(X_train_scaled, y_train)\n",
    "ridge_model.fit(X_train_scaled, y_train)\n",
    "\n",
    "# Making predictions on the validation set for Lasso and Ridge models\n",
    "y_val_pred_lasso = lasso_model.predict(X_val_scaled)\n",
    "y_val_pred_ridge = ridge_model.predict(X_val_scaled)\n",
    "\n",
    "# Calculating the MSE for Lasso and Ridge models\n",
    "mse_lasso = mean_squared_error(y_val, y_val_pred_lasso)\n",
    "mse_ridge = mean_squared_error(y_val, y_val_pred_ridge)\n",
    "\n",
    "# Calculating the RMSE for Linear Regression, Random Forest, Lasso, and Ridge models\n",
    "rmse_lr = np.sqrt(mse)\n",
    "rmse_rf = np.sqrt(mse_rf)\n",
    "rmse_lasso = np.sqrt(mse_lasso)\n",
    "rmse_ridge = np.sqrt(mse_ridge)\n",
    "\n",
    "# Storing MSE and RMSE values for all models in lists\n",
    "mse_values_all = [mse, mse_rf, mse_lasso, mse_ridge]\n",
    "rmse_values_all = [rmse_lr, rmse_rf, rmse_lasso, rmse_ridge]\n",
    "\n",
    "mse_values_all, rmse_values_all\n"
   ]
  },
  {
   "cell_type": "markdown",
   "metadata": {},
   "source": [
    "The provided Python code generates visual comparisons of Mean Squared Error (MSE) and Root Mean Squared Error (RMSE) for different regression models. It also displays R-squared values for Linear Regression and Random Forest models. The results are presented in a bar plot with a color palette for improved visualization.\n"
   ]
  },
  {
   "cell_type": "code",
   "execution_count": 21,
   "metadata": {},
   "outputs": [
    {
     "data": {
      "image/png": "[encoded data removed]",
      "text/plain": [
       "<Figure size 1200x600 with 2 Axes>"
      ]
     },
     "metadata": {},
     "output_type": "display_data"
    },
    {
     "name": "stdout",
     "output_type": "stream",
     "text": [
      "               Model  R-squared\n",
      "0  Linear Regression   0.505427\n",
      "1      Random Forest        NaN\n",
      "2              Lasso        NaN\n",
      "3              Ridge        NaN\n"
     ]
    }
   ],
   "source": [
    "# Import necessary libraries\n",
    "import matplotlib.pyplot as plt\n",
    "import seaborn as sns\n",
    "from sklearn.metrics import r2_score\n",
    "\n",
    "\n",
    "# Assuming you already have mse_values_all, rmse_values_all, and y_val_pred_lr, y_val_pred_rf defined\n",
    "# Your color palette\n",
    "color1 = '#98C5C0' # Light teal\n",
    "color2 = '#A880DC' # Light purple\n",
    "\n",
    "models_all = ['Linear Regression', 'Random Forest', 'Lasso', 'Ridge']\n",
    "\n",
    "# Calculate R-squared for Linear Regression and Random Forest models\n",
    "r2_lr = r2_score(y_val, y_val_pred)\n",
    "r2_rf = r2_score(y_val, y_val_pred_rf)\n",
    "\n",
    "# Add R-squared values to the list\n",
    "r2_values_all = [r2_lr, None, None, None]  # Random Forest does not have Lasso and Ridge in this context\n",
    "\n",
    "# Create a DataFrame for better visualization\n",
    "results_df = pd.DataFrame({\n",
    "    'Model': models_all,\n",
    "    'MSE': mse_values_all,\n",
    "    'RMSE': rmse_values_all,\n",
    "    'R-squared': r2_values_all\n",
    "})\n",
    "\n",
    "# Plotting the results\n",
    "plt.figure(figsize=(12, 6))\n",
    "\n",
    "# Bar plot for MSE\n",
    "plt.subplot(1, 2, 1)\n",
    "sns.barplot(x='Model', y='MSE', data=results_df, palette=[color1, color2])\n",
    "plt.title('Mean Squared Error (MSE) Comparison')\n",
    "\n",
    "# Bar plot for RMSE\n",
    "plt.subplot(1, 2, 2)\n",
    "sns.barplot(x='Model', y='RMSE', data=results_df, palette=[color1, color2])\n",
    "plt.title('Root Mean Squared Error (RMSE) Comparison')\n",
    "\n",
    "# Display the plot\n",
    "plt.tight_layout()\n",
    "plt.show()\n",
    "\n",
    "# Displaying R-squared values\n",
    "print(results_df[['Model', 'R-squared']])\n"
   ]
  },
  {
   "cell_type": "code",
   "execution_count": null,
   "metadata": {},
   "outputs": [],
   "source": []
  }
 ],
 "metadata": {
  "kernelspec": {
   "display_name": "Python 3",
   "language": "python",
   "name": "python3"
  },
  "language_info": {
   "codemirror_mode": {
    "name": "ipython",
    "version": 3
   },
   "file_extension": ".py",
   "mimetype": "text/x-python",
   "name": "python",
   "nbconvert_exporter": "python",
   "pygments_lexer": "ipython3",
   "version": "3.8.10"
  }
 },
 "nbformat": 4,
 "nbformat_minor": 2
}
