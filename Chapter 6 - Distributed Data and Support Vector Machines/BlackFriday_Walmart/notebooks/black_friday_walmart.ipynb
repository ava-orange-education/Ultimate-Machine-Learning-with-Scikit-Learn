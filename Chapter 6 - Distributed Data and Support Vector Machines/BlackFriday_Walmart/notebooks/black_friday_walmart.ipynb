{
 "cells": [
  {
   "cell_type": "markdown",
   "metadata": {},
   "source": [
    "# Data Analysis Of Black Friday Sales at Walmart"
   ]
  },
  {
   "cell_type": "code",
   "execution_count": null,
   "metadata": {},
   "outputs": [],
   "source": []
  },
  {
   "cell_type": "markdown",
   "metadata": {},
   "source": [
    "## Table of Contents\n",
    "\n",
    "* [Problem Statement](#problem-statement)\n",
    "* [Business Problem](#business-problem)\n",
    "* [Data Description](#data-description)\n",
    "* [Key Questions to Address](#key-questions-to-address)\n",
    "* [Approach](#approach)\n",
    "* [Exploratory Data Analysis](#exploratory-data-analysis)\n",
    "* [Data Visualization](#data-visualization)\n",
    "* [Data Analysis](#data-analysis)\n",
    "* [Concluding Observations](#concluding-observations) "
   ]
  },
  {
   "cell_type": "markdown",
   "metadata": {},
   "source": [
    "# Problem Statement\n",
    "Analyze the provided dataset to gain insights and develop strategies for optimizing Black Friday sales at Walmart. Key areas of focus may include understanding customer demographics, identifying popular products, analyzing purchasing patterns based on different features, and developing targeted marketing or promotion strategies.\n",
    "\n"
   ]
  },
  {
   "cell_type": "markdown",
   "metadata": {},
   "source": [
    "\n",
    "# Business Problem\n",
    "\n",
    "**Background:**\n",
    "Walmart wants to optimize its sales during the Black Friday event, which is a critical period for retail businesses. To achieve this, the company aims to leverage data-driven insights from past Black Friday transactions. The provided dataset contains information about individual purchases made by customers during previous Black Friday sales.\n"
   ]
  },
  {
   "cell_type": "markdown",
   "metadata": {},
   "source": [
    "<div style=\"text-align:center\">\n",
    "    <img src=\"https://image.cnbcfm.com/api/v1/image/107334223-1700059846433-gettyimages-1793882242-mt1_2906_fc6jiecp.jpeg?v=1700682968&w=740&h=416&ffmt=webp&vtcrop=y\" alt=\"Image Alt Text\" />\n",
    "</div>\n"
   ]
  },
  {
   "cell_type": "markdown",
   "metadata": {},
   "source": [
    "**Objectives:**\n",
    "1. **Maximize Revenue:** Increase overall sales and revenue during the Black Friday event.\n",
    "2. **Customer Segmentation:** Understand the diverse customer base and tailor marketing strategies for different segments.\n",
    "3. **Product Strategy:** Identify popular products and product categories to optimize inventory and promotions.\n",
    "4. **Demographic Insights:** Analyze customer demographics to customize marketing messages and offerings.\n",
    "5. **Promotional Effectiveness:** Evaluate the effectiveness of past promotions and identify areas for improvement.\n",
    "\n",
    "# Key Questions to Address\n",
    "1. **Product Insights:**\n",
    "   - Which products and categories are most popular during Black Friday?\n",
    "   - Are there particular products that consistently drive high sales?\n",
    "\n",
    "2. **Demographic Analysis:**\n",
    "   - How do age, gender, occupation, marital status, and city category impact purchasing behavior?\n",
    "   - Can customer segments be identified for targeted marketing?\n",
    "\n",
    "3. **City and Region Analysis:**\n",
    "   - Are sales concentrated in specific cities or regions (City_Category)?\n",
    "   - Do customers who have stayed longer in a city exhibit different purchasing patterns?\n",
    "\n",
    "4. **Promotional Strategies:**\n",
    "   - What promotions or discounts have been most effective in driving sales?\n",
    "   - Can personalized promotions be designed based on customer characteristics?\n",
    "\n",
    "# Approach\n",
    "1. **Exploratory Data Analysis (EDA):** Conduct a thorough exploration of the dataset to understand its characteristics and uncover initial insights.\n",
    "2. **Customer Segmentation:** Use clustering or grouping techniques to identify distinct customer segments based on demographics and purchasing behavior.\n",
    "3. **Product Analysis:** Identify top-selling products and categories to optimize inventory and promotional efforts.\n"
   ]
  },
  {
   "cell_type": "markdown",
   "metadata": {},
   "source": [
    "# Data Description\n",
    "\n",
    "Certainly! It looks like you've provided data related to Black Friday sales at Walmart. Let's break down the columns and understand the information:\n",
    "\n",
    "1. **User_ID:** A unique identifier for each user or customer.\n",
    "\n",
    "2. **Product_ID:** A unique identifier for each product that was purchased.\n",
    "\n",
    "3. **Gender:** The gender of the customer (M for male, F for female).\n",
    "\n",
    "4. **Age:** The age group of the customer. In this dataset, it's categorized into different ranges (e.g., 0-17, 55+).\n",
    "\n",
    "5. **Occupation:** The occupation code of the customer.\n",
    "\n",
    "6. **City_Category:** The category of the city where the customer resides (A, B, or C).\n",
    "\n",
    "7. **Stay_In_Current_City_Years:** The number of years the customer has stayed in the current city.\n",
    "\n",
    "8. **Marital_Status:** Marital status of the customer (0 for single, 1 for married).\n",
    "\n",
    "9. **Product_Category:** The category of the purchased product.\n",
    "\n",
    "10. **Purchase:** The amount spent by the customer on the product during the Black Friday sale.\n",
    "\n",
    "Now, let's interpret the first row as an example:\n",
    "\n",
    "- **User_ID:** 1000001\n",
    "- **Product_ID:** P00069042\n",
    "- **Gender:** Female (F)\n",
    "- **Age:** 0-17 years\n",
    "- **Occupation:** Occupation code 10\n",
    "- **City_Category:** City category A\n",
    "- **Stay_In_Current_City_Years:** 2 years\n",
    "- **Marital_Status:** Single (0)\n",
    "- **Product_Category:** Category 3\n",
    "- **Purchase:** $8370\n",
    "\n",
    "This indicates that a female customer aged 0-17 years, with occupation code 10, residing in a city of category A, and having stayed in the current city for 2 years, made a purchase of a product in category 3 for a total amount of $8370 on Black Friday."
   ]
  },
  {
   "cell_type": "code",
   "execution_count": null,
   "metadata": {},
   "outputs": [],
   "source": [
    "import seaborn as sns\n",
    "import pandas as pd\n",
    "sns.set(color_codes = True)\n",
    "import warnings\n",
    "warnings.filterwarnings(\"ignore\")"
   ]
  },
  {
   "cell_type": "code",
   "execution_count": null,
   "metadata": {},
   "outputs": [],
   "source": [
    "# Reading data from a CSV file into a DataFrame and assigning it to 'custom_df'\n",
    "custom_df = pd.read_csv(\"../data/walmart_data.csv\")\n",
    "custom_df.head()"
   ]
  },
  {
   "cell_type": "markdown",
   "metadata": {},
   "source": [
    "# Exploratory Data Analysis"
   ]
  },
  {
   "cell_type": "markdown",
   "metadata": {},
   "source": [
    "A Python function to display unique values for each column in a DataFrame with a custom name, along with an example usage.\n"
   ]
  },
  {
   "cell_type": "code",
   "execution_count": null,
   "metadata": {},
   "outputs": [],
   "source": [
    "# Function to print unique values for each column in a DataFrame with a custom name\n",
    "def display_custom_unique_values(df_custom_name):\n",
    "    for col_custom_name in df_custom_name.columns:\n",
    "        unique_vals_custom_name = df_custom_name[col_custom_name].unique()\n",
    "        print(f\"\\nUnique Values of {col_custom_name}: \", unique_vals_custom_name)\n",
    "\n",
    "# Example usage\n",
    "display_custom_unique_values(custom_df)\n"
   ]
  },
  {
   "cell_type": "markdown",
   "metadata": {},
   "source": [
    "A Python function to print the number of unique values for each column in a DataFrame, with a custom name, and an example usage.\n"
   ]
  },
  {
   "cell_type": "code",
   "execution_count": null,
   "metadata": {},
   "outputs": [],
   "source": [
    "# Function to print the number of unique values for each column in a DataFrame\n",
    "def display_custom_nunique_values(df_custom):\n",
    "    for col_custom in df_custom.columns:\n",
    "        unique_vals_custom = df_custom[col_custom].nunique()\n",
    "        print(f\"\\nNumber of Unique Values in {col_custom}: \", unique_vals_custom)\n",
    "\n",
    "# Example usage\n",
    "display_custom_nunique_values(custom_df)\n"
   ]
  },
  {
   "cell_type": "markdown",
   "metadata": {},
   "source": [
    "Displaying unique values of the 'Stay_In_Current_City_Years' column in the DataFrame.\n"
   ]
  },
  {
   "cell_type": "code",
   "execution_count": null,
   "metadata": {},
   "outputs": [],
   "source": [
    "# Displaying unique values of the 'Stay_In_Current_City_Years' column in the DataFrame\n",
    "custom_df['Stay_In_Current_City_Years'].unique()"
   ]
  },
  {
   "cell_type": "markdown",
   "metadata": {},
   "source": [
    "Removing the \"+\" symbol from the 'Stay_Duration' column and displaying unique values of the modified 'Stay_In_Current_City_Years' column in the DataFrame.\n"
   ]
  },
  {
   "cell_type": "code",
   "execution_count": null,
   "metadata": {},
   "outputs": [],
   "source": [
    "# Removing \"+\" symbol from the 'Stay_Duration' column\n",
    "custom_df['Stay_In_Current_City_Years'] = custom_df['Stay_In_Current_City_Years'].str.replace(\"+\", \"\")\n",
    "# Displaying unique values of the modified 'Stay_In_Current_City_Years' column in the DataFrame\n",
    "custom_df['Stay_In_Current_City_Years'].unique()\n"
   ]
  },
  {
   "cell_type": "markdown",
   "metadata": {},
   "source": [
    "Converting the 'Stay_Duration' column to numeric, assuming '+' symbols have already been removed.\n"
   ]
  },
  {
   "cell_type": "code",
   "execution_count": null,
   "metadata": {},
   "outputs": [],
   "source": [
    "\n",
    "# Converting the 'Stay_Duration' column to numeric, assuming '+' symbols have already been removed\n",
    "custom_df['Stay_In_Current_City_Years'] = pd.to_numeric(custom_df['Stay_In_Current_City_Years'])"
   ]
  },
  {
   "cell_type": "markdown",
   "metadata": {},
   "source": [
    "Calculating skewness for columns of type 'int64' in the DataFrame.\n"
   ]
  },
  {
   "cell_type": "code",
   "execution_count": null,
   "metadata": {},
   "outputs": [],
   "source": [
    "# Calculating skewness for columns of type 'int64' in the DataFrame\n",
    "custom_df.select_dtypes(include=['int64']).skew()\n"
   ]
  },
  {
   "cell_type": "markdown",
   "metadata": {},
   "source": [
    "#### Missing Value Detection"
   ]
  },
  {
   "cell_type": "markdown",
   "metadata": {},
   "source": [
    "Checking for missing values in the DataFrame"
   ]
  },
  {
   "cell_type": "code",
   "execution_count": null,
   "metadata": {},
   "outputs": [],
   "source": [
    "custom_df.isna().sum()"
   ]
  },
  {
   "cell_type": "markdown",
   "metadata": {},
   "source": [
    "Duplicate Value Detection"
   ]
  },
  {
   "cell_type": "markdown",
   "metadata": {},
   "source": [
    "Checking for duplicate values in the DataFrame. No duplicate values in the dataset.\n"
   ]
  },
  {
   "cell_type": "code",
   "execution_count": null,
   "metadata": {},
   "outputs": [],
   "source": [
    "# Checking for duplicate values in the DataFrame\n",
    "custom_df.duplicated(subset=None, keep='first').sum()  # No duplicate values in the data set\n"
   ]
  },
  {
   "cell_type": "markdown",
   "metadata": {},
   "source": [
    "# Data Visualization"
   ]
  },
  {
   "cell_type": "markdown",
   "metadata": {},
   "source": [
    "List comprehension to extract column names with 'int64' data type in the DataFrame."
   ]
  },
  {
   "cell_type": "code",
   "execution_count": null,
   "metadata": {},
   "outputs": [],
   "source": [
    "# List comprehension to extract column names with 'int64' data type\n",
    "[int_col for int_col in custom_df.select_dtypes(include=['int64']).columns]\n"
   ]
  },
  {
   "cell_type": "markdown",
   "metadata": {},
   "source": [
    "Creating a 2x2 grid of distribution plots using Seaborn and Matplotlib for selected columns in the DataFrame, including a fitted normal curve for the 'Purchase' variable.\n"
   ]
  },
  {
   "cell_type": "code",
   "execution_count": null,
   "metadata": {},
   "outputs": [],
   "source": [
    "import seaborn as sns\n",
    "import matplotlib.pyplot as plt\n",
    "from scipy.stats import norm\n",
    "\n",
    "# Create a 2x2 grid of subplots\n",
    "fig, custom_axes = plt.subplots(nrows=2, ncols=2, figsize=(12, 10))\n",
    "fig.subplots_adjust(top=0.9)  # Adjust the top spacing of the subplots\n",
    "\n",
    "# Plot distribution plots for each specified column\n",
    "sns.distplot(custom_df['Occupation'], kde=True, ax=custom_axes[0, 0], color=\"#4CAF50\")\n",
    "sns.distplot(custom_df['Stay_In_Current_City_Years'].astype(int), kde=True, ax=custom_axes[0, 1], color=\"#FFC107\")\n",
    "sns.distplot(custom_df['Marital_Status'], kde=True, ax=custom_axes[1, 0], color=\"#2196F3\")\n",
    "\n",
    "# Plotting a distribution plot for the 'Purchase' variable with normal curve fit\n",
    "sns.distplot(custom_df['Purchase'], ax=custom_axes[1, 1], color=\"#E91E63\", fit=norm)\n",
    "\n",
    "# Fitting the target variable to the normal curve\n",
    "mu, sigma = norm.fit(custom_df['Purchase'])\n",
    "print(\"The mu (mean) is {} and sigma (standard deviation) for the curve is {}\".format(mu, sigma))\n",
    "\n",
    "# Adding a legend for the 'Purchase' distribution plot\n",
    "custom_axes[1, 1].legend(['Normal Distribution (μ = {:.2f}, σ = {:.2f})'.format(mu, sigma)], loc='best')\n",
    "\n",
    "# Show the plots\n",
    "plt.show()\n"
   ]
  },
  {
   "cell_type": "markdown",
   "metadata": {},
   "source": [
    "Generating a 4x2 subplot grid using Plotly to display histograms for different DataFrame columns with distinct colors, offering insights into the distribution of categorical and numerical data.\n"
   ]
  },
  {
   "cell_type": "code",
   "execution_count": null,
   "metadata": {},
   "outputs": [],
   "source": [
    "import plotly.graph_objects as go\n",
    "from plotly.subplots import make_subplots\n",
    "\n",
    "# Create subplots\n",
    "fig = make_subplots(\n",
    "    rows=4, cols=2,\n",
    "    subplot_titles=(\"Gender\", \"Age\", \"Occupation\", \"City Category\",\n",
    "                    \"Stay In Current City Years\", \"Marital Status\", \"Product Category\", \"Purchase\")\n",
    ")\n",
    "\n",
    "# Define color sequence for each subplot\n",
    "colors = ['#FF5733', '#3498DB', '#1ABC9C', '#E74C3C', '#8E44AD', '#F39C12', '#27AE60', '#9B59B6']\n",
    "\n",
    "# Add histograms for each subplot with different colors\n",
    "fig.add_trace(go.Histogram(x=custom_df['Gender'], marker=dict(color=colors[0])), row=1, col=1)\n",
    "fig.add_trace(go.Histogram(x=custom_df['Age'], marker=dict(color=colors[1])), row=1, col=2)\n",
    "fig.add_trace(go.Histogram(x=custom_df['Occupation'], marker=dict(color=colors[2])), row=2, col=1)\n",
    "fig.add_trace(go.Histogram(x=custom_df['City_Category'], marker=dict(color=colors[3])), row=2, col=2)\n",
    "fig.add_trace(go.Histogram(x=custom_df['Stay_In_Current_City_Years'], marker=dict(color=colors[4])), row=3, col=1)\n",
    "fig.add_trace(go.Histogram(x=custom_df['Marital_Status'], marker=dict(color=colors[5])), row=3, col=2)\n",
    "fig.add_trace(go.Histogram(x=custom_df['Product_Category'], marker=dict(color=colors[6])), row=4, col=1)\n",
    "fig.add_trace(go.Histogram(x=custom_df['Purchase'], marker=dict(color=colors[7])), row=4, col=2)\n",
    "\n",
    "# Update layout if needed\n",
    "fig.update_layout(height=1200, width=1000, title_text=\"Count Plots\")\n",
    "fig.update_layout(showlegend=False)  # Hide the legend if not needed\n",
    "\n",
    "# Show the figure\n",
    "fig.show()\n"
   ]
  },
  {
   "cell_type": "markdown",
   "metadata": {},
   "source": [
    "Creating a 2x2 grid of boxplots using Seaborn and Matplotlib to visualize the distribution and central tendency of 'Occupation', 'Stay_In_Current_City_Years', 'Purchase', and 'Product_Category' columns in the DataFrame.\n"
   ]
  },
  {
   "cell_type": "code",
   "execution_count": null,
   "metadata": {},
   "outputs": [],
   "source": [
    "# Create subplots for boxplots\n",
    "fig, custom_axes = plt.subplots(nrows=2, ncols=2, figsize=(12, 10))\n",
    "fig.subplots_adjust(top=1.2)\n",
    "\n",
    "# Boxplot for 'Occupation' column\n",
    "sns.boxplot(data=custom_df, x=\"Occupation\", ax=custom_axes[0, 0])\n",
    "\n",
    "# Boxplot for 'Stay_In_Current_City_Years' column\n",
    "sns.boxplot(data=custom_df, x=\"Stay_In_Current_City_Years\", orient='h', ax=custom_axes[0, 1])\n",
    "\n",
    "# Boxplot for 'Purchase' column\n",
    "sns.boxplot(data=custom_df, x=\"Purchase\", orient='h', ax=custom_axes[1, 0])\n",
    "\n",
    "# Boxplot for 'Product_Category' column\n",
    "sns.boxplot(data=custom_df, x=\"Product_Category\", orient='h', ax=custom_axes[1, 1])\n",
    "\n",
    "# Show the plots\n",
    "plt.show()\n"
   ]
  },
  {
   "cell_type": "markdown",
   "metadata": {},
   "source": [
    "Analyzing the relationship between 'Purchase' and various attributes (Gender, Age, Occupation, City_Category, Stay_In_Current_City_Years, Marital_Status) through a series of boxplots, providing insights into the distribution of purchase amounts across different categories.\n",
    "\n"
   ]
  },
  {
   "cell_type": "code",
   "execution_count": null,
   "metadata": {},
   "outputs": [],
   "source": [
    "# Define attributes for boxplot analysis\n",
    "custom_attrs = ['Gender', 'Age', 'Occupation', 'City_Category', 'Stay_In_Current_City_Years', 'Marital_Status']\n",
    "\n",
    "# Set color codes\n",
    "sns.set(color_codes=True)\n",
    "\n",
    "# Create subplots for boxplots\n",
    "fig, axs = plt.subplots(nrows=3, ncols=2, figsize=(20, 16))\n",
    "fig.subplots_adjust(top=1.3)\n",
    "\n",
    "count = 0\n",
    "for row in range(3):\n",
    "    for col in range(2):\n",
    "        sns.boxplot(data=custom_df, y='Purchase', x=custom_attrs[count], ax=axs[row, col])\n",
    "        axs[row, col].set_title(f\"Purchase vs {custom_attrs[count]}\", pad=12, fontsize=13)\n",
    "        count += 1\n",
    "\n",
    "# Show the plots\n",
    "plt.show()\n",
    "\n",
    "# Boxplot for 'Marital_Status' column\n",
    "plt.figure(figsize=(10, 8))\n",
    "sns.boxplot(data=custom_df, y='Purchase', x=custom_attrs[-1])\n",
    "plt.show()\n"
   ]
  },
  {
   "cell_type": "markdown",
   "metadata": {},
   "source": [
    "Exploring the relationship between 'Purchase' and 'Gender' across various dimensions (Age, City_Category, Marital_Status, Stay_In_Current_City_Years) using boxplots, revealing insights into purchase distribution patterns.\n"
   ]
  },
  {
   "cell_type": "code",
   "execution_count": null,
   "metadata": {},
   "outputs": [],
   "source": [
    "# Set color codes\n",
    "sns.set(color_codes=True)\n",
    "\n",
    "# Create subplots for boxplots\n",
    "fig, axs = plt.subplots(nrows=2, ncols=2, figsize=(20, 6))\n",
    "fig.subplots_adjust(top=1.5)\n",
    "\n",
    "# Boxplot for 'Purchase' vs 'Gender' with 'Age' as hue\n",
    "sns.boxplot(data=custom_df, y='Purchase', x='Gender', hue='Age', ax=axs[0, 0])\n",
    "\n",
    "# Boxplot for 'Purchase' vs 'Gender' with 'City_Category' as hue\n",
    "sns.boxplot(data=custom_df, y='Purchase', x='Gender', hue='City_Category', ax=axs[0, 1])\n",
    "\n",
    "# Boxplot for 'Purchase' vs 'Gender' with 'Marital_Status' as hue\n",
    "sns.boxplot(data=custom_df, y='Purchase', x='Gender', hue='Marital_Status', ax=axs[1, 0])\n",
    "\n",
    "# Boxplot for 'Purchase' vs 'Gender' with 'Stay_In_Current_City_Years' as hue\n",
    "sns.boxplot(data=custom_df, y='Purchase', x='Gender', hue='Stay_In_Current_City_Years', ax=axs[1, 1])\n",
    "\n",
    "# Adjust legend position\n",
    "axs[1, 1].legend(loc='upper left')\n",
    "\n",
    "# Show the plots\n",
    "plt.show()\n"
   ]
  },
  {
   "cell_type": "markdown",
   "metadata": {},
   "source": [
    "# Data Analysis"
   ]
  },
  {
   "cell_type": "markdown",
   "metadata": {},
   "source": [
    "Calculating the average amount spent per customer categorized by gender in a Pandas DataFrame named `avg_amt_custom_df` from the grouped and summed data in `custom_df`.\n"
   ]
  },
  {
   "cell_type": "code",
   "execution_count": null,
   "metadata": {},
   "outputs": [],
   "source": [
    "# Calculating the average amount spent per customer for Male and Female\n",
    "amt_custom_df = custom_df.groupby(['User_ID', 'Gender'])[['Purchase']].sum()\n",
    "avg_amt_custom_df = amt_custom_df.reset_index()\n",
    "avg_amt_custom_df\n"
   ]
  },
  {
   "cell_type": "code",
   "execution_count": null,
   "metadata": {},
   "outputs": [],
   "source": [
    "# Gender-wise value counts in avg_amt_custom_df\n",
    "avg_amt_custom_df['Gender'].value_counts()"
   ]
  },
  {
   "cell_type": "markdown",
   "metadata": {},
   "source": [
    "Creating a histogram in Matplotlib to visualize the distribution of average amounts spent by male and female customers, displayed on the same plot with distinct colors and labels."
   ]
  },
  {
   "cell_type": "code",
   "execution_count": null,
   "metadata": {},
   "outputs": [],
   "source": [
    "# Histogram of average amount spent for each customer - Male and Female on the same plot\n",
    "plt.hist(avg_amt_custom_df[avg_amt_custom_df['Gender'] == 'M']['Purchase'], bins=100, alpha=0.7, label='Male', color='#2196F3')\n",
    "plt.hist(avg_amt_custom_df[avg_amt_custom_df['Gender'] == 'F']['Purchase'], bins=100, alpha=0.7, label='Female', color='#FFC107')\n",
    "plt.legend(loc='upper right')\n",
    "plt.show()\n"
   ]
  },
  {
   "cell_type": "markdown",
   "metadata": {},
   "source": [
    "Calculating and printing the average amount spent by male and female customers, providing the results with two decimal places in a clear format."
   ]
  },
  {
   "cell_type": "code",
   "execution_count": null,
   "metadata": {},
   "outputs": [],
   "source": [
    "# Calculating and printing the average amount spent by Male and Female customers\n",
    "male_avg_custom = avg_amt_custom_df[avg_amt_custom_df['Gender'] == 'M']['Purchase'].mean()\n",
    "female_avg_custom = avg_amt_custom_df[avg_amt_custom_df['Gender'] == 'F']['Purchase'].mean()\n",
    "\n",
    "print(\"Average amount spend by Male customers: {:.2f}\".format(male_avg_custom))\n",
    "print(\"Average amount spend by Female customers: {:.2f}\".format(female_avg_custom))\n"
   ]
  },
  {
   "cell_type": "markdown",
   "metadata": {},
   "source": [
    "Filtering data for male and female customers in the `avg_amt_custom_df` DataFrame and conducting a simulation to generate the sampling distribution of means for male and female customers, with specified sample sizes and repetitions."
   ]
  },
  {
   "cell_type": "code",
   "execution_count": null,
   "metadata": {},
   "outputs": [],
   "source": [
    "# Filtering data for Male and Female customers in the custom DataFrame\n",
    "male_df_custom = avg_amt_custom_df[avg_amt_custom_df['Gender'] == 'M']\n",
    "female_df_custom = avg_amt_custom_df[avg_amt_custom_df['Gender'] == 'F']\n",
    "\n",
    "# Simulation for sampling distribution of means for Male and Female customers\n",
    "genders = [\"M\", \"F\"]\n",
    "male_sample_size = 1000\n",
    "female_sample_size = 500\n",
    "num_repitions = 800\n",
    "male_means = []\n",
    "female_means = []\n",
    "\n",
    "for _ in range(num_repitions):\n",
    "    male_mean = male_df_custom.sample(male_sample_size, replace=True)['Purchase'].mean()\n",
    "    female_mean = female_df_custom.sample(female_sample_size, replace=True)['Purchase'].mean()\n",
    "    male_means.append(male_mean)\n",
    "    female_means.append(female_mean)\n"
   ]
  },
  {
   "cell_type": "markdown",
   "metadata": {},
   "source": [
    "Creating subplots for histograms of the sampling distribution of means for male and female customers, along with printing population mean and statistics for male and female groups in terms of the amount spent."
   ]
  },
  {
   "cell_type": "code",
   "execution_count": null,
   "metadata": {},
   "outputs": [],
   "source": [
    "import numpy as np\n",
    "import matplotlib.pyplot as plt\n",
    "\n",
    "# Create subplots for histograms\n",
    "fig, axis = plt.subplots(nrows=1, ncols=2, figsize=(20, 6))\n",
    "axis[0].hist(male_means, bins=100, color='#2196F3', alpha=0.7)\n",
    "axis[1].hist(female_means, bins=100, color='#FFC107', alpha=0.7)\n",
    "axis[0].set_title(\"Male - Distribution of means, Sample size: 9500\")\n",
    "axis[1].set_title(\"Female - Distribution of means, Sample size: 8500\")\n",
    "plt.show()\n",
    "\n",
    "# Print population mean and statistics for Male and Female\n",
    "print(\"\\nPopulation mean - Mean of sample means of amount spent for Male: {:.2f}\".format(np.mean(male_means)))\n",
    "print(\"Population mean - Mean of sample means of amount spent for Female: {:.2f}\".format(np.mean(female_means)))\n",
    "\n",
    "print(\"\\nMale - Sample mean: {:.2f} Sample std: {:.2f}\".format(male_df_custom['Purchase'].mean(), male_df_custom['Purchase'].std()))\n",
    "print(\"Female - Sample mean: {:.2f} Sample std: {:.2f}\".format(female_df_custom['Purchase'].mean(), female_df_custom['Purchase'].std()))\n"
   ]
  },
  {
   "cell_type": "markdown",
   "metadata": {},
   "source": [
    "Calculating confidence intervals for the mean amount spent by male and female customers using the Central Limit Theorem (CLT) and providing the results with a confidence level of 90% (z-score of 1.64)."
   ]
  },
  {
   "cell_type": "code",
   "execution_count": null,
   "metadata": {},
   "outputs": [],
   "source": [
    "# Confidence interval calculation using Central Limit Theorem (CLT) for Male and Female\n",
    "male_margin_of_error_clt = 1.64 * male_df_custom['Purchase'].std() / np.sqrt(len(male_df_custom))\n",
    "male_sample_mean = male_df_custom['Purchase'].mean()\n",
    "male_lower_lim = male_sample_mean - male_margin_of_error_clt\n",
    "male_upper_lim = male_sample_mean + male_margin_of_error_clt\n",
    "\n",
    "female_margin_of_error_clt = 1.64 * female_df_custom['Purchase'].std() / np.sqrt(len(female_df_custom))\n",
    "female_sample_mean = female_df_custom['Purchase'].mean()\n",
    "female_lower_lim = female_sample_mean - female_margin_of_error_clt\n",
    "female_upper_lim = female_sample_mean + female_margin_of_error_clt\n",
    "\n",
    "print(\"Male confidence interval of means: ({:.2f}, {:.2f})\".format(male_lower_lim, male_upper_lim))\n",
    "print(\"Female confidence interval of means: ({:.2f}, {:.2f})\".format(female_lower_lim, female_upper_lim))\n"
   ]
  },
  {
   "cell_type": "markdown",
   "metadata": {},
   "source": [
    "Calculating confidence intervals for the mean amount spent by male and female customers using a 95% confidence level (z-score of 1.96) and displaying the results."
   ]
  },
  {
   "cell_type": "code",
   "execution_count": null,
   "metadata": {},
   "outputs": [],
   "source": [
    "# Confidence interval calculation using a 95% confidence level for Male and Female\n",
    "male_margin_of_error_clt = 1.96 * male_df_custom['Purchase'].std() / np.sqrt(len(male_df_custom))\n",
    "male_sample_mean = male_df_custom['Purchase'].mean()\n",
    "male_lower_lim = male_sample_mean - male_margin_of_error_clt\n",
    "male_upper_lim = male_sample_mean + male_margin_of_error_clt\n",
    "\n",
    "female_margin_of_error_clt = 1.96 * female_df_custom['Purchase'].std() / np.sqrt(len(female_df_custom))\n",
    "female_sample_mean = female_df_custom['Purchase'].mean()\n",
    "female_lower_lim = female_sample_mean - female_margin_of_error_clt\n",
    "female_upper_lim = female_sample_mean + female_margin_of_error_clt\n",
    "\n",
    "print(\"Male confidence interval of means: ({:.2f}, {:.2f})\".format(male_lower_lim, male_upper_lim))\n",
    "print(\"Female confidence interval of means: ({:.2f}, {:.2f})\".format(female_lower_lim, female_upper_lim))\n"
   ]
  },
  {
   "cell_type": "markdown",
   "metadata": {},
   "source": [
    "Calculating confidence intervals for the mean amount spent by male and female customers using a 99% confidence level (z-score of 2.58) and presenting the results."
   ]
  },
  {
   "cell_type": "code",
   "execution_count": null,
   "metadata": {},
   "outputs": [],
   "source": [
    "# Confidence interval calculation using a 99% confidence level for Male and Female\n",
    "male_margin_of_error_clt = 2.58 * male_df_custom['Purchase'].std() / np.sqrt(len(male_df_custom))\n",
    "male_sample_mean = male_df_custom['Purchase'].mean()\n",
    "male_lower_lim = male_sample_mean - male_margin_of_error_clt\n",
    "male_upper_lim = male_sample_mean + male_margin_of_error_clt\n",
    "\n",
    "female_margin_of_error_clt = 2.58 * female_df_custom['Purchase'].std() / np.sqrt(len(female_df_custom))\n",
    "female_sample_mean = female_df_custom['Purchase'].mean()\n",
    "female_lower_lim = female_sample_mean - female_margin_of_error_clt\n",
    "female_upper_lim = female_sample_mean + female_margin_of_error_clt\n",
    "\n",
    "print(\"Male confidence interval of means: ({:.2f}, {:.2f})\".format(male_lower_lim, male_upper_lim))\n",
    "print(\"Female confidence interval of means: ({:.2f}, {:.2f})\".format(female_lower_lim, female_upper_lim))\n",
    "\n"
   ]
  },
  {
   "cell_type": "markdown",
   "metadata": {},
   "source": [
    "Grouping the data by 'User_ID' and 'Marital_Status' in the Pandas DataFrame `custom_df`, then calculating the sum of 'Purchase' for each group and storing the result in the DataFrame `avg_amt_custom_df`."
   ]
  },
  {
   "cell_type": "code",
   "execution_count": null,
   "metadata": {},
   "outputs": [],
   "source": [
    "# Grouping by 'User_ID' and 'Marital_Status' and calculating the sum of 'Purchase'\n",
    "amt_custom_df = custom_df.groupby(['User_ID', 'Marital_Status'])[['Purchase']].sum()\n",
    "avg_amt_custom_df = amt_custom_df.reset_index()\n",
    "avg_amt_custom_df\n"
   ]
  },
  {
   "cell_type": "code",
   "execution_count": null,
   "metadata": {},
   "outputs": [],
   "source": [
    "avg_amt_custom_df['Marital_Status'].value_counts()"
   ]
  },
  {
   "cell_type": "markdown",
   "metadata": {},
   "source": [
    "Conducting a simulation to generate the sampling distribution of means for married and unmarried customers, with specified sample sizes and repetitions. Creating subplots for histograms of the sampling distribution and printing population mean and statistics for both groups in terms of the amount spent."
   ]
  },
  {
   "cell_type": "code",
   "execution_count": null,
   "metadata": {},
   "outputs": [],
   "source": [
    "# Simulation for sampling distribution of means for Married and Unmarried customers\n",
    "married_samp_size = 2000\n",
    "unmarried_samp_size = 1500\n",
    "num_repitions = 900\n",
    "married_means = []\n",
    "unmarried_means = []\n",
    "\n",
    "for _ in range(num_repitions):\n",
    "    married_mean = avg_amt_custom_df[avg_amt_custom_df['Marital_Status'] == 1].sample(married_samp_size, replace=True)['Purchase'].mean()\n",
    "    unmarried_mean = avg_amt_custom_df[avg_amt_custom_df['Marital_Status'] == 0].sample(unmarried_samp_size, replace=True)['Purchase'].mean()\n",
    "    married_means.append(married_mean)\n",
    "    unmarried_means.append(unmarried_mean)\n",
    "\n",
    "# Create subplots for histograms\n",
    "fig, axis = plt.subplots(nrows=1, ncols=2, figsize=(20, 6))\n",
    "axis[0].hist(married_means, bins=100, color='#2196F3', alpha=0.7)\n",
    "axis[1].hist(unmarried_means, bins=100, color='#FFC107', alpha=0.7)\n",
    "axis[0].set_title(\"Married - Distribution of means, Sample size: 3000\")\n",
    "axis[1].set_title(\"Unmarried - Distribution of means, Sample size: 2000\")\n",
    "plt.show()\n",
    "\n",
    "# Print population mean and statistics for Married and Unmarried\n",
    "print(\"\\nPopulation mean - Mean of sample means of amount spend for Married: {:.2f}\".format(np.mean(married_means)))\n",
    "print(\"Population mean - Mean of sample means of amount spend for Unmarried: {:.2f}\".format(np.mean(unmarried_means)))\n",
    "\n",
    "print(\"\\nMarried - Sample mean: {:.2f} Sample std: {:.2f}\".format(avg_amt_custom_df[avg_amt_custom_df['Marital_Status'] == 1]['Purchase'].mean(), avg_amt_custom_df[avg_amt_custom_df['Marital_Status'] == 1]['Purchase'].std()))\n",
    "print(\"Unmarried - Sample mean: {:.2f} Sample std: {:.2f}\".format(avg_amt_custom_df[avg_amt_custom_df['Marital_Status'] == 0]['Purchase'].mean(), avg_amt_custom_df[avg_amt_custom_df['Marital_Status'] == 0]['Purchase'].std()))\n"
   ]
  },
  {
   "cell_type": "markdown",
   "metadata": {},
   "source": [
    "Calculating confidence intervals for the mean amount spent by married and unmarried customers separately using the Central Limit Theorem (CLT) and displaying the results with a confidence level of 90% (z-score of 1.64)."
   ]
  },
  {
   "cell_type": "code",
   "execution_count": null,
   "metadata": {},
   "outputs": [],
   "source": [
    "# Confidence interval calculation using Central Limit Theorem (CLT) for Married and Unmarried\n",
    "for val in [\"Married\", \"Unmarried\"]:\n",
    "    new_val = 1 if val == \"Married\" else 0\n",
    "    new_df_custom = avg_amt_custom_df[avg_amt_custom_df['Marital_Status'] == new_val]\n",
    "    margin_of_error_clt = 1.64 * new_df_custom['Purchase'].std() / np.sqrt(len(new_df_custom))\n",
    "    sample_mean = new_df_custom['Purchase'].mean()\n",
    "    lower_lim = sample_mean - margin_of_error_clt\n",
    "    upper_lim = sample_mean + margin_of_error_clt\n",
    "    print(\"{} confidence interval of means: ({:.2f}, {:.2f})\".format(val, lower_lim, upper_lim))\n"
   ]
  },
  {
   "cell_type": "markdown",
   "metadata": {},
   "source": [
    "Calculating confidence intervals for the mean amount spent by married and unmarried customers separately using a 99% confidence level (z-score of 2.58) and presenting the results.\n"
   ]
  },
  {
   "cell_type": "code",
   "execution_count": null,
   "metadata": {},
   "outputs": [],
   "source": [
    "# Confidence interval calculation using a 99% confidence level for Married and Unmarried\n",
    "for val in [\"Married\", \"Unmarried\"]:\n",
    "    new_val = 1 if val == \"Married\" else 0\n",
    "    new_df_custom = avg_amt_custom_df[avg_amt_custom_df['Marital_Status'] == new_val]\n",
    "    margin_of_error_clt = 2.58 * new_df_custom['Purchase'].std() / np.sqrt(len(new_df_custom))\n",
    "    sample_mean = new_df_custom['Purchase'].mean()\n",
    "    lower_lim = sample_mean - margin_of_error_clt\n",
    "    upper_lim = sample_mean + margin_of_error_clt\n",
    "    print(\"{} confidence interval of means: ({:.2f}, {:.2f})\".format(val, lower_lim, upper_lim))\n"
   ]
  },
  {
   "cell_type": "markdown",
   "metadata": {},
   "source": [
    "Grouping the data by 'User_ID' and 'Age' in the Pandas DataFrame `custom_df`, then calculating the sum of 'Purchase' for each group and storing the result in the DataFrame `avg_amt_custom_df`."
   ]
  },
  {
   "cell_type": "code",
   "execution_count": null,
   "metadata": {},
   "outputs": [],
   "source": [
    "# Grouping by 'User_ID' and 'Age' and calculating the sum of 'Purchase'\n",
    "amt_custom_df = custom_df.groupby(['User_ID', 'Age'])[['Purchase']].sum()\n",
    "avg_amt_custom_df = amt_custom_df.reset_index()\n",
    "avg_amt_custom_df"
   ]
  },
  {
   "cell_type": "code",
   "execution_count": null,
   "metadata": {},
   "outputs": [],
   "source": [
    "# Age-wise value counts in avg_amt_custom_df\n",
    "avg_amt_custom_df['Age'].value_counts()\n"
   ]
  },
  {
   "cell_type": "markdown",
   "metadata": {},
   "source": [
    "Conducting a simulation to generate the sampling distribution of means for each age group in the Pandas DataFrame `avg_amt_custom_df`, with a specified sample size and number of repetitions. The results are stored in the dictionary `all_means` where each age group has a list of means."
   ]
  },
  {
   "cell_type": "code",
   "execution_count": null,
   "metadata": {},
   "outputs": [],
   "source": [
    "# Simulation for sampling distribution of means for each Age group\n",
    "sample_size = 200\n",
    "num_repitions = 1000\n",
    "all_means = {}\n",
    "age_intervals = ['26-35', '36-45', '18-25', '46-50', '51-55', '55+', '0-17']\n",
    "\n",
    "for age_interval in age_intervals:\n",
    "    all_means[age_interval] = []\n",
    "\n",
    "for age_interval in age_intervals:\n",
    "    for _ in range(num_repitions):\n",
    "        mean = avg_amt_custom_df[avg_amt_custom_df['Age'] == age_interval].sample(sample_size, replace=True)['Purchase'].mean()\n",
    "        all_means[age_interval].append(mean)\n",
    "\n",
    "print(all_means)"
   ]
  },
  {
   "cell_type": "markdown",
   "metadata": {},
   "source": [
    "Calculating confidence intervals for the mean amount spent in each age group using the Central Limit Theorem (CLT) with a confidence level of 90% (z-score of 1.64) and presenting the results."
   ]
  },
  {
   "cell_type": "code",
   "execution_count": null,
   "metadata": {},
   "outputs": [],
   "source": [
    "# Confidence interval calculation using Central Limit Theorem (CLT) for each Age group\n",
    "for val in ['26-35', '36-45', '18-25', '46-50', '51-55', '55+', '0-17']:\n",
    "    new_df_custom = avg_amt_custom_df[avg_amt_custom_df['Age'] == val]\n",
    "    margin_of_error_clt = 1.64 * new_df_custom['Purchase'].std() / np.sqrt(len(new_df_custom))\n",
    "    sample_mean = new_df_custom['Purchase'].mean()\n",
    "    lower_lim = sample_mean - margin_of_error_clt\n",
    "    upper_lim = sample_mean + margin_of_error_clt\n",
    "    print(\"For age {}, confidence interval of means: ({:.2f}, {:.2f})\".format(val, lower_lim, upper_lim))\n"
   ]
  },
  {
   "cell_type": "markdown",
   "metadata": {},
   "source": [
    "Calculating confidence intervals for the mean amount spent in each age group using a 95% confidence level (z-score of 1.96) and presenting the results."
   ]
  },
  {
   "cell_type": "code",
   "execution_count": null,
   "metadata": {},
   "outputs": [],
   "source": [
    "# Confidence interval calculation using a 95% confidence level for each Age group\n",
    "for val in ['26-35', '36-45', '18-25', '46-50', '51-55', '55+', '0-17']:\n",
    "    new_df_custom = avg_amt_custom_df[avg_amt_custom_df['Age'] == val]\n",
    "    margin_of_error_clt = 1.96 * new_df_custom['Purchase'].std() / np.sqrt(len(new_df_custom))\n",
    "    sample_mean = new_df_custom['Purchase'].mean()\n",
    "    lower_lim = sample_mean - margin_of_error_clt\n",
    "    upper_lim = sample_mean + margin_of_error_clt\n",
    "    print(\"For age {}, confidence interval of means: ({:.2f}, {:.2f})\".format(val, lower_lim, upper_lim))\n"
   ]
  },
  {
   "cell_type": "markdown",
   "metadata": {},
   "source": [
    "Calculating confidence intervals for the mean amount spent in each age group using a 99% confidence level (z-score of 2.58) and presenting the results."
   ]
  },
  {
   "cell_type": "code",
   "execution_count": null,
   "metadata": {},
   "outputs": [],
   "source": [
    "# Confidence interval calculation using a 99% confidence level for each Age group\n",
    "for val in ['26-35', '36-45', '18-25', '46-50', '51-55', '55+', '0-17']:\n",
    "    new_df_custom = avg_amt_custom_df[avg_amt_custom_df['Age'] == val]\n",
    "    margin_of_error_clt = 2.58 * new_df_custom['Purchase'].std() / np.sqrt(len(new_df_custom))\n",
    "    sample_mean = new_df_custom['Purchase'].mean()\n",
    "    lower_lim = sample_mean - margin_of_error_clt\n",
    "    upper_lim = sample_mean + margin_of_error_clt\n",
    "    print(\"For age {}, confidence interval of means: ({:.2f}, {:.2f})\".format(val, lower_lim, upper_lim))\n"
   ]
  },
  {
   "cell_type": "markdown",
   "metadata": {},
   "source": [
    "# Concluding Observations\n",
    "Upon thorough examination of the data, we have derived significant observations regarding customer expenditure trends, considering factors such as age, gender, marital status, city category, and product categories."
   ]
  },
  {
   "cell_type": "markdown",
   "metadata": {},
   "source": [
    "### Actionable Insights\n",
    "\n",
    "Analyzing the Age feature, it was observed that approximately 80% of customers in the age group 25-40 (40%: 26-35, 18%: 18-25, 20%: 36-45) tend to exhibit higher spending patterns. \n",
    "\n",
    "Regarding the Gender feature, around 75% of purchases are made by male customers, while the remaining 25% is attributed to female customers. This indicates that male consumers significantly contribute to the retail store's sales volume. On average, males tend to spend more on purchases compared to females, as evidenced by the average amounts spent: 9,25,408.28 for males and 7,12,217.18 for females.\n",
    "\n",
    "Combining Purchase and Marital_Status for analysis (60% single, 40% married), it was found that single men tend to spend the most during Black Friday. This also suggests that men generally reduce their spending once they are married, possibly due to added responsibilities.\n",
    "\n",
    "An interesting observation was made in the Stay_In_Current_City_Years column, revealing that people who have spent 1 year in the city tend to spend the most. This trend is understandable, as those who have spent more than 4 years in the city are usually well settled and less inclined to make new purchases compared to newcomers (35% staying for 1 year, 18% for 2 years, 17% for 3 years).\n",
    "\n",
    "Examining the City_Category, although city B contributes significantly to overall sales income, the specific product mentioned is predominantly purchased in city C.\n",
    "\n",
    "Among the 20 product_categories, Product_Category 1, 5, 8, and 11 exhibit the highest purchasing frequency.\n",
    "\n",
    "Lastly, there are 20 different types of occupations in the city."
   ]
  },
  {
   "cell_type": "code",
   "execution_count": null,
   "metadata": {},
   "outputs": [],
   "source": []
  }
 ],
 "metadata": {},
 "nbformat": 4,
 "nbformat_minor": 2
}
