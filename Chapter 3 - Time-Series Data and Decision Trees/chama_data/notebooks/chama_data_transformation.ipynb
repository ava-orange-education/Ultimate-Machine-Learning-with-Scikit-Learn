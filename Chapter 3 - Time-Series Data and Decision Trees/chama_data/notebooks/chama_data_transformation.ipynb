{
 "cells": [
  {
   "cell_type": "markdown",
   "metadata": {},
   "source": [
    "# Event Data Analysis & Transformation"
   ]
  },
  {
   "cell_type": "markdown",
   "metadata": {},
   "source": [
    "## Table Of Contents\n",
    "\n",
    "* [Business Problem Statement](#business-problem-statement)\n",
    "* [Objectives](#objectives)\n",
    "* [Data Description](#data-description)\n",
    "* [Data Exploration](#data-exploration)\n",
    "* [DynamicPriceOption](#dynamicpriceoption)\n",
    "* [DynamicPriceRange](#dynamicpricerange)\n",
    "* [CurratedOfferoptions](#curratedofferoptions)"
   ]
  },
  {
   "cell_type": "markdown",
   "metadata": {},
   "source": [
    "<a name=\"business-problem-statement\"></a>\n",
    "# Business Problem Statement:\n",
    "\n",
    "The organization encounters a challenge in structuring event data received in JSON format into tables. The objective is to convert the provided \"case.json\" file into three distinct CSV files, adhering to specific formatting rules for each file. The transformation involves creating tables for CuratedOfferOptions, DynamicPriceOption, and DynamicPriceRange.\n",
    "\n",
    "1. CuratedOfferOptions.csv:\n",
    "\n",
    "    CurationProvider, OfferId, DealerId, UniqueOptionId, OptionId: Enclosed in quotes.\n",
    "    IsMobileDealer, IsOpen, ChamaScore, MinimumPrice, MaximumPrice, DynamicPrice, FinalPrice: Without quotes.\n",
    "    DefeatPrimaryReason, DefeatReasons: Enclosed in quotes.\n",
    "    Eta, EnqueuedTimeSP: Enclosed in quotes and converted to Brazilian timezone (UTC-3) in DD/MM/YYYY format.\n",
    "    \n",
    "2. DynamicPriceOption.csv:\n",
    "\n",
    "    Provider, OfferId, UniqueOptionId: Enclosed in quotes.\n",
    "    BestPrice, EnqueuedTimeSP: Without quotes.\n",
    "    \n",
    "2. DynamicPriceRange.csv:\n",
    "\n",
    "    Provider, OfferId: Enclosed in quotes.\n",
    "    MinGlobal, MinRecommended, MaxRecommended, DifferenceMinRecommendMinTheory, EnqueuedTimeSP: Without quotes.\n",
    "    \n",
    "The initial step is to explore the provided \"case.json\" file and comprehend its structure. Understanding the JSON data will aid in devising an effective strategy for the subsequent transformations. This exploration phase ensures that the solution is tailored to the specific needs of the company and that the resulting CSV files meet the outlined requirements."
   ]
  },
  {
   "cell_type": "markdown",
   "metadata": {},
   "source": [
    "<div style=\"text-align:center\">\n",
    "    <img src=\"https://d2908q01vomqb2.cloudfront.net/f6e1126cedebf23e1463aee73f9df08783640400/2021/07/16/BlogIngestData.png\" alt=\"Image Alt Text\" />\n",
    "</div>\n"
   ]
  },
  {
   "cell_type": "markdown",
   "metadata": {},
   "source": [
    "<a name=\"objectives\"></a>\n",
    "# Objectives\n",
    "\n",
    "The objective is to process and transform JSON data into three distinct CSV files, namely CuratedOfferOptions.csv, DynamicPriceOption.csv, and DynamicPriceRange.csv, adhering to specific formatting rules outlined in the task."
   ]
  },
  {
   "cell_type": "markdown",
   "metadata": {},
   "source": [
    "<a name=\"data-description\"></a>\n",
    "# Data Description:\n",
    "\n",
    "Data Description:\n",
    "\n",
    "The dataset is provided in a file named case.json, and each record within this file follows a specific format, as illustrated by the example below:\n",
    "\n",
    "1. **EnqueuedTimeUtc:** Indicates the timestamp of the event in the UTC timezone (e.g., \"2021-09-05 08:04:08 UTC\").\n",
    "\n",
    "2. **EventName:** Describes the type of event (e.g., \"DynamicPrice_Result\").\n",
    "\n",
    "3. **Payload:** Contains a JSON-formatted string encapsulated within double quotes, representing additional details related to the event. The example shows a snippet where the provider is \"ApplyDynamicPriceRange,\" and an associated offerId is provided.\n"
   ]
  },
  {
   "cell_type": "markdown",
   "metadata": {},
   "source": [
    "<a name=\"data-exploration\"></a>\n",
    "# Data Exploration:\n",
    "Import neccessary libraries and  Read JSON file into a DataFrame"
   ]
  },
  {
   "cell_type": "code",
   "execution_count": 2,
   "metadata": {},
   "outputs": [],
   "source": [
    "import pandas as pd\n",
    "import json\n",
    "\n",
    "# Read JSON file into a DataFrame\n",
    "data_frame = pd.read_json(path_or_buf=\"case.json\")"
   ]
  },
  {
   "cell_type": "markdown",
   "metadata": {},
   "source": [
    " Sampling 10 rows with random state for reproducibility"
   ]
  },
  {
   "cell_type": "code",
   "execution_count": 4,
   "metadata": {},
   "outputs": [],
   "source": [
    "# Sample 10 rows with random state for reproducibility\n",
    "sampled_data_frame = data_frame.sample(n=10, random_state=42)"
   ]
  },
  {
   "cell_type": "markdown",
   "metadata": {},
   "source": [
    "Extracting 'EnqueuedTimeUtc' from dataframe & transofrming it into brazillion timezoe"
   ]
  },
  {
   "cell_type": "code",
   "execution_count": 5,
   "metadata": {},
   "outputs": [],
   "source": [
    "# Transform to Brazilian timezone\n",
    "sampled_data_frame[\"EnqueuedTimeUtc\"] = pd.to_datetime(arg=sampled_data_frame[\"EnqueuedTimeUtc\"]).dt.tz_convert(tz=\"Brazil/East\")\n"
   ]
  },
  {
   "cell_type": "markdown",
   "metadata": {},
   "source": [
    "<a name=\"dynamicpriceoption\"></a>\n",
    "# DynamicPriceOption"
   ]
  },
  {
   "cell_type": "markdown",
   "metadata": {},
   "source": [
    "selecting rows from the original DataFrame(sampled_data_frame) where the \"EventName\" column has the value \"DynamicPrice_Result\" and it creates a new DataFrame (dynamic_price_events) containing only these selected rows"
   ]
  },
  {
   "cell_type": "code",
   "execution_count": 7,
   "metadata": {},
   "outputs": [],
   "source": [
    "# Select events related to dynamic price\n",
    "dynamic_price_events = sampled_data_frame[sampled_data_frame[\"EventName\"] == \"DynamicPrice_Result\"]"
   ]
  },
  {
   "cell_type": "markdown",
   "metadata": {},
   "source": [
    "the function 'transform_dynamic_price_option' processes a DataFrame row containing dynamic price option data, extracts relevant information, and organizes it into a structured format for further analysis or storage.\n",
    "\n",
    "\n",
    "\n",
    "\n",
    "\n",
    "\n"
   ]
  },
  {
   "cell_type": "code",
   "execution_count": 8,
   "metadata": {},
   "outputs": [],
   "source": [
    "# Extract dynamic price option information\n",
    "def transform_dynamic_price_option(row):\n",
    "    \"\"\"Transform the JSON payload into a dynamic price option dataframe.\"\"\"\n",
    "    enqueued_time = row[\"EnqueuedTimeUtc\"].to_pydatetime().strftime(\"%d/%m/%y\")\n",
    "    payload_row = row[\"Payload\"]\n",
    "    payload_row = json.loads(payload_row)\n",
    "    result = []\n",
    "\n",
    "    if payload_row[\"provider\"] == \"ApplyDynamicPricePerOption\":\n",
    "        provider = f\"\\\"{payload_row['provider']}\\\"\"\n",
    "        offer_id = f\"\\\"{payload_row['offerId']}\\\"\"\n",
    "        \n",
    "        for unique_option in payload_row[\"algorithmOutput\"]:\n",
    "            price_option = {\n",
    "                \"Provider\": provider,\n",
    "                \"OfferId\": offer_id,\n",
    "                \"UniqueOptionId\": f\"\\\"{unique_option['uniqueOptionId']}\\\"\",\n",
    "                \"BestPrice\": unique_option[\"bestPrice\"],\n",
    "                \"EnqueuedTimeSP\": enqueued_time\n",
    "            }\n",
    "            result.append(price_option)\n",
    "    \n",
    "    return result"
   ]
  },
  {
   "cell_type": "markdown",
   "metadata": {},
   "source": [
    "code is transforming each row of the dynamic_price_events DataFrame using the transform_dynamic_price_option function, and the resulting list of dictionaries is stored in dynamic_price_option_list. Each dictionary in this list represents the structured transformation of dynamic price option data from the corresponding row in the original DataFrame."
   ]
  },
  {
   "cell_type": "code",
   "execution_count": 11,
   "metadata": {},
   "outputs": [],
   "source": [
    "# Apply the function to the DataFrame\n",
    "dynamic_price_option_list = dynamic_price_events.apply(transform_dynamic_price_option, axis=1)"
   ]
  },
  {
   "cell_type": "markdown",
   "metadata": {},
   "source": [
    "This process effectively flattens the nested structure, making it a one-dimensional list of dictionaries containing dynamic price option data."
   ]
  },
  {
   "cell_type": "code",
   "execution_count": 12,
   "metadata": {},
   "outputs": [],
   "source": [
    "# Flatten the list of dictionaries\n",
    "flattened_dynamic_price_option = [x for xs in dynamic_price_option_list for x in xs]"
   ]
  },
  {
   "cell_type": "markdown",
   "metadata": {},
   "source": [
    "creating a Pandas DataFrame from the previously flattened list , which contains information about dynamic price options. Subsequently, the DataFrame is being saved to a CSV file "
   ]
  },
  {
   "cell_type": "code",
   "execution_count": 13,
   "metadata": {},
   "outputs": [],
   "source": [
    "# Create DataFrame from the flattened list and save to CSV\n",
    "dynamic_price_option_df = pd.DataFrame(flattened_dynamic_price_option)\n",
    "dynamic_price_option_df.to_csv(\"transformed_option_payload.csv\", index=False)"
   ]
  },
  {
   "cell_type": "markdown",
   "metadata": {},
   "source": [
    "<a name=\"dynamicpricerange\"></a>\n",
    "# DynamicPriceRange"
   ]
  },
  {
   "cell_type": "markdown",
   "metadata": {},
   "source": [
    "This code defines a function transform_dynamic_price_range that takes a row from a DataFrame, processes the JSON payload in the row, and transforms it into a dynamic price range DataFrame. The resulting DataFrame contains information about the dynamic price range, including provider, offer ID, minimum global and recommended prices, maximum recommended price, the difference between minimum recommended and theoretical minimum prices, and the enqueued time in a specific format. The function returns a list containing this information for further processing"
   ]
  },
  {
   "cell_type": "code",
   "execution_count": 14,
   "metadata": {},
   "outputs": [],
   "source": [
    "# Extract dynamic price range information\n",
    "def transform_dynamic_price_range(row):\n",
    "    \"\"\"Transform the JSON payload into a dynamic price range dataframe.\"\"\"\n",
    "    enqueued_time = row[\"EnqueuedTimeUtc\"].to_pydatetime().strftime(\"%d/%m/%y\")\n",
    "    payload_row = row[\"Payload\"]\n",
    "    payload_row = json.loads(payload_row)\n",
    "    result = []\n",
    "\n",
    "    if payload_row[\"provider\"] == \"ApplyDynamicPriceRange\":\n",
    "        provider = f\"\\\"{payload_row['provider']}\\\"\"\n",
    "        offer_id = f\"\\\"{payload_row['offerId']}\\\"\"\n",
    "        algorithm_output = payload_row[\"algorithmOutput\"]\n",
    "        \n",
    "        price_range = {\n",
    "            \"Provider\": provider,\n",
    "            \"OfferId\": offer_id,\n",
    "            \"MinGlobal\": algorithm_output[\"min_global\"],\n",
    "            \"MinRecommended\": algorithm_output[\"min_recommended\"],\n",
    "            \"MaxRecommended\": algorithm_output[\"max_recommended\"],\n",
    "            \"DifferenceMinRecommendMinTheory\": algorithm_output[\"differenceMinRecommendMinTheory\"],\n",
    "            \"EnqueuedTimeSP\": enqueued_time\n",
    "        }\n",
    "        result.append(price_range)\n",
    "\n",
    "    return result"
   ]
  },
  {
   "cell_type": "markdown",
   "metadata": {},
   "source": [
    " applying the transform_dynamic_price_range function to each row in the DataFrame along the specified axis . It creates a list  containing the transformed dynamic price range information for each row in the DataFrame."
   ]
  },
  {
   "cell_type": "code",
   "execution_count": 15,
   "metadata": {},
   "outputs": [],
   "source": [
    "# Apply the function to the DataFrame\n",
    "dynamic_price_range_list = dynamic_price_events.apply(transform_dynamic_price_range, axis=1)"
   ]
  },
  {
   "cell_type": "markdown",
   "metadata": {},
   "source": [
    "flattens the list of dictionaries  into a single list. It concatenates the dictionaries from each row into one flat list."
   ]
  },
  {
   "cell_type": "code",
   "execution_count": 18,
   "metadata": {},
   "outputs": [],
   "source": [
    "\n",
    "# Flatten the list of dictionaries\n",
    "flattened_dynamic_price_range = [x for xs in dynamic_price_range_list for x in xs]"
   ]
  },
  {
   "cell_type": "markdown",
   "metadata": {},
   "source": [
    " creates a DataFramefrom the flattened list of dictionaries and then saves it to a CSV file "
   ]
  },
  {
   "cell_type": "code",
   "execution_count": 29,
   "metadata": {},
   "outputs": [],
   "source": [
    "# Create DataFrame from the flattened list and save to CSV\n",
    "dynamic_price_range_df = pd.DataFrame(flattened_dynamic_price_range)\n",
    "dynamic_price_range_df.to_csv(\"transformed_price_payload.csv\", index=False)"
   ]
  },
  {
   "cell_type": "markdown",
   "metadata": {},
   "source": [
    "<a name=\"curratedofferoptions\"></a>\n",
    "# CurratedOfferOptions"
   ]
  },
  {
   "cell_type": "markdown",
   "metadata": {},
   "source": [
    " filtering events in the DataFrame to include only those related to curated offers by selecting rows where the \"EventName\" column is equal to \"CurateOffer_Result\"."
   ]
  },
  {
   "cell_type": "code",
   "execution_count": 20,
   "metadata": {},
   "outputs": [],
   "source": [
    "\n",
    "# Select events related to curated offers\n",
    "curated_offers = sampled_data_frame[sampled_data_frame[\"EventName\"] == \"CurateOffer_Result\"]"
   ]
  },
  {
   "cell_type": "markdown",
   "metadata": {},
   "source": [
    "This function extracts information from the JSON payload in the \"Payload\" column of a DataFrame row. The extracted information is related to curated offers, and the function returns a list of dictionaries containing the transformed data. The data includes details about curation providers, offer IDs, dealer IDs, and various properties of curated offer options. If available, defeat reasons are also included in the result."
   ]
  },
  {
   "cell_type": "code",
   "execution_count": 21,
   "metadata": {},
   "outputs": [],
   "source": [
    "\n",
    "# Extract curated offer information\n",
    "def transform_curated_offer(row):\n",
    "    \"\"\"Transform JSON payload into curated offer dataframe.\"\"\"\n",
    "    enqueued_time = row[\"EnqueuedTimeUtc\"].to_pydatetime().strftime(\"%d/%m/%y\")\n",
    "    payload_row = row[\"Payload\"]\n",
    "    payload_row = json.loads(payload_row)\n",
    "    result = []\n",
    "\n",
    "    for el in payload_row:\n",
    "        curation_provider = f\"\\\"{el['curationProvider']}\\\"\"\n",
    "        offer_id = f\"\\\"{el['offerId']}\\\"\"\n",
    "        dealer_id = f\"\\\"{el['dealerId']}\\\"\"\n",
    "\n",
    "        for option in el[\"options\"]:\n",
    "            offer_options = {\n",
    "                \"CurationProvider\": curation_provider,\n",
    "                \"OfferId\": offer_id,\n",
    "                \"DealerId\": dealer_id,\n",
    "                \"UniqueOptionId\": f\"\\\"{option['uniqueOptionId']}\\\"\",\n",
    "                \"OptionId\": f\"\\\"{option['optionId']}\\\"\",\n",
    "                \"IsMobileDealer\": option[\"isMobileDealer\"],\n",
    "                \"IsOpen\": option[\"isOpen\"],\n",
    "                \"Eta\": f\"\\\"{option['eta']}\\\"\",\n",
    "                \"ChamaScore\": option[\"chamaScore\"],\n",
    "                \"ProductBrand\": f\"\\\"{option['productBrand']}\\\"\",\n",
    "                \"IsWinner\": option[\"isWinner\"],\n",
    "                \"MinimumPrice\": option[\"minimumPrice\"],\n",
    "                \"MaximumPrice\": option[\"maximumPrice\"],\n",
    "                \"DynamicPrice\": option[\"dynamicPrice\"],\n",
    "                \"FinalPrice\": option[\"finalPrice\"]\n",
    "            }\n",
    "\n",
    "            if \"defeatPrimaryReason\" in option:\n",
    "                offer_options[\"DefeatPrimaryReason\"] = f\"\\\"{option['defeatPrimaryReason']}\\\"\"\n",
    "                offer_options[\"DefeatReasons\"] = f\"\\\"{option['defeatReasons']}\\\"\"\n",
    "\n",
    "            result.append(offer_options)\n",
    "\n",
    "    return result\n"
   ]
  },
  {
   "cell_type": "markdown",
   "metadata": {},
   "source": [
    " applying transform_curated_offer function to each row of the DataFrame curated_offers to generates a list of dictionaries containing transformed information about curated offers for each row in the DataFrame."
   ]
  },
  {
   "cell_type": "code",
   "execution_count": 22,
   "metadata": {},
   "outputs": [],
   "source": [
    "# Apply the function to the DataFrame\n",
    "curated_offer_list = curated_offers.apply(transform_curated_offer, axis=1)"
   ]
  },
  {
   "cell_type": "markdown",
   "metadata": {},
   "source": [
    "flattening list of dictionaries into a single list which represents the transformed information about curated offers."
   ]
  },
  {
   "cell_type": "code",
   "execution_count": 23,
   "metadata": {},
   "outputs": [],
   "source": [
    "# Flatten the list of dictionaries\n",
    "flattened_curated_offer = [x for xs in curated_offer_list for x in xs]"
   ]
  },
  {
   "cell_type": "markdown",
   "metadata": {},
   "source": [
    "creating DataFrame from the flattened list of dictionaries, which contains information about curated offers."
   ]
  },
  {
   "cell_type": "code",
   "execution_count": 24,
   "metadata": {},
   "outputs": [],
   "source": [
    "\n",
    "# Create DataFrame from the flattened list\n",
    "curated_offer_df = pd.DataFrame(flattened_curated_offer)"
   ]
  },
  {
   "cell_type": "markdown",
   "metadata": {},
   "source": [
    "Saving the curated offer DataFrame to a CSV file without including the index column."
   ]
  },
  {
   "cell_type": "code",
   "execution_count": 30,
   "metadata": {},
   "outputs": [],
   "source": [
    "\n",
    "# Save to CSV\n",
    "curated_offer_df.to_csv(\"curated_options_output.csv\", index=False)\n"
   ]
  },
  {
   "cell_type": "code",
   "execution_count": null,
   "metadata": {},
   "outputs": [],
   "source": []
  }
 ],
 "metadata": {
  "kernelspec": {
   "display_name": "Python 3 (ipykernel)",
   "language": "python",
   "name": "python3"
  },
  "language_info": {
   "codemirror_mode": {
    "name": "ipython",
    "version": 3
   },
   "file_extension": ".py",
   "mimetype": "text/x-python",
   "name": "python",
   "nbconvert_exporter": "python",
   "pygments_lexer": "ipython3",
   "version": "3.8.10"
  }
 },
 "nbformat": 4,
 "nbformat_minor": 2
}
