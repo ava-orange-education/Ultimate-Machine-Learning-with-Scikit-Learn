{
 "cells": [
  {
   "cell_type": "markdown",
   "metadata": {},
   "source": [
    "# Website Traffic Analysis"
   ]
  },
  {
   "cell_type": "markdown",
   "metadata": {},
   "source": [
    "## Table Of Contents\n",
    "\n",
    "* [Business Problem Statement](#business-problem-statement)\n",
    "* [Data Description](#data-description)\n",
    "* [Exploratory Data Analysis](#exploratory-data-analysis)\n",
    "* [Question 1](#question-1)\n",
    "* [Question 2](#question-2)\n",
    "* [Question 3](#question-3)\n",
    "* [Question 4](#question-4)\n",
    "* [Question 5](#question-5)\n",
    "* [Question 6](#question-6)"
   ]
  },
  {
   "cell_type": "markdown",
   "metadata": {},
   "source": [
    "<a name=\"business-problem-statement\"></a>\n",
    "# Business Problem Statement:\n",
    "\n",
    "The given dataset  encompasses web traffic information  from multiple pages spanning a duration of 7 days. It includes diverse categorical attributes regarding the geographical source of the traffic and the content of each page denoted by the isrc identifier. The primary objective is to gain deeper insights into this web traffic, specifically focusing on the quantity and distribution of events. Additionally, the aim is to formulate strategies for enhancing the click rates of the links. To achieve this, a comprehensive analysis of the dataset is requested, utilizing Python libraries such as Pandas and SciPy as needed, and providing responses to the presented analytical questions."
   ]
  },
  {
   "cell_type": "markdown",
   "metadata": {},
   "source": [
    "![Image](https://easyinsights.ai/easyinsights_wordpress/wp-content/uploads/2022/01/How-to-define-Quality-User-to-Optimize-E-Commerce-Campaigns-and-Boost-Sales-3-1.jpg)\n"
   ]
  },
  {
   "cell_type": "markdown",
   "metadata": {},
   "source": [
    "<a name=\"data-description\"></a>\n",
    "# Data Description:\n",
    "\n",
    "The provided dataset, named traffic.csv, encompasses web traffic data denoted as \"events\" originating from diverse pages referred to as \"links.\" This dataset spans a period of 7 days and incorporates various categorical dimensions related to the geographic origin of the traffic. The dataset also provides insights into a page's content, identified by the isrc identifier.\n",
    "\n",
    "The primary focus of this analysis is on conducting a comprehensive examination of website traffic patterns, aiming to derive meaningful insights. The dataset will be scrutinized using analytical approaches, and potential patterns or trends in the web traffic data will be explored. This analysis involves a combination of solution discussions, coding, and responses to both coding and non-coding questions.\n",
    "\n",
    "For the analysis, Python libraries such as Pandas and Scipy will be employed. These libraries offer robust functionalities for data manipulation, statistical calculations, and numerical operations, contributing to a thorough exploration of the web traffic dataset."
   ]
  },
  {
   "cell_type": "markdown",
   "metadata": {},
   "source": [
    "<a name=\"exploratory-data-analysis\"></a>\n",
    "# Exploratory Data Analysis:\n",
    "\n",
    "We'll initiate the process by importing the essential libraries. Pandas will be utilized for creating and analyzing the dataset, while Scipy will play a role in computing certain statistical measures. Additionally, we may leverage the Numpy library for specific mathematical operations, given its widespread use in Python for numerical computations."
   ]
  },
  {
   "cell_type": "code",
   "execution_count": 4,
   "metadata": {},
   "outputs": [],
   "source": [
    "# Import libraries: pandas and scipy are required, numpy will come in handy\n",
    "import pandas as pd\n",
    "import numpy as np\n",
    "from scipy import stats"
   ]
  },
  {
   "cell_type": "code",
   "execution_count": 5,
   "metadata": {},
   "outputs": [],
   "source": [
    "# Modify this to point to the downloaded CSV file\n",
    "CSV_FILE_PATH = \"traffic.csv\"\n",
    "\n",
    "# Load the dataset\n",
    "traffic_df = pd.read_csv(CSV_FILE_PATH)"
   ]
  },
  {
   "cell_type": "markdown",
   "metadata": {},
   "source": [
    "The shape and 'head' of a DataFrame are fundamental methods often employed when working with the Pandas library. The shape method outputs the number of columns and rows in the data as a tuple. On the other hand, the 'head' method displays the first n (5 by default) rows of the dataset. These methods are useful for obtaining an initial sense of the dataset's structure and content.\n",
    "\n",
    "\n",
    "\n",
    "\n",
    "\n",
    "\n"
   ]
  },
  {
   "cell_type": "code",
   "execution_count": 6,
   "metadata": {},
   "outputs": [
    {
     "data": {
      "text/html": [
       "<div>\n",
       "<style scoped>\n",
       "    .dataframe tbody tr th:only-of-type {\n",
       "        vertical-align: middle;\n",
       "    }\n",
       "\n",
       "    .dataframe tbody tr th {\n",
       "        vertical-align: top;\n",
       "    }\n",
       "\n",
       "    .dataframe thead th {\n",
       "        text-align: right;\n",
       "    }\n",
       "</style>\n",
       "<table border=\"1\" class=\"dataframe\">\n",
       "  <thead>\n",
       "    <tr style=\"text-align: right;\">\n",
       "      <th></th>\n",
       "      <th>event</th>\n",
       "      <th>date</th>\n",
       "      <th>country</th>\n",
       "      <th>city</th>\n",
       "      <th>artist</th>\n",
       "      <th>album</th>\n",
       "      <th>track</th>\n",
       "      <th>isrc</th>\n",
       "      <th>linkid</th>\n",
       "    </tr>\n",
       "  </thead>\n",
       "  <tbody>\n",
       "    <tr>\n",
       "      <th>0</th>\n",
       "      <td>click</td>\n",
       "      <td>2021-08-21</td>\n",
       "      <td>Saudi Arabia</td>\n",
       "      <td>Jeddah</td>\n",
       "      <td>Tesher</td>\n",
       "      <td>Jalebi Baby</td>\n",
       "      <td>Jalebi Baby</td>\n",
       "      <td>QZNWQ2070741</td>\n",
       "      <td>2d896d31-97b6-4869-967b-1c5fb9cd4bb8</td>\n",
       "    </tr>\n",
       "    <tr>\n",
       "      <th>1</th>\n",
       "      <td>click</td>\n",
       "      <td>2021-08-21</td>\n",
       "      <td>Saudi Arabia</td>\n",
       "      <td>Jeddah</td>\n",
       "      <td>Tesher</td>\n",
       "      <td>Jalebi Baby</td>\n",
       "      <td>Jalebi Baby</td>\n",
       "      <td>QZNWQ2070741</td>\n",
       "      <td>2d896d31-97b6-4869-967b-1c5fb9cd4bb8</td>\n",
       "    </tr>\n",
       "    <tr>\n",
       "      <th>2</th>\n",
       "      <td>click</td>\n",
       "      <td>2021-08-21</td>\n",
       "      <td>India</td>\n",
       "      <td>Ludhiana</td>\n",
       "      <td>Reyanna Maria</td>\n",
       "      <td>So Pretty</td>\n",
       "      <td>So Pretty</td>\n",
       "      <td>USUM72100871</td>\n",
       "      <td>23199824-9cf5-4b98-942a-34965c3b0cc2</td>\n",
       "    </tr>\n",
       "    <tr>\n",
       "      <th>3</th>\n",
       "      <td>click</td>\n",
       "      <td>2021-08-21</td>\n",
       "      <td>France</td>\n",
       "      <td>Unknown</td>\n",
       "      <td>Simone &amp; Simaria, Sebastian Yatra</td>\n",
       "      <td>No Llores Más</td>\n",
       "      <td>No Llores Más</td>\n",
       "      <td>BRUM72003904</td>\n",
       "      <td>35573248-4e49-47c7-af80-08a960fa74cd</td>\n",
       "    </tr>\n",
       "    <tr>\n",
       "      <th>4</th>\n",
       "      <td>click</td>\n",
       "      <td>2021-08-21</td>\n",
       "      <td>Maldives</td>\n",
       "      <td>Malé</td>\n",
       "      <td>Tesher</td>\n",
       "      <td>Jalebi Baby</td>\n",
       "      <td>Jalebi Baby</td>\n",
       "      <td>QZNWQ2070741</td>\n",
       "      <td>2d896d31-97b6-4869-967b-1c5fb9cd4bb8</td>\n",
       "    </tr>\n",
       "  </tbody>\n",
       "</table>\n",
       "</div>"
      ],
      "text/plain": [
       "   event        date       country      city  \\\n",
       "0  click  2021-08-21  Saudi Arabia    Jeddah   \n",
       "1  click  2021-08-21  Saudi Arabia    Jeddah   \n",
       "2  click  2021-08-21         India  Ludhiana   \n",
       "3  click  2021-08-21        France   Unknown   \n",
       "4  click  2021-08-21      Maldives      Malé   \n",
       "\n",
       "                              artist          album          track  \\\n",
       "0                             Tesher    Jalebi Baby    Jalebi Baby   \n",
       "1                             Tesher    Jalebi Baby    Jalebi Baby   \n",
       "2                      Reyanna Maria      So Pretty      So Pretty   \n",
       "3  Simone & Simaria, Sebastian Yatra  No Llores Más  No Llores Más   \n",
       "4                             Tesher    Jalebi Baby    Jalebi Baby   \n",
       "\n",
       "           isrc                                linkid  \n",
       "0  QZNWQ2070741  2d896d31-97b6-4869-967b-1c5fb9cd4bb8  \n",
       "1  QZNWQ2070741  2d896d31-97b6-4869-967b-1c5fb9cd4bb8  \n",
       "2  USUM72100871  23199824-9cf5-4b98-942a-34965c3b0cc2  \n",
       "3  BRUM72003904  35573248-4e49-47c7-af80-08a960fa74cd  \n",
       "4  QZNWQ2070741  2d896d31-97b6-4869-967b-1c5fb9cd4bb8  "
      ]
     },
     "execution_count": 6,
     "metadata": {},
     "output_type": "execute_result"
    }
   ],
   "source": [
    "traffic_df.head()"
   ]
  },
  {
   "cell_type": "markdown",
   "metadata": {},
   "source": [
    "<a name=\"question-1\"></a>\n",
    "# Question 1\n"
   ]
  },
  {
   "cell_type": "markdown",
   "metadata": {},
   "source": [
    "**How many total pageview events did the links in the provided dataset receive over the entire period, and how many per day ?**\n",
    "\n",
    "To display each unique value of the event column, along with a count of its occurrences, we can leverage the value_counts() method. The output for the pageview events is 142,015, signifying the total number of such events. Alternatively, another approach is to filter the dataset to include only the pageview events and then determine the number of rows in the filtered dataset (as shown in the second cell below)."
   ]
  },
  {
   "cell_type": "markdown",
   "metadata": {},
   "source": [
    "\n",
    "To determine the number of pageview events per day, we need to employ the groupby method, followed by an aggregation using the count function. We group the pageview events by date and subsequently count their occurrences."
   ]
  },
  {
   "cell_type": "code",
   "execution_count": 7,
   "metadata": {},
   "outputs": [],
   "source": [
    "\n",
    "# 1. Filter only for 'pageview' events\n",
    "# 2. Group by the date\n",
    "# 3. Keep only the 'event' column and specify a 'count' aggregation\n",
    "pageview_counts_per_date = traffic_df[traffic_df[\"event\"] == \"pageview\"].groupby(by=\"date\")[\"event\"].count()"
   ]
  },
  {
   "cell_type": "markdown",
   "metadata": {},
   "source": [
    "It's important to acknowledge that duplicates are permitted in the data. In other words, if the same user views the same page multiple times, each instance will be counted. To alter this behavior, we can utilize df.drop_duplicates(). The subsequent cells showcase the impact of deduplication, revealing a notable reduction in the number of events by nearly half."
   ]
  },
  {
   "cell_type": "code",
   "execution_count": 8,
   "metadata": {},
   "outputs": [],
   "source": [
    "# Drop duplicates from the dataset\n",
    "deduplicated_df = traffic_df.drop_duplicates()\n",
    "\n",
    "# Count occurrences of each event\n",
    "event_counts = deduplicated_df[\"event\"].value_counts()"
   ]
  },
  {
   "cell_type": "code",
   "execution_count": 9,
   "metadata": {},
   "outputs": [],
   "source": [
    "# Get the total number of 'pageview' events\n",
    "total_pageviews = deduplicated_df[deduplicated_df[\"event\"] == \"pageview\"].shape[0]"
   ]
  },
  {
   "cell_type": "markdown",
   "metadata": {},
   "source": [
    "<a name=\"question-2\"></a>\n",
    "# Question 2"
   ]
  },
  {
   "cell_type": "markdown",
   "metadata": {},
   "source": [
    "**How other recorded events should be handled ?**\n",
    "\n",
    "In the initial line of the cell below, we acquire the set of all unique events present in the data. Subsequently, we eliminate the pageview event from consideration, given that it has already been analyzed in the previous question. Our focus will then shift to addressing the remaining events."
   ]
  },
  {
   "cell_type": "code",
   "execution_count": 10,
   "metadata": {},
   "outputs": [],
   "source": [
    "# Get the set of recorded events in the data\n",
    "recorded_events = set(traffic_df[\"event\"].unique())\n",
    "# Remove the 'pageview' event\n",
    "recorded_events.remove(\"pageview\")"
   ]
  },
  {
   "cell_type": "markdown",
   "metadata": {},
   "source": [
    "After obtaining the other recorded events, we can iterate over them and apply the same solution as in Question 1, incorporating informative print statements during the process."
   ]
  },
  {
   "cell_type": "code",
   "execution_count": 11,
   "metadata": {},
   "outputs": [
    {
     "name": "stdout",
     "output_type": "stream",
     "text": [
      "Total number of preview events is 28531 \n",
      "\n",
      "preview event distribution per day:\n",
      "\n",
      "date\n",
      "2021-08-19    3788\n",
      "2021-08-20    4222\n",
      "2021-08-21    4663\n",
      "2021-08-22    4349\n",
      "2021-08-23    3847\n",
      "2021-08-24    3840\n",
      "2021-08-25    3822\n",
      "Name: event, dtype: int64 \n",
      "\n",
      "Total number of click events is 55732 \n",
      "\n",
      "click event distribution per day:\n",
      "\n",
      "date\n",
      "2021-08-19    9207\n",
      "2021-08-20    8508\n",
      "2021-08-21    8071\n",
      "2021-08-22    7854\n",
      "2021-08-23    7315\n",
      "2021-08-24    7301\n",
      "2021-08-25    7476\n",
      "Name: event, dtype: int64 \n",
      "\n"
     ]
    }
   ],
   "source": [
    "# Loop over each event\n",
    "for recorded_event in recorded_events:\n",
    "    # Get the total number of occurrences\n",
    "    total_events = traffic_df[traffic_df[\"event\"] == recorded_event].shape[0]\n",
    "    print(\"Total number of\", recorded_event, \"events is\", total_events, \"\\n\")\n",
    "    # Group by the date and aggregate by count\n",
    "    data_set = traffic_df[traffic_df[\"event\"] == recorded_event].groupby(by=\"date\")[\"event\"].count()\n",
    "    print(recorded_event, \"event distribution per day:\\n\")\n",
    "    print(data_set, \"\\n\")"
   ]
  },
  {
   "cell_type": "markdown",
   "metadata": {},
   "source": [
    "<a name=\"question-3\"></a>\n",
    "\n",
    "# Question 3"
   ]
  },
  {
   "cell_type": "markdown",
   "metadata": {},
   "source": [
    "**Which countries generated the clicks?**\n",
    "\n",
    "\n",
    "This question is relatively straightforward compared to the previous ones, as it doesn't involve any groupings or aggregations. The solution comprises two steps:\n",
    "\n",
    "1. Filter for click events only.\n",
    "2. Print the unique values of the Country column, excluding any NaN values."
   ]
  },
  {
   "cell_type": "code",
   "execution_count": 18,
   "metadata": {},
   "outputs": [
    {
     "data": {
      "text/html": [
       "<div>\n",
       "<style scoped>\n",
       "    .dataframe tbody tr th:only-of-type {\n",
       "        vertical-align: middle;\n",
       "    }\n",
       "\n",
       "    .dataframe tbody tr th {\n",
       "        vertical-align: top;\n",
       "    }\n",
       "\n",
       "    .dataframe thead th {\n",
       "        text-align: right;\n",
       "    }\n",
       "</style>\n",
       "<table border=\"1\" class=\"dataframe\">\n",
       "  <thead>\n",
       "    <tr style=\"text-align: right;\">\n",
       "      <th></th>\n",
       "      <th>Country</th>\n",
       "    </tr>\n",
       "  </thead>\n",
       "  <tbody>\n",
       "    <tr>\n",
       "      <th>0</th>\n",
       "      <td>Saudi Arabia</td>\n",
       "    </tr>\n",
       "    <tr>\n",
       "      <th>1</th>\n",
       "      <td>India</td>\n",
       "    </tr>\n",
       "    <tr>\n",
       "      <th>2</th>\n",
       "      <td>France</td>\n",
       "    </tr>\n",
       "    <tr>\n",
       "      <th>3</th>\n",
       "      <td>Maldives</td>\n",
       "    </tr>\n",
       "    <tr>\n",
       "      <th>4</th>\n",
       "      <td>United States</td>\n",
       "    </tr>\n",
       "    <tr>\n",
       "      <th>...</th>\n",
       "      <td>...</td>\n",
       "    </tr>\n",
       "    <tr>\n",
       "      <th>197</th>\n",
       "      <td>Guernsey</td>\n",
       "    </tr>\n",
       "    <tr>\n",
       "      <th>198</th>\n",
       "      <td>Palau</td>\n",
       "    </tr>\n",
       "    <tr>\n",
       "      <th>199</th>\n",
       "      <td>Åland</td>\n",
       "    </tr>\n",
       "    <tr>\n",
       "      <th>200</th>\n",
       "      <td>Principality of Monaco</td>\n",
       "    </tr>\n",
       "    <tr>\n",
       "      <th>201</th>\n",
       "      <td>Brunei</td>\n",
       "    </tr>\n",
       "  </tbody>\n",
       "</table>\n",
       "<p>202 rows × 1 columns</p>\n",
       "</div>"
      ],
      "text/plain": [
       "                    Country\n",
       "0              Saudi Arabia\n",
       "1                     India\n",
       "2                    France\n",
       "3                  Maldives\n",
       "4             United States\n",
       "..                      ...\n",
       "197                Guernsey\n",
       "198                   Palau\n",
       "199                   Åland\n",
       "200  Principality of Monaco\n",
       "201                  Brunei\n",
       "\n",
       "[202 rows x 1 columns]"
      ]
     },
     "execution_count": 18,
     "metadata": {},
     "output_type": "execute_result"
    }
   ],
   "source": [
    "# filter for the proper event\n",
    "df_q3 = traffic_df[traffic_df[\"event\"] == \"click\"]\n",
    "# or alternatively, you can loop over the array provided by df.unique() and print them all\n",
    "pd.DataFrame(data=df_q3[\"country\"].dropna().unique(), columns=[\"Country\"])"
   ]
  },
  {
   "cell_type": "markdown",
   "metadata": {},
   "source": [
    "<a name=\"question-4\"></a>\n",
    "# Question 4"
   ]
  },
  {
   "cell_type": "markdown",
   "metadata": {},
   "source": [
    "**What is the overall click rate, calculated as the ratio of clicks to pageviews?**\n",
    "\n",
    "The click rate is computed as the number of clicks a page has received (event = 'click') divided by the number of times it has been shown (event = 'pageview'). This metric is widely used to gauge the success of an advertising campaign.\n",
    "\n",
    "The calculation involves several steps. Initially, we count the occurrences of each link being clicked on and the number of times each link has been viewed. The process is consistent for both calculations. We begin by filtering for the relevant event (click or pageview), followed by grouping the filtered data by the link Id and counting the occurrences of that event."
   ]
  },
  {
   "cell_type": "code",
   "execution_count": 12,
   "metadata": {},
   "outputs": [],
   "source": [
    "# Filter for the 'click' events and group them by 'linkid' to get their count\n",
    "clicks_df = traffic_df[traffic_df[\"event\"] == \"click\"].groupby(by=\"linkid\")[\"event\"].count().reset_index()\n",
    "clicks_df = clicks_df.rename(columns={\n",
    "    \"event\": \"clicks\"  # Rename column for easier manipulation\n",
    "})\n",
    "# Do the same for the 'pageview' events\n",
    "pageviews_df = traffic_df[traffic_df[\"event\"] == \"pageview\"].groupby(by=\"linkid\")[\"event\"].count().reset_index()\n",
    "pageviews_df = pageviews_df.rename(columns={\n",
    "    \"event\": \"pageviews\"\n",
    "})\n"
   ]
  },
  {
   "cell_type": "markdown",
   "metadata": {},
   "source": [
    "To obtain the answer, we must join these two DataFrames based on the same link Id and subsequently calculate the click rate by dividing the number of clicks by the number of pageviews. This can be accomplished using Pandas' merge() method. We specify a 'left' and a 'right' DataFrame, the column to merge on, and the type of merge ('inner' is specified, which takes the intersection of the two datasets)."
   ]
  },
  {
   "cell_type": "code",
   "execution_count": 13,
   "metadata": {},
   "outputs": [],
   "source": [
    "\n",
    "# Merge the two dataframes using pd.merge()\n",
    "merged_df = pd.merge(left=clicks_df, right=pageviews_df, on=\"linkid\", how=\"inner\")\n",
    "\n",
    "# Define a new column for the 'click_rate'\n",
    "merged_df[\"click_rate\"] = merged_df[\"clicks\"] / merged_df[\"pageviews\"]"
   ]
  },
  {
   "cell_type": "markdown",
   "metadata": {},
   "source": [
    "Following the merge, we can perform column-wise arithmetic operations to generate a new column that stores the click rate. The subsequent cell displays the finalized dataset, presenting the click rate associated with each link.\n",
    "\n",
    "\n",
    "\n",
    "\n",
    "\n",
    "\n"
   ]
  },
  {
   "cell_type": "code",
   "execution_count": 21,
   "metadata": {},
   "outputs": [
    {
     "data": {
      "text/html": [
       "<div>\n",
       "<style scoped>\n",
       "    .dataframe tbody tr th:only-of-type {\n",
       "        vertical-align: middle;\n",
       "    }\n",
       "\n",
       "    .dataframe tbody tr th {\n",
       "        vertical-align: top;\n",
       "    }\n",
       "\n",
       "    .dataframe thead th {\n",
       "        text-align: right;\n",
       "    }\n",
       "</style>\n",
       "<table border=\"1\" class=\"dataframe\">\n",
       "  <thead>\n",
       "    <tr style=\"text-align: right;\">\n",
       "      <th></th>\n",
       "      <th>linkid</th>\n",
       "      <th>clicks</th>\n",
       "      <th>pageviews</th>\n",
       "      <th>click_rate</th>\n",
       "      <th>click_rate_log2</th>\n",
       "    </tr>\n",
       "  </thead>\n",
       "  <tbody>\n",
       "    <tr>\n",
       "      <th>0</th>\n",
       "      <td>00126b32-0c35-507b-981c-02c80d2aa8e7</td>\n",
       "      <td>2</td>\n",
       "      <td>2</td>\n",
       "      <td>1.000000</td>\n",
       "      <td>0.000000</td>\n",
       "    </tr>\n",
       "    <tr>\n",
       "      <th>1</th>\n",
       "      <td>004b9724-abca-5481-b6e9-6148a7ca00a5</td>\n",
       "      <td>1</td>\n",
       "      <td>1</td>\n",
       "      <td>1.000000</td>\n",
       "      <td>0.000000</td>\n",
       "    </tr>\n",
       "    <tr>\n",
       "      <th>2</th>\n",
       "      <td>0063a982-41cd-5629-96d0-e1c4dd72ea11</td>\n",
       "      <td>2</td>\n",
       "      <td>3</td>\n",
       "      <td>0.666667</td>\n",
       "      <td>-0.584963</td>\n",
       "    </tr>\n",
       "    <tr>\n",
       "      <th>3</th>\n",
       "      <td>006af6a0-1f0d-4b0c-93bf-756af9071c06</td>\n",
       "      <td>8</td>\n",
       "      <td>36</td>\n",
       "      <td>0.222222</td>\n",
       "      <td>-2.169925</td>\n",
       "    </tr>\n",
       "    <tr>\n",
       "      <th>4</th>\n",
       "      <td>00759b81-3f04-4a61-b934-f8fb3185f4a0</td>\n",
       "      <td>3</td>\n",
       "      <td>4</td>\n",
       "      <td>0.750000</td>\n",
       "      <td>-0.415037</td>\n",
       "    </tr>\n",
       "    <tr>\n",
       "      <th>...</th>\n",
       "      <td>...</td>\n",
       "      <td>...</td>\n",
       "      <td>...</td>\n",
       "      <td>...</td>\n",
       "      <td>...</td>\n",
       "    </tr>\n",
       "    <tr>\n",
       "      <th>2248</th>\n",
       "      <td>ffd8d5a7-91bc-48e1-a692-c26fca8a8ead</td>\n",
       "      <td>29</td>\n",
       "      <td>84</td>\n",
       "      <td>0.345238</td>\n",
       "      <td>-1.534336</td>\n",
       "    </tr>\n",
       "    <tr>\n",
       "      <th>2249</th>\n",
       "      <td>fff38ca0-8043-50cd-a5f1-f65ebb7105c5</td>\n",
       "      <td>1</td>\n",
       "      <td>1</td>\n",
       "      <td>1.000000</td>\n",
       "      <td>0.000000</td>\n",
       "    </tr>\n",
       "    <tr>\n",
       "      <th>2250</th>\n",
       "      <td>fff84c0e-90a1-59d8-9997-adc909d50e16</td>\n",
       "      <td>1</td>\n",
       "      <td>1</td>\n",
       "      <td>1.000000</td>\n",
       "      <td>0.000000</td>\n",
       "    </tr>\n",
       "    <tr>\n",
       "      <th>2251</th>\n",
       "      <td>fffc17a7-f935-5d3e-bd3e-d761fd80d479</td>\n",
       "      <td>1</td>\n",
       "      <td>2</td>\n",
       "      <td>0.500000</td>\n",
       "      <td>-1.000000</td>\n",
       "    </tr>\n",
       "    <tr>\n",
       "      <th>2252</th>\n",
       "      <td>fffd0045-29de-522b-b5d8-35786363bf07</td>\n",
       "      <td>1</td>\n",
       "      <td>2</td>\n",
       "      <td>0.500000</td>\n",
       "      <td>-1.000000</td>\n",
       "    </tr>\n",
       "  </tbody>\n",
       "</table>\n",
       "<p>2253 rows × 5 columns</p>\n",
       "</div>"
      ],
      "text/plain": [
       "                                    linkid  clicks  pageviews  click_rate  \\\n",
       "0     00126b32-0c35-507b-981c-02c80d2aa8e7       2          2    1.000000   \n",
       "1     004b9724-abca-5481-b6e9-6148a7ca00a5       1          1    1.000000   \n",
       "2     0063a982-41cd-5629-96d0-e1c4dd72ea11       2          3    0.666667   \n",
       "3     006af6a0-1f0d-4b0c-93bf-756af9071c06       8         36    0.222222   \n",
       "4     00759b81-3f04-4a61-b934-f8fb3185f4a0       3          4    0.750000   \n",
       "...                                    ...     ...        ...         ...   \n",
       "2248  ffd8d5a7-91bc-48e1-a692-c26fca8a8ead      29         84    0.345238   \n",
       "2249  fff38ca0-8043-50cd-a5f1-f65ebb7105c5       1          1    1.000000   \n",
       "2250  fff84c0e-90a1-59d8-9997-adc909d50e16       1          1    1.000000   \n",
       "2251  fffc17a7-f935-5d3e-bd3e-d761fd80d479       1          2    0.500000   \n",
       "2252  fffd0045-29de-522b-b5d8-35786363bf07       1          2    0.500000   \n",
       "\n",
       "      click_rate_log2  \n",
       "0            0.000000  \n",
       "1            0.000000  \n",
       "2           -0.584963  \n",
       "3           -2.169925  \n",
       "4           -0.415037  \n",
       "...               ...  \n",
       "2248        -1.534336  \n",
       "2249         0.000000  \n",
       "2250         0.000000  \n",
       "2251        -1.000000  \n",
       "2252        -1.000000  \n",
       "\n",
       "[2253 rows x 5 columns]"
      ]
     },
     "execution_count": 21,
     "metadata": {},
     "output_type": "execute_result"
    }
   ],
   "source": [
    "merged_df\n"
   ]
  },
  {
   "cell_type": "markdown",
   "metadata": {},
   "source": [
    "<a name=\"question-5\"></a>\n",
    "# Question 5"
   ]
  },
  {
   "cell_type": "markdown",
   "metadata": {},
   "source": [
    "**In what manner is the distribution of click rates observed across various links?**\n",
    "\n",
    "To comprehend the distribution of the click rate across diverse links, we can employ the describe() method. The following cell executes this operation. Observe the output, which includes the count (number of links), mean, standard deviation, minimum, maximum, and the click rate values at the 25th, 50th, and 75th percentiles."
   ]
  },
  {
   "cell_type": "markdown",
   "metadata": {},
   "source": [
    "Utilizing the plot() method, we generate a histogram with 100 bins. It's worth noting the inclusion of parameters for the figure size and the label of the X-axis. Incorporating these parameters is advisable as they significantly contribute to making the interpretation of the graphic more accessible and comprehensible"
   ]
  },
  {
   "cell_type": "code",
   "execution_count": 14,
   "metadata": {},
   "outputs": [
    {
     "data": {
      "image/png": "[encoded data removed]",
      "text/plain": [
       "<Figure size 700x700 with 1 Axes>"
      ]
     },
     "metadata": {},
     "output_type": "display_data"
    }
   ],
   "source": [
    "# Plot the histogram of click rates\n",
    "ax = merged_df[\"click_rate\"].plot(kind=\"hist\", figsize=(7, 7), bins=100)\n",
    "plot_show = ax.set_xlabel(\"Click Rate\")"
   ]
  },
  {
   "cell_type": "markdown",
   "metadata": {},
   "source": [
    "The histogram illustrates a leftward skewness in the data, indicating that a substantial number of values are in close proximity to zero. To address this skewness, a typical approach is to plot the histogram of the logarithm of the data. To implement this, we can utilize Numpy's log2() method, providing an alternative perspective that can better capture the distribution characteristics."
   ]
  },
  {
   "cell_type": "code",
   "execution_count": 15,
   "metadata": {},
   "outputs": [
    {
     "data": {
      "image/png": "[encoded data removed]",
      "text/plain": [
       "<Figure size 700x700 with 1 Axes>"
      ]
     },
     "metadata": {},
     "output_type": "display_data"
    }
   ],
   "source": [
    "# Plot the histogram of log-transformed click rates\n",
    "merged_df[\"click_rate_log2\"] = np.log2(merged_df[\"click_rate\"])\n",
    "ax = merged_df[\"click_rate_log2\"].plot(kind=\"hist\", figsize=(7, 7), bins=100)\n",
    "plot_show = ax.set_xlabel(\"Log2(Click Rate)\")"
   ]
  },
  {
   "cell_type": "markdown",
   "metadata": {},
   "source": [
    "In our plot overview, a significant spike is observed at 0, indicating that the actual click rate was 1. This suggests the presence of numerous links that have been both viewed and clicked on exactly once. Additionally, there is a noticeable concentration of links that have been viewed multiple times but with fewer clicks (values less than zero). It's crucial to note that this plot represents the logarithm of the actual values, introducing an additional mathematical step in the interpretation. Therefore, the interpretation involves considering the logarithmic transformation of the click rates."
   ]
  },
  {
   "cell_type": "code",
   "execution_count": 16,
   "metadata": {},
   "outputs": [
    {
     "data": {
      "image/png": "[encoded data removed]",
      "text/plain": [
       "<Figure size 640x480 with 1 Axes>"
      ]
     },
     "metadata": {},
     "output_type": "display_data"
    }
   ],
   "source": [
    "\n",
    "# Boxplot of log-transformed click rates\n",
    "ax = merged_df.boxplot(column=\"click_rate_log2\")\n",
    "_ = ax.set_ylabel(\"Value\")"
   ]
  },
  {
   "cell_type": "markdown",
   "metadata": {},
   "source": [
    "<a name=\"question-6\"></a>\n",
    "# Question 6"
   ]
  },
  {
   "cell_type": "markdown",
   "metadata": {},
   "source": [
    "**Is there a discernible correlation between the occurrences of clicks and previews associated with a given link? If a correlation exists, is it statistically significant, and what is the magnitude of the observed effect? Ensure to perform tests that investigate potential linear relationships as well as categorical relationships, particularly focusing on binary associations between both variables.**\n",
    "\n",
    "The Pearson's correlation coefficient serves as an indicator of linear correlation between two datasets, with values falling within the range of [-1, 1]. A coefficient further away from zero implies a more significant correlation. The implementation of Pearson's coefficient is available in both Pandas and Scipy. In this analysis, we will employ both libraries to explore their APIs and ensure result consistency.\n",
    "\n",
    "Initially, we'll filter the dataset to include only click and preview events. Describing this filtered dataset will provide an initial understanding of its contents"
   ]
  },
  {
   "cell_type": "code",
   "execution_count": 17,
   "metadata": {},
   "outputs": [],
   "source": [
    "\n",
    "# Filter only events that are relevant to the question\n",
    "relevant_events_df = traffic_df[traffic_df[\"event\"].isin([\"click\", \"preview\"])]\n",
    "\n",
    "# Descriptive statistics for the filtered dataset\n",
    "stats_df = relevant_events_df.describe()\n"
   ]
  },
  {
   "cell_type": "code",
   "execution_count": 19,
   "metadata": {},
   "outputs": [
    {
     "data": {
      "text/html": [
       "<div>\n",
       "<style scoped>\n",
       "    .dataframe tbody tr th:only-of-type {\n",
       "        vertical-align: middle;\n",
       "    }\n",
       "\n",
       "    .dataframe tbody tr th {\n",
       "        vertical-align: top;\n",
       "    }\n",
       "\n",
       "    .dataframe thead th {\n",
       "        text-align: right;\n",
       "    }\n",
       "</style>\n",
       "<table border=\"1\" class=\"dataframe\">\n",
       "  <thead>\n",
       "    <tr style=\"text-align: right;\">\n",
       "      <th></th>\n",
       "      <th>event</th>\n",
       "      <th>date</th>\n",
       "      <th>country</th>\n",
       "      <th>city</th>\n",
       "      <th>artist</th>\n",
       "      <th>album</th>\n",
       "      <th>track</th>\n",
       "      <th>isrc</th>\n",
       "      <th>linkid</th>\n",
       "    </tr>\n",
       "  </thead>\n",
       "  <tbody>\n",
       "    <tr>\n",
       "      <th>count</th>\n",
       "      <td>4</td>\n",
       "      <td>4</td>\n",
       "      <td>4</td>\n",
       "      <td>4</td>\n",
       "      <td>4</td>\n",
       "      <td>4</td>\n",
       "      <td>4</td>\n",
       "      <td>4</td>\n",
       "      <td>4</td>\n",
       "    </tr>\n",
       "    <tr>\n",
       "      <th>unique</th>\n",
       "      <td>4</td>\n",
       "      <td>4</td>\n",
       "      <td>4</td>\n",
       "      <td>4</td>\n",
       "      <td>4</td>\n",
       "      <td>4</td>\n",
       "      <td>4</td>\n",
       "      <td>4</td>\n",
       "      <td>4</td>\n",
       "    </tr>\n",
       "    <tr>\n",
       "      <th>top</th>\n",
       "      <td>84263</td>\n",
       "      <td>84263</td>\n",
       "      <td>84261</td>\n",
       "      <td>84261</td>\n",
       "      <td>84252</td>\n",
       "      <td>84262</td>\n",
       "      <td>84262</td>\n",
       "      <td>82036</td>\n",
       "      <td>84263</td>\n",
       "    </tr>\n",
       "    <tr>\n",
       "      <th>freq</th>\n",
       "      <td>1</td>\n",
       "      <td>1</td>\n",
       "      <td>1</td>\n",
       "      <td>1</td>\n",
       "      <td>1</td>\n",
       "      <td>1</td>\n",
       "      <td>1</td>\n",
       "      <td>1</td>\n",
       "      <td>1</td>\n",
       "    </tr>\n",
       "  </tbody>\n",
       "</table>\n",
       "</div>"
      ],
      "text/plain": [
       "        event   date  country   city  artist  album  track   isrc  linkid\n",
       "count       4      4        4      4       4      4      4      4       4\n",
       "unique      4      4        4      4       4      4      4      4       4\n",
       "top     84263  84263    84261  84261   84252  84262  84262  82036   84263\n",
       "freq        1      1        1      1       1      1      1      1       1"
      ]
     },
     "execution_count": 19,
     "metadata": {},
     "output_type": "execute_result"
    }
   ],
   "source": [
    "stats_df.describe()"
   ]
  }
 ],
 "metadata": {
  "kernelspec": {
   "display_name": "Python 3 (ipykernel)",
   "language": "python",
   "name": "python3"
  },
  "language_info": {
   "codemirror_mode": {
    "name": "ipython",
    "version": 3
   },
   "file_extension": ".py",
   "mimetype": "text/x-python",
   "name": "python",
   "nbconvert_exporter": "python",
   "pygments_lexer": "ipython3",
   "version": "3.8.10"
  }
 },
 "nbformat": 4,
 "nbformat_minor": 2
}
