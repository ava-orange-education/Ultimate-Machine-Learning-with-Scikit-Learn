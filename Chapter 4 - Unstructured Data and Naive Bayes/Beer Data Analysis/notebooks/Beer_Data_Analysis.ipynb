{
 "cells": [
  {
   "cell_type": "markdown",
   "metadata": {},
   "source": [
    "# Data Analysis Of Beers Industry"
   ]
  },
  {
   "cell_type": "markdown",
   "metadata": {},
   "source": [
    "## Table of Contents"
   ]
  },
  {
   "cell_type": "markdown",
   "metadata": {},
   "source": [
    "* [Business Problem](#business-problem)\n",
    "* [Objectives](#objectives)\n",
    "* [Data Description](#data-description)\n",
    "* [Key Questions to Address](#key-questions-to-address)\n",
    "* [Exploratory Data Analysis](#exploratory-data-analysis)\n",
    "* [Solutions](#solutions)\n",
    "* [Question 1](#question-1)\n",
    "* [Question 2](#question-2)\n",
    "* [Question 3](#question-3)\n",
    "* [Question 4](#question-4)\n",
    "* [Question 5](#question-5)"
   ]
  },
  {
   "cell_type": "markdown",
   "metadata": {},
   "source": [
    "<a name=\"business-problem\"></a>\n",
    "# Business Problem:\n",
    "\n",
    "The brewery industry is highly competitive, and breweries are constantly striving to improve their products to meet consumer preferences. To gain a competitive edge, it is crucial for breweries to understand the factors that influence the perception of their beers in the market. Our business problem revolves around leveraging the provided beer ratings dataset to extract valuable insights that can guide breweries in enhancing their beer offerings and overall customer satisfaction.\n"
   ]
  },
  {
   "cell_type": "markdown",
   "metadata": {},
   "source": [
    "<div style=\"text-align:center\">\n",
    "    <img src=\"https://cdn.sisense.com/wp-content/uploads/beer-buzz-data-helps-buyers-find-brew-featured-1200x628-1.jpg\" alt=\"Image Alt Text\" />\n",
    "</div>\n"
   ]
  },
  {
   "cell_type": "markdown",
   "metadata": {},
   "source": [
    "<a name=\"objectives\"></a>\n",
    "# Objectives:\n",
    "   - Provide actionable insights for breweries to enhance their beer offerings.\n",
    "   - Identify potential areas of improvement for breweries based on consumer preferences.\n",
    "   - Uncover patterns and trends in beer ratings to guide marketing and product development strategies.\n",
    "   - Develop a comprehensive understanding of the factors influencing customer satisfaction in the beer industry."
   ]
  },
  {
   "cell_type": "markdown",
   "metadata": {},
   "source": [
    "<a name=\"data-description\"></a>\n",
    "# Data Description\n",
    "\n",
    "The compressed file BeerDataScienceProject.tar.bz2 contains a dataset encompassing information about various beers and their associated reviews. The dataset comprises the following columns:\n",
    "\n",
    "- **beer_ABV:** Alcohol by volume of the beer.\n",
    "  \n",
    "- **beer_beerId:** Unique identifier for each beer.\n",
    "  \n",
    "- **beer_brewerId:** Unique identifier for the beer brewer.\n",
    "  \n",
    "- **beer_name:** Name of the beer.\n",
    "  \n",
    "- **beer_style:** Categorization of the beer's style.\n",
    "  \n",
    "- **review_appearance:** Evaluation of the beer's appearance based on reviews.\n",
    "  \n",
    "- **review_palette:** Assessment of the beer's palette, focusing on colors.\n",
    "  \n",
    "- **review_overall:** Overall rating provided by reviewers for the beer.\n",
    "  \n",
    "- **review_taste:** Reviewer's feedback on the taste of the beer.\n",
    "  \n",
    "- **review_profileName:** Profile name of the individual providing the review.\n",
    "  \n",
    "- **review_aroma:** Review of the beer's aroma by the reviewer.\n",
    "  \n",
    "- **review_text:** The complete text of the review.\n",
    "  \n",
    "- **review_time:** Timestamp indicating when the review was submitted."
   ]
  },
  {
   "cell_type": "markdown",
   "metadata": {},
   "source": [
    "<a name=\"assignment\"></a>\n",
    "# Key Questions to Address"
   ]
  },
  {
   "cell_type": "markdown",
   "metadata": {},
   "source": [
    "In this assignment you will work with a beer ratings data set. Please provide an answer to the questions below.\n",
    "Answer as many questions as possible:\n",
    "1. Rank the top 3 breweries which produce the strongest beers.\n",
    "2. Which year did beers enjoy the highest ratings?\n",
    "3. Based on the users' ratings, which factors are important among taste, aroma, appearance, and palette?\n",
    "4. If you were to recommend 3 beers to your friends based on this data, which ones would you recommend?\n",
    "5. Which beer style seems to be the favourite based on the reviews written by users? How does written reviews compare to overall review score for the beer style?"
   ]
  },
  {
   "cell_type": "markdown",
   "metadata": {},
   "source": [
    "<a name=\"exploratory-data-analysis\"></a>\n",
    "# Exploratory Data Analysis\n",
    "\n",
    "We'll start off our project with an exploratory data analysis. The goal of this section is to get familiar with the data set."
   ]
  },
  {
   "cell_type": "markdown",
   "metadata": {},
   "source": [
    "This Python code includes imports for handling data with Pandas, performing sentiment analysis using the NLTK library's VADER sentiment intensity analyzer, and setting up visualization tools with Seaborn and Matplotlib. Additionally, it downloads the VADER lexicon, a scored list of words and jargon used by the sentiment analyzer."
   ]
  },
  {
   "cell_type": "code",
   "execution_count": 27,
   "metadata": {},
   "outputs": [],
   "source": [
    "import pandas as pd\n",
    "import numpy as np\n",
    "import re\n",
    "# For Visualizations\n",
    "import seaborn as sns\n",
    "import matplotlib.pyplot as plt\n",
    "from datetime import  datetime\n",
    "\n",
    "from nltk import download\n",
    "from nltk.sentiment.vader import SentimentIntensityAnalyzer\n",
    "\n",
    "# this is a scored list of words and jargon that the sentiment analyser\n",
    "# uses references when performing sentiment analysis\n",
    "download(\"vader_lexicon\", quiet=True)\n"
   ]
  },
  {
   "cell_type": "markdown",
   "metadata": {},
   "source": [
    "* The dataset comprises 528,870 entries distributed across 13 columns. Among these, two columns are designated as ID columns, namely beer ID and beer brewer ID. The available information encompasses the beers' ABV content, names, and styles. The remaining data pertains to comprehensive beer reviews, encompassing various aspects such as aroma, taste, palette, and appearance. Additionally, the dataset includes details about reviewers' profiles, overall grades, the actual text of their reviews, and the UNIX timestamp indicating when the reviews were posted.\n",
    "\n",
    "* It appears that the reviews are represented as floating-point numbers within the range of 1 to 5. We will verify this in the subsequent cell."
   ]
  },
  {
   "cell_type": "code",
   "execution_count": 3,
   "metadata": {},
   "outputs": [
    {
     "data": {
      "text/html": [
       "<div>\n",
       "<style scoped>\n",
       "    .dataframe tbody tr th:only-of-type {\n",
       "        vertical-align: middle;\n",
       "    }\n",
       "\n",
       "    .dataframe tbody tr th {\n",
       "        vertical-align: top;\n",
       "    }\n",
       "\n",
       "    .dataframe thead th {\n",
       "        text-align: right;\n",
       "    }\n",
       "</style>\n",
       "<table border=\"1\" class=\"dataframe\">\n",
       "  <thead>\n",
       "    <tr style=\"text-align: right;\">\n",
       "      <th></th>\n",
       "      <th>beer_ABV</th>\n",
       "      <th>beer_beerId</th>\n",
       "      <th>beer_brewerId</th>\n",
       "      <th>beer_name</th>\n",
       "      <th>beer_style</th>\n",
       "      <th>review_appearance</th>\n",
       "      <th>review_palette</th>\n",
       "      <th>review_overall</th>\n",
       "      <th>review_taste</th>\n",
       "      <th>review_profileName</th>\n",
       "      <th>review_aroma</th>\n",
       "      <th>review_text</th>\n",
       "      <th>review_time</th>\n",
       "    </tr>\n",
       "  </thead>\n",
       "  <tbody>\n",
       "    <tr>\n",
       "      <th>0</th>\n",
       "      <td>5.0</td>\n",
       "      <td>47986</td>\n",
       "      <td>10325</td>\n",
       "      <td>Sausa Weizen</td>\n",
       "      <td>Hefeweizen</td>\n",
       "      <td>2.5</td>\n",
       "      <td>2.0</td>\n",
       "      <td>1.5</td>\n",
       "      <td>1.5</td>\n",
       "      <td>stcules</td>\n",
       "      <td>1.5</td>\n",
       "      <td>A lot of foam. But a lot. In the smell some ba...</td>\n",
       "      <td>1234817823</td>\n",
       "    </tr>\n",
       "    <tr>\n",
       "      <th>1</th>\n",
       "      <td>6.2</td>\n",
       "      <td>48213</td>\n",
       "      <td>10325</td>\n",
       "      <td>Red Moon</td>\n",
       "      <td>English Strong Ale</td>\n",
       "      <td>3.0</td>\n",
       "      <td>2.5</td>\n",
       "      <td>3.0</td>\n",
       "      <td>3.0</td>\n",
       "      <td>stcules</td>\n",
       "      <td>3.0</td>\n",
       "      <td>Dark red color, light beige foam, average. In ...</td>\n",
       "      <td>1235915097</td>\n",
       "    </tr>\n",
       "    <tr>\n",
       "      <th>2</th>\n",
       "      <td>6.5</td>\n",
       "      <td>48215</td>\n",
       "      <td>10325</td>\n",
       "      <td>Black Horse Black Beer</td>\n",
       "      <td>Foreign / Export Stout</td>\n",
       "      <td>3.0</td>\n",
       "      <td>2.5</td>\n",
       "      <td>3.0</td>\n",
       "      <td>3.0</td>\n",
       "      <td>stcules</td>\n",
       "      <td>3.0</td>\n",
       "      <td>Almost totally black. Beige foam, quite compac...</td>\n",
       "      <td>1235916604</td>\n",
       "    </tr>\n",
       "    <tr>\n",
       "      <th>3</th>\n",
       "      <td>5.0</td>\n",
       "      <td>47969</td>\n",
       "      <td>10325</td>\n",
       "      <td>Sausa Pils</td>\n",
       "      <td>German Pilsener</td>\n",
       "      <td>3.5</td>\n",
       "      <td>3.0</td>\n",
       "      <td>3.0</td>\n",
       "      <td>2.5</td>\n",
       "      <td>stcules</td>\n",
       "      <td>3.0</td>\n",
       "      <td>Golden yellow color. White, compact foam, quit...</td>\n",
       "      <td>1234725145</td>\n",
       "    </tr>\n",
       "    <tr>\n",
       "      <th>4</th>\n",
       "      <td>7.7</td>\n",
       "      <td>64883</td>\n",
       "      <td>1075</td>\n",
       "      <td>Cauldron DIPA</td>\n",
       "      <td>American Double / Imperial IPA</td>\n",
       "      <td>4.0</td>\n",
       "      <td>4.5</td>\n",
       "      <td>4.0</td>\n",
       "      <td>4.0</td>\n",
       "      <td>johnmichaelsen</td>\n",
       "      <td>4.5</td>\n",
       "      <td>According to the website, the style for the Ca...</td>\n",
       "      <td>1293735206</td>\n",
       "    </tr>\n",
       "  </tbody>\n",
       "</table>\n",
       "</div>"
      ],
      "text/plain": [
       "   beer_ABV  beer_beerId  beer_brewerId               beer_name  \\\n",
       "0       5.0        47986          10325            Sausa Weizen   \n",
       "1       6.2        48213          10325                Red Moon   \n",
       "2       6.5        48215          10325  Black Horse Black Beer   \n",
       "3       5.0        47969          10325              Sausa Pils   \n",
       "4       7.7        64883           1075           Cauldron DIPA   \n",
       "\n",
       "                       beer_style  review_appearance  review_palette  \\\n",
       "0                      Hefeweizen                2.5             2.0   \n",
       "1              English Strong Ale                3.0             2.5   \n",
       "2          Foreign / Export Stout                3.0             2.5   \n",
       "3                 German Pilsener                3.5             3.0   \n",
       "4  American Double / Imperial IPA                4.0             4.5   \n",
       "\n",
       "   review_overall  review_taste review_profileName  review_aroma  \\\n",
       "0             1.5           1.5            stcules           1.5   \n",
       "1             3.0           3.0            stcules           3.0   \n",
       "2             3.0           3.0            stcules           3.0   \n",
       "3             3.0           2.5            stcules           3.0   \n",
       "4             4.0           4.0     johnmichaelsen           4.5   \n",
       "\n",
       "                                         review_text  review_time  \n",
       "0  A lot of foam. But a lot. In the smell some ba...   1234817823  \n",
       "1  Dark red color, light beige foam, average. In ...   1235915097  \n",
       "2  Almost totally black. Beige foam, quite compac...   1235916604  \n",
       "3  Golden yellow color. White, compact foam, quit...   1234725145  \n",
       "4  According to the website, the style for the Ca...   1293735206  "
      ]
     },
     "execution_count": 3,
     "metadata": {},
     "output_type": "execute_result"
    }
   ],
   "source": [
    "df = pd.read_csv(\"../data/BeerDataScienceProject.tar.bz2\", compression=\"bz2\", encoding=\"latin-1\")\n",
    "df.head()"
   ]
  },
  {
   "cell_type": "markdown",
   "metadata": {},
   "source": [
    "The initial assumptions appear to be accurate. However, it is noteworthy that there are instances of zeros in the overall and appearance reviews. To maintain data accuracy and reliability, it is advisable to disregard these entries, as they likely represent erroneous data."
   ]
  },
  {
   "cell_type": "code",
   "execution_count": 3,
   "metadata": {},
   "outputs": [
    {
     "data": {
      "text/html": [
       "<div>\n",
       "<style scoped>\n",
       "    .dataframe tbody tr th:only-of-type {\n",
       "        vertical-align: middle;\n",
       "    }\n",
       "\n",
       "    .dataframe tbody tr th {\n",
       "        vertical-align: top;\n",
       "    }\n",
       "\n",
       "    .dataframe thead th {\n",
       "        text-align: right;\n",
       "    }\n",
       "</style>\n",
       "<table border=\"1\" class=\"dataframe\">\n",
       "  <thead>\n",
       "    <tr style=\"text-align: right;\">\n",
       "      <th></th>\n",
       "      <th>beer_ABV</th>\n",
       "      <th>beer_beerId</th>\n",
       "      <th>beer_brewerId</th>\n",
       "      <th>review_appearance</th>\n",
       "      <th>review_palette</th>\n",
       "      <th>review_overall</th>\n",
       "      <th>review_taste</th>\n",
       "      <th>review_aroma</th>\n",
       "      <th>review_time</th>\n",
       "    </tr>\n",
       "  </thead>\n",
       "  <tbody>\n",
       "    <tr>\n",
       "      <th>count</th>\n",
       "      <td>508590.000000</td>\n",
       "      <td>528870.000000</td>\n",
       "      <td>528870.000000</td>\n",
       "      <td>528870.000000</td>\n",
       "      <td>528870.000000</td>\n",
       "      <td>528870.000000</td>\n",
       "      <td>528870.000000</td>\n",
       "      <td>528870.000000</td>\n",
       "      <td>5.288700e+05</td>\n",
       "    </tr>\n",
       "    <tr>\n",
       "      <th>mean</th>\n",
       "      <td>7.017442</td>\n",
       "      <td>22098.466016</td>\n",
       "      <td>2598.423429</td>\n",
       "      <td>3.864522</td>\n",
       "      <td>3.758926</td>\n",
       "      <td>3.833197</td>\n",
       "      <td>3.765993</td>\n",
       "      <td>3.817350</td>\n",
       "      <td>1.224885e+09</td>\n",
       "    </tr>\n",
       "    <tr>\n",
       "      <th>std</th>\n",
       "      <td>2.204460</td>\n",
       "      <td>22158.284352</td>\n",
       "      <td>5281.805350</td>\n",
       "      <td>0.604010</td>\n",
       "      <td>0.685335</td>\n",
       "      <td>0.709962</td>\n",
       "      <td>0.669018</td>\n",
       "      <td>0.718903</td>\n",
       "      <td>7.605600e+07</td>\n",
       "    </tr>\n",
       "    <tr>\n",
       "      <th>min</th>\n",
       "      <td>0.010000</td>\n",
       "      <td>3.000000</td>\n",
       "      <td>1.000000</td>\n",
       "      <td>0.000000</td>\n",
       "      <td>1.000000</td>\n",
       "      <td>0.000000</td>\n",
       "      <td>1.000000</td>\n",
       "      <td>1.000000</td>\n",
       "      <td>8.843904e+08</td>\n",
       "    </tr>\n",
       "    <tr>\n",
       "      <th>25%</th>\n",
       "      <td>5.300000</td>\n",
       "      <td>1745.000000</td>\n",
       "      <td>132.000000</td>\n",
       "      <td>3.500000</td>\n",
       "      <td>3.500000</td>\n",
       "      <td>3.500000</td>\n",
       "      <td>3.500000</td>\n",
       "      <td>3.500000</td>\n",
       "      <td>1.174613e+09</td>\n",
       "    </tr>\n",
       "    <tr>\n",
       "      <th>50%</th>\n",
       "      <td>6.500000</td>\n",
       "      <td>14368.000000</td>\n",
       "      <td>394.000000</td>\n",
       "      <td>4.000000</td>\n",
       "      <td>4.000000</td>\n",
       "      <td>4.000000</td>\n",
       "      <td>4.000000</td>\n",
       "      <td>4.000000</td>\n",
       "      <td>1.240366e+09</td>\n",
       "    </tr>\n",
       "    <tr>\n",
       "      <th>75%</th>\n",
       "      <td>8.500000</td>\n",
       "      <td>40528.000000</td>\n",
       "      <td>1475.000000</td>\n",
       "      <td>4.000000</td>\n",
       "      <td>4.000000</td>\n",
       "      <td>4.500000</td>\n",
       "      <td>4.000000</td>\n",
       "      <td>4.500000</td>\n",
       "      <td>1.288560e+09</td>\n",
       "    </tr>\n",
       "    <tr>\n",
       "      <th>max</th>\n",
       "      <td>57.700000</td>\n",
       "      <td>77310.000000</td>\n",
       "      <td>27980.000000</td>\n",
       "      <td>5.000000</td>\n",
       "      <td>5.000000</td>\n",
       "      <td>5.000000</td>\n",
       "      <td>5.000000</td>\n",
       "      <td>5.000000</td>\n",
       "      <td>1.326277e+09</td>\n",
       "    </tr>\n",
       "  </tbody>\n",
       "</table>\n",
       "</div>"
      ],
      "text/plain": [
       "            beer_ABV    beer_beerId  beer_brewerId  review_appearance  \\\n",
       "count  508590.000000  528870.000000  528870.000000      528870.000000   \n",
       "mean        7.017442   22098.466016    2598.423429           3.864522   \n",
       "std         2.204460   22158.284352    5281.805350           0.604010   \n",
       "min         0.010000       3.000000       1.000000           0.000000   \n",
       "25%         5.300000    1745.000000     132.000000           3.500000   \n",
       "50%         6.500000   14368.000000     394.000000           4.000000   \n",
       "75%         8.500000   40528.000000    1475.000000           4.000000   \n",
       "max        57.700000   77310.000000   27980.000000           5.000000   \n",
       "\n",
       "       review_palette  review_overall   review_taste   review_aroma  \\\n",
       "count   528870.000000   528870.000000  528870.000000  528870.000000   \n",
       "mean         3.758926        3.833197       3.765993       3.817350   \n",
       "std          0.685335        0.709962       0.669018       0.718903   \n",
       "min          1.000000        0.000000       1.000000       1.000000   \n",
       "25%          3.500000        3.500000       3.500000       3.500000   \n",
       "50%          4.000000        4.000000       4.000000       4.000000   \n",
       "75%          4.000000        4.500000       4.000000       4.500000   \n",
       "max          5.000000        5.000000       5.000000       5.000000   \n",
       "\n",
       "        review_time  \n",
       "count  5.288700e+05  \n",
       "mean   1.224885e+09  \n",
       "std    7.605600e+07  \n",
       "min    8.843904e+08  \n",
       "25%    1.174613e+09  \n",
       "50%    1.240366e+09  \n",
       "75%    1.288560e+09  \n",
       "max    1.326277e+09  "
      ]
     },
     "execution_count": 3,
     "metadata": {},
     "output_type": "execute_result"
    }
   ],
   "source": [
    "df.describe()"
   ]
  },
  {
   "cell_type": "markdown",
   "metadata": {},
   "source": [
    "Upon examining the output from the preceding cell, it's evident that various columns exhibit different non-null counts. To address this discrepancy, a straightforward approach would be to eliminate any rows containing null values. This assumes that, for those particular records, data collection errors may have occurred. Given that the dataset is predominantly complete, this strategy is anticipated to be a pragmatic solution."
   ]
  },
  {
   "cell_type": "code",
   "execution_count": 8,
   "metadata": {},
   "outputs": [
    {
     "name": "stdout",
     "output_type": "stream",
     "text": [
      "<class 'pandas.core.frame.DataFrame'>\n",
      "Int64Index: 528867 entries, 0 to 528869\n",
      "Data columns (total 13 columns):\n",
      " #   Column              Non-Null Count   Dtype  \n",
      "---  ------              --------------   -----  \n",
      " 0   beer_ABV            508587 non-null  float64\n",
      " 1   beer_beerId         528867 non-null  int64  \n",
      " 2   beer_brewerId       528867 non-null  int64  \n",
      " 3   beer_name           528867 non-null  object \n",
      " 4   beer_style          528867 non-null  object \n",
      " 5   review_appearance   528867 non-null  float64\n",
      " 6   review_palette      528867 non-null  float64\n",
      " 7   review_overall      528867 non-null  float64\n",
      " 8   review_taste        528867 non-null  float64\n",
      " 9   review_profileName  528752 non-null  object \n",
      " 10  review_aroma        528867 non-null  float64\n",
      " 11  review_text         528748 non-null  object \n",
      " 12  review_time         528867 non-null  int64  \n",
      "dtypes: float64(6), int64(3), object(4)\n",
      "memory usage: 56.5+ MB\n"
     ]
    }
   ],
   "source": [
    "df.info()"
   ]
  },
  {
   "cell_type": "code",
   "execution_count": 4,
   "metadata": {},
   "outputs": [
    {
     "name": "stdout",
     "output_type": "stream",
     "text": [
      "The Data Shape is  (528870, 13)\n"
     ]
    }
   ],
   "source": [
    "print(\"The Data Shape is \", df.shape)"
   ]
  },
  {
   "cell_type": "markdown",
   "metadata": {},
   "source": [
    "### Eliminating rows with null values from the dataset."
   ]
  },
  {
   "cell_type": "code",
   "execution_count": 5,
   "metadata": {},
   "outputs": [],
   "source": [
    "beerData = df.dropna()"
   ]
  },
  {
   "cell_type": "markdown",
   "metadata": {},
   "source": [
    "### Counting the remaining null values after the elimination for a sanity check."
   ]
  },
  {
   "cell_type": "code",
   "execution_count": 6,
   "metadata": {},
   "outputs": [
    {
     "data": {
      "text/plain": [
       "beer_ABV              0\n",
       "beer_beerId           0\n",
       "beer_brewerId         0\n",
       "beer_name             0\n",
       "beer_style            0\n",
       "review_appearance     0\n",
       "review_palette        0\n",
       "review_overall        0\n",
       "review_taste          0\n",
       "review_profileName    0\n",
       "review_aroma          0\n",
       "review_text           0\n",
       "review_time           0\n",
       "dtype: int64"
      ]
     },
     "execution_count": 6,
     "metadata": {},
     "output_type": "execute_result"
    }
   ],
   "source": [
    "beerData.isnull().sum()"
   ]
  },
  {
   "cell_type": "code",
   "execution_count": 7,
   "metadata": {},
   "outputs": [
    {
     "name": "stdout",
     "output_type": "stream",
     "text": [
      "Data shape after the elimination of null values (508358, 13)\n"
     ]
    }
   ],
   "source": [
    "print(\"Data shape after the elimination of null values\", beerData.shape)"
   ]
  },
  {
   "cell_type": "markdown",
   "metadata": {},
   "source": [
    "### Removing duplicate entries from the dataset.\n",
    "\n",
    "If a user has rated the same beer more than once, then only keep their highest rating and remove others.\n"
   ]
  },
  {
   "cell_type": "code",
   "execution_count": 8,
   "metadata": {},
   "outputs": [],
   "source": [
    "# Sort by \"review_overall\" in descending order\n",
    "beerData = beerData.sort_values('review_overall', ascending=False)\n",
    "\n",
    "# Keep the highest rating from each \"review_profilename\" and drop the rest\n",
    "beerData = beerData.drop_duplicates(subset= ['review_profileName','beer_beerId'], keep='first')"
   ]
  },
  {
   "cell_type": "code",
   "execution_count": 9,
   "metadata": {},
   "outputs": [
    {
     "name": "stdout",
     "output_type": "stream",
     "text": [
      "Data shape after the removing the duplicate values (503700, 13)\n"
     ]
    }
   ],
   "source": [
    "print(\"Data shape after the removing the duplicate values\", beerData.shape)"
   ]
  },
  {
   "cell_type": "markdown",
   "metadata": {},
   "source": [
    "### Excluding reviews with ratings less than or equal to 0\n",
    "\n",
    "Given that ratings are typically on a scale of 1-5, any values in the review variables that are less than 1 are deemed inappropriate for analysis and will be excluded."
   ]
  },
  {
   "cell_type": "code",
   "execution_count": 10,
   "metadata": {},
   "outputs": [
    {
     "name": "stdout",
     "output_type": "stream",
     "text": [
      "Data shape after Excluding reviews with ratings less than or equal to 0 is (503697, 13)\n"
     ]
    }
   ],
   "source": [
    "beerData = beerData[(beerData['review_overall'] > 0)]\n",
    "print(\"Data shape after Excluding reviews with ratings less than or equal to 0 is\", beerData.shape)"
   ]
  },
  {
   "cell_type": "markdown",
   "metadata": {},
   "source": [
    "<a name=\"approach\"></a>\n",
    "# Approach\n",
    "Having familiarized ourselves with the dataset and completed essential pre-processing steps in the previous section, we now pivot towards tackling the inquiries presented in this assignment."
   ]
  },
  {
   "cell_type": "markdown",
   "metadata": {},
   "source": [
    "<a name=\"question-1\"></a>\n",
    "### Question 1\n",
    "#### Rank top 3 Breweries which produce the strongest beers?"
   ]
  },
  {
   "cell_type": "markdown",
   "metadata": {},
   "source": [
    "Extracting the relevant columns into new dataframe to use it futher."
   ]
  },
  {
   "cell_type": "code",
   "execution_count": 16,
   "metadata": {},
   "outputs": [
    {
     "data": {
      "text/html": [
       "<div>\n",
       "<style scoped>\n",
       "    .dataframe tbody tr th:only-of-type {\n",
       "        vertical-align: middle;\n",
       "    }\n",
       "\n",
       "    .dataframe tbody tr th {\n",
       "        vertical-align: top;\n",
       "    }\n",
       "\n",
       "    .dataframe thead th {\n",
       "        text-align: right;\n",
       "    }\n",
       "</style>\n",
       "<table border=\"1\" class=\"dataframe\">\n",
       "  <thead>\n",
       "    <tr style=\"text-align: right;\">\n",
       "      <th></th>\n",
       "      <th>beer_brewerId</th>\n",
       "      <th>beer_beerId</th>\n",
       "      <th>beer_name</th>\n",
       "      <th>beer_ABV</th>\n",
       "    </tr>\n",
       "  </thead>\n",
       "  <tbody>\n",
       "    <tr>\n",
       "      <th>492945</th>\n",
       "      <td>132</td>\n",
       "      <td>1339</td>\n",
       "      <td>Hazelnut Brown Nectar</td>\n",
       "      <td>6.2</td>\n",
       "    </tr>\n",
       "    <tr>\n",
       "      <th>172728</th>\n",
       "      <td>221</td>\n",
       "      <td>689</td>\n",
       "      <td>Red Stripe Jamaican Lager</td>\n",
       "      <td>4.7</td>\n",
       "    </tr>\n",
       "    <tr>\n",
       "      <th>409699</th>\n",
       "      <td>694</td>\n",
       "      <td>15881</td>\n",
       "      <td>TrÃ¶egs Nugget Nectar</td>\n",
       "      <td>7.5</td>\n",
       "    </tr>\n",
       "    <tr>\n",
       "      <th>517331</th>\n",
       "      <td>113</td>\n",
       "      <td>571</td>\n",
       "      <td>Samuel Smith's Oatmeal Stout</td>\n",
       "      <td>5.0</td>\n",
       "    </tr>\n",
       "    <tr>\n",
       "      <th>172704</th>\n",
       "      <td>221</td>\n",
       "      <td>689</td>\n",
       "      <td>Red Stripe Jamaican Lager</td>\n",
       "      <td>4.7</td>\n",
       "    </tr>\n",
       "  </tbody>\n",
       "</table>\n",
       "</div>"
      ],
      "text/plain": [
       "        beer_brewerId  beer_beerId                     beer_name  beer_ABV\n",
       "492945            132         1339         Hazelnut Brown Nectar       6.2\n",
       "172728            221          689     Red Stripe Jamaican Lager       4.7\n",
       "409699            694        15881         TrÃ¶egs Nugget Nectar       7.5\n",
       "517331            113          571  Samuel Smith's Oatmeal Stout       5.0\n",
       "172704            221          689     Red Stripe Jamaican Lager       4.7"
      ]
     },
     "execution_count": 16,
     "metadata": {},
     "output_type": "execute_result"
    }
   ],
   "source": [
    "abVP_Data = beerData[['beer_brewerId','beer_beerId','beer_name', 'beer_ABV']]\n",
    "abVP_Data.head()"
   ]
  },
  {
   "cell_type": "markdown",
   "metadata": {},
   "source": [
    "Applying aggregations over a \"beer_ABV\" with resoect to \"beer_brewerId\" and \"beer_beerId\""
   ]
  },
  {
   "cell_type": "code",
   "execution_count": 17,
   "metadata": {},
   "outputs": [],
   "source": [
    "aggrAbvDf = abVP_Data.groupby(['beer_brewerId', 'beer_beerId']).agg({'beer_ABV': [np.size, np.mean]})"
   ]
  },
  {
   "cell_type": "markdown",
   "metadata": {},
   "source": [
    "Here, the size is corresponds to the number of review logged per unique beer_beerId and\n",
    "\n",
    "the mean value tells the mean of the beer_ABV value recorder in the review"
   ]
  },
  {
   "cell_type": "code",
   "execution_count": 18,
   "metadata": {},
   "outputs": [
    {
     "data": {
      "text/html": [
       "<div>\n",
       "<style scoped>\n",
       "    .dataframe tbody tr th:only-of-type {\n",
       "        vertical-align: middle;\n",
       "    }\n",
       "\n",
       "    .dataframe tbody tr th {\n",
       "        vertical-align: top;\n",
       "    }\n",
       "\n",
       "    .dataframe thead tr th {\n",
       "        text-align: left;\n",
       "    }\n",
       "\n",
       "    .dataframe thead tr:last-of-type th {\n",
       "        text-align: right;\n",
       "    }\n",
       "</style>\n",
       "<table border=\"1\" class=\"dataframe\">\n",
       "  <thead>\n",
       "    <tr>\n",
       "      <th></th>\n",
       "      <th></th>\n",
       "      <th colspan=\"2\" halign=\"left\">beer_ABV</th>\n",
       "    </tr>\n",
       "    <tr>\n",
       "      <th></th>\n",
       "      <th></th>\n",
       "      <th>size</th>\n",
       "      <th>mean</th>\n",
       "    </tr>\n",
       "    <tr>\n",
       "      <th>beer_brewerId</th>\n",
       "      <th>beer_beerId</th>\n",
       "      <th></th>\n",
       "      <th></th>\n",
       "    </tr>\n",
       "  </thead>\n",
       "  <tbody>\n",
       "    <tr>\n",
       "      <th rowspan=\"5\" valign=\"top\">1</th>\n",
       "      <th>429</th>\n",
       "      <td>1220</td>\n",
       "      <td>4.4</td>\n",
       "    </tr>\n",
       "    <tr>\n",
       "      <th>5916</th>\n",
       "      <td>46</td>\n",
       "      <td>5.0</td>\n",
       "    </tr>\n",
       "    <tr>\n",
       "      <th>14348</th>\n",
       "      <td>6</td>\n",
       "      <td>5.0</td>\n",
       "    </tr>\n",
       "    <tr>\n",
       "      <th>19099</th>\n",
       "      <td>4</td>\n",
       "      <td>4.2</td>\n",
       "    </tr>\n",
       "    <tr>\n",
       "      <th>19123</th>\n",
       "      <td>7</td>\n",
       "      <td>4.1</td>\n",
       "    </tr>\n",
       "  </tbody>\n",
       "</table>\n",
       "</div>"
      ],
      "text/plain": [
       "                          beer_ABV     \n",
       "                              size mean\n",
       "beer_brewerId beer_beerId              \n",
       "1             429             1220  4.4\n",
       "              5916              46  5.0\n",
       "              14348              6  5.0\n",
       "              19099              4  4.2\n",
       "              19123              7  4.1"
      ]
     },
     "execution_count": 18,
     "metadata": {},
     "output_type": "execute_result"
    }
   ],
   "source": [
    "aggrAbvDf.head(5)"
   ]
  },
  {
   "cell_type": "markdown",
   "metadata": {},
   "source": [
    "Now aggregating on a brewery level i.e 'beer_ABV' mean for each brewery"
   ]
  },
  {
   "cell_type": "code",
   "execution_count": 20,
   "metadata": {},
   "outputs": [
    {
     "data": {
      "text/html": [
       "<div>\n",
       "<style scoped>\n",
       "    .dataframe tbody tr th:only-of-type {\n",
       "        vertical-align: middle;\n",
       "    }\n",
       "\n",
       "    .dataframe tbody tr th {\n",
       "        vertical-align: top;\n",
       "    }\n",
       "\n",
       "    .dataframe thead th {\n",
       "        text-align: right;\n",
       "    }\n",
       "</style>\n",
       "<table border=\"1\" class=\"dataframe\">\n",
       "  <thead>\n",
       "    <tr style=\"text-align: right;\">\n",
       "      <th></th>\n",
       "      <th>mean_size</th>\n",
       "      <th>mean_beer_ABV</th>\n",
       "    </tr>\n",
       "    <tr>\n",
       "      <th>beer_brewerId</th>\n",
       "      <th></th>\n",
       "      <th></th>\n",
       "    </tr>\n",
       "  </thead>\n",
       "  <tbody>\n",
       "    <tr>\n",
       "      <th>1</th>\n",
       "      <td>101.538462</td>\n",
       "      <td>4.876923</td>\n",
       "    </tr>\n",
       "    <tr>\n",
       "      <th>3</th>\n",
       "      <td>123.425000</td>\n",
       "      <td>6.237500</td>\n",
       "    </tr>\n",
       "    <tr>\n",
       "      <th>5</th>\n",
       "      <td>69.000000</td>\n",
       "      <td>4.837500</td>\n",
       "    </tr>\n",
       "    <tr>\n",
       "      <th>10</th>\n",
       "      <td>14.000000</td>\n",
       "      <td>4.625000</td>\n",
       "    </tr>\n",
       "    <tr>\n",
       "      <th>14</th>\n",
       "      <td>8.983871</td>\n",
       "      <td>6.588710</td>\n",
       "    </tr>\n",
       "  </tbody>\n",
       "</table>\n",
       "</div>"
      ],
      "text/plain": [
       "                mean_size  mean_beer_ABV\n",
       "beer_brewerId                           \n",
       "1              101.538462       4.876923\n",
       "3              123.425000       6.237500\n",
       "5               69.000000       4.837500\n",
       "10              14.000000       4.625000\n",
       "14               8.983871       6.588710"
      ]
     },
     "execution_count": 20,
     "metadata": {},
     "output_type": "execute_result"
    }
   ],
   "source": [
    "beer_ABVmeanDf = aggrAbvDf.groupby(level='beer_brewerId').mean()\n",
    "beer_ABVmeanDf.columns = ('mean_size', 'mean_beer_ABV')\n",
    "beer_ABVmeanDf.head(5)"
   ]
  },
  {
   "cell_type": "markdown",
   "metadata": {},
   "source": [
    "fropping the column 'mean_size' and sorting the dataframe in desceding order"
   ]
  },
  {
   "cell_type": "code",
   "execution_count": 21,
   "metadata": {},
   "outputs": [
    {
     "name": "stderr",
     "output_type": "stream",
     "text": [
      "/tmp/ipykernel_22879/1567863189.py:3: FutureWarning: In a future version of pandas all arguments of DataFrame.drop except for the argument 'labels' will be keyword-only.\n",
      "  sorted_beer_ABVmeanDf = beer_ABVmeanDf.drop('mean_size', 1).sort_values('mean_beer_ABV', ascending=False).reset_index()\n"
     ]
    }
   ],
   "source": [
    "sorted_beer_ABVmeanDf = beer_ABVmeanDf.drop('mean_size', 1).sort_values('mean_beer_ABV', ascending=False).reset_index()"
   ]
  },
  {
   "cell_type": "markdown",
   "metadata": {},
   "source": [
    "\n",
    "This line of code generates a boxplot using Seaborn, visualizing the distribution of values in the 'mean_beer_ABV' column from the DataFrame named 'sorted_beer_ABVmeanDf'."
   ]
  },
  {
   "cell_type": "code",
   "execution_count": 22,
   "metadata": {},
   "outputs": [
    {
     "data": {
      "text/plain": [
       "<Axes: >"
      ]
     },
     "execution_count": 22,
     "metadata": {},
     "output_type": "execute_result"
    },
    {
     "data": {
      "image/png": "[encoded data removed]",
      "text/plain": [
       "<Figure size 640x480 with 1 Axes>"
      ]
     },
     "metadata": {},
     "output_type": "display_data"
    }
   ],
   "source": [
    "sns.boxplot(data=sorted_beer_ABVmeanDf['mean_beer_ABV'])"
   ]
  },
  {
   "cell_type": "markdown",
   "metadata": {},
   "source": [
    "Below are the top 3 Breweries producing strongest beers considering anomalous value of 24.69% for brewery \"6513\""
   ]
  },
  {
   "cell_type": "code",
   "execution_count": 23,
   "metadata": {},
   "outputs": [
    {
     "data": {
      "text/html": [
       "<div>\n",
       "<style scoped>\n",
       "    .dataframe tbody tr th:only-of-type {\n",
       "        vertical-align: middle;\n",
       "    }\n",
       "\n",
       "    .dataframe tbody tr th {\n",
       "        vertical-align: top;\n",
       "    }\n",
       "\n",
       "    .dataframe thead th {\n",
       "        text-align: right;\n",
       "    }\n",
       "</style>\n",
       "<table border=\"1\" class=\"dataframe\">\n",
       "  <thead>\n",
       "    <tr style=\"text-align: right;\">\n",
       "      <th></th>\n",
       "      <th>beer_brewerId</th>\n",
       "      <th>mean_beer_ABV</th>\n",
       "    </tr>\n",
       "  </thead>\n",
       "  <tbody>\n",
       "    <tr>\n",
       "      <th>0</th>\n",
       "      <td>6513</td>\n",
       "      <td>24.690000</td>\n",
       "    </tr>\n",
       "    <tr>\n",
       "      <th>1</th>\n",
       "      <td>736</td>\n",
       "      <td>13.500000</td>\n",
       "    </tr>\n",
       "    <tr>\n",
       "      <th>2</th>\n",
       "      <td>24215</td>\n",
       "      <td>12.466667</td>\n",
       "    </tr>\n",
       "  </tbody>\n",
       "</table>\n",
       "</div>"
      ],
      "text/plain": [
       "   beer_brewerId  mean_beer_ABV\n",
       "0           6513      24.690000\n",
       "1            736      13.500000\n",
       "2          24215      12.466667"
      ]
     },
     "execution_count": 23,
     "metadata": {},
     "output_type": "execute_result"
    }
   ],
   "source": [
    "sorted_beer_ABVmeanDf.head(3)"
   ]
  },
  {
   "cell_type": "markdown",
   "metadata": {},
   "source": [
    "### Observations:\n",
    "1. Based on the visualization, it's evident that the majority of breweries produce beers with an Alcohol By Volume (ABV) around 6%.\n",
    "2. The box plot highlights an outlier with an ABV value of approximately 25% for the beer_brewerId \"6513.\" This value significantly surpasses the mean ABV for the dataset.\n",
    "3. It's important to acknowledge the slight possibility that the actual strongest beer could be associated with a null value in the \"beer_ABV\" column. Further investigation may be warranted to address this potential scenario."
   ]
  },
  {
   "cell_type": "markdown",
   "metadata": {},
   "source": [
    "<a name=\"question-2\"></a>\n",
    "## Question 2\n",
    "\n",
    "Which year did beers enjoy the highest ratings ?"
   ]
  },
  {
   "cell_type": "markdown",
   "metadata": {},
   "source": [
    "Extracting the relevant columns into new dataframe to use it futher."
   ]
  },
  {
   "cell_type": "code",
   "execution_count": 25,
   "metadata": {},
   "outputs": [],
   "source": [
    "review_Data = beerData[['beer_beerId','beer_name','review_overall','review_time']]"
   ]
  },
  {
   "cell_type": "code",
   "execution_count": 28,
   "metadata": {},
   "outputs": [
    {
     "name": "stderr",
     "output_type": "stream",
     "text": [
      "/tmp/ipykernel_22879/1535008746.py:1: SettingWithCopyWarning: \n",
      "A value is trying to be set on a copy of a slice from a DataFrame.\n",
      "Try using .loc[row_indexer,col_indexer] = value instead\n",
      "\n",
      "See the caveats in the documentation: https://pandas.pydata.org/pandas-docs/stable/user_guide/indexing.html#returning-a-view-versus-a-copy\n",
      "  review_Data['review_year'] = review_Data.apply(lambda row: datetime.utcfromtimestamp(row.review_time).strftime(\"%Y\"), axis=1)\n"
     ]
    }
   ],
   "source": [
    "review_Data['review_year'] = review_Data.apply(lambda row: datetime.utcfromtimestamp(row.review_time).strftime(\"%Y\"), axis=1)"
   ]
  },
  {
   "cell_type": "code",
   "execution_count": 29,
   "metadata": {},
   "outputs": [],
   "source": [
    "review_Data = review_Data.reset_index(drop=True)"
   ]
  },
  {
   "cell_type": "code",
   "execution_count": 30,
   "metadata": {},
   "outputs": [
    {
     "data": {
      "text/html": [
       "<div>\n",
       "<style scoped>\n",
       "    .dataframe tbody tr th:only-of-type {\n",
       "        vertical-align: middle;\n",
       "    }\n",
       "\n",
       "    .dataframe tbody tr th {\n",
       "        vertical-align: top;\n",
       "    }\n",
       "\n",
       "    .dataframe thead th {\n",
       "        text-align: right;\n",
       "    }\n",
       "</style>\n",
       "<table border=\"1\" class=\"dataframe\">\n",
       "  <thead>\n",
       "    <tr style=\"text-align: right;\">\n",
       "      <th></th>\n",
       "      <th>beer_beerId</th>\n",
       "      <th>beer_name</th>\n",
       "      <th>review_overall</th>\n",
       "      <th>review_time</th>\n",
       "      <th>review_year</th>\n",
       "    </tr>\n",
       "  </thead>\n",
       "  <tbody>\n",
       "    <tr>\n",
       "      <th>0</th>\n",
       "      <td>1339</td>\n",
       "      <td>Hazelnut Brown Nectar</td>\n",
       "      <td>5.0</td>\n",
       "      <td>1221003321</td>\n",
       "      <td>2008</td>\n",
       "    </tr>\n",
       "    <tr>\n",
       "      <th>1</th>\n",
       "      <td>689</td>\n",
       "      <td>Red Stripe Jamaican Lager</td>\n",
       "      <td>5.0</td>\n",
       "      <td>1129192511</td>\n",
       "      <td>2005</td>\n",
       "    </tr>\n",
       "    <tr>\n",
       "      <th>2</th>\n",
       "      <td>15881</td>\n",
       "      <td>TrÃ¶egs Nugget Nectar</td>\n",
       "      <td>5.0</td>\n",
       "      <td>1235006981</td>\n",
       "      <td>2009</td>\n",
       "    </tr>\n",
       "    <tr>\n",
       "      <th>3</th>\n",
       "      <td>571</td>\n",
       "      <td>Samuel Smith's Oatmeal Stout</td>\n",
       "      <td>5.0</td>\n",
       "      <td>1203476701</td>\n",
       "      <td>2008</td>\n",
       "    </tr>\n",
       "    <tr>\n",
       "      <th>4</th>\n",
       "      <td>689</td>\n",
       "      <td>Red Stripe Jamaican Lager</td>\n",
       "      <td>5.0</td>\n",
       "      <td>1135296352</td>\n",
       "      <td>2005</td>\n",
       "    </tr>\n",
       "  </tbody>\n",
       "</table>\n",
       "</div>"
      ],
      "text/plain": [
       "   beer_beerId                     beer_name  review_overall  review_time  \\\n",
       "0         1339         Hazelnut Brown Nectar             5.0   1221003321   \n",
       "1          689     Red Stripe Jamaican Lager             5.0   1129192511   \n",
       "2        15881         TrÃ¶egs Nugget Nectar             5.0   1235006981   \n",
       "3          571  Samuel Smith's Oatmeal Stout             5.0   1203476701   \n",
       "4          689     Red Stripe Jamaican Lager             5.0   1135296352   \n",
       "\n",
       "  review_year  \n",
       "0        2008  \n",
       "1        2005  \n",
       "2        2009  \n",
       "3        2008  \n",
       "4        2005  "
      ]
     },
     "execution_count": 30,
     "metadata": {},
     "output_type": "execute_result"
    }
   ],
   "source": [
    "review_Data.head(5)"
   ]
  },
  {
   "cell_type": "markdown",
   "metadata": {},
   "source": [
    "This code calculates the mean of the 'review_overall' column for each unique 'review_year' in the 'review_Data' DataFrame and stores the aggregated results in the 'aggrReview_Data' DataFrame. The `.head()` function is then used to display the first few rows of the resulting DataFrame."
   ]
  },
  {
   "cell_type": "code",
   "execution_count": 31,
   "metadata": {},
   "outputs": [
    {
     "data": {
      "text/html": [
       "<div>\n",
       "<style scoped>\n",
       "    .dataframe tbody tr th:only-of-type {\n",
       "        vertical-align: middle;\n",
       "    }\n",
       "\n",
       "    .dataframe tbody tr th {\n",
       "        vertical-align: top;\n",
       "    }\n",
       "\n",
       "    .dataframe thead th {\n",
       "        text-align: right;\n",
       "    }\n",
       "</style>\n",
       "<table border=\"1\" class=\"dataframe\">\n",
       "  <thead>\n",
       "    <tr style=\"text-align: right;\">\n",
       "      <th></th>\n",
       "      <th>review_year</th>\n",
       "      <th>review_overall</th>\n",
       "    </tr>\n",
       "  </thead>\n",
       "  <tbody>\n",
       "    <tr>\n",
       "      <th>0</th>\n",
       "      <td>1998</td>\n",
       "      <td>4.045455</td>\n",
       "    </tr>\n",
       "    <tr>\n",
       "      <th>1</th>\n",
       "      <td>1999</td>\n",
       "      <td>4.000000</td>\n",
       "    </tr>\n",
       "    <tr>\n",
       "      <th>2</th>\n",
       "      <td>2000</td>\n",
       "      <td>4.241379</td>\n",
       "    </tr>\n",
       "    <tr>\n",
       "      <th>3</th>\n",
       "      <td>2001</td>\n",
       "      <td>3.963687</td>\n",
       "    </tr>\n",
       "    <tr>\n",
       "      <th>4</th>\n",
       "      <td>2002</td>\n",
       "      <td>3.822060</td>\n",
       "    </tr>\n",
       "  </tbody>\n",
       "</table>\n",
       "</div>"
      ],
      "text/plain": [
       "  review_year  review_overall\n",
       "0        1998        4.045455\n",
       "1        1999        4.000000\n",
       "2        2000        4.241379\n",
       "3        2001        3.963687\n",
       "4        2002        3.822060"
      ]
     },
     "execution_count": 31,
     "metadata": {},
     "output_type": "execute_result"
    }
   ],
   "source": [
    "aggrReview_Data = review_Data.groupby(['review_year'], as_index=False)['review_overall'].agg('mean')\n",
    "aggrReview_Data.head()"
   ]
  },
  {
   "cell_type": "markdown",
   "metadata": {},
   "source": [
    "sorting the dataframe in desceding order"
   ]
  },
  {
   "cell_type": "code",
   "execution_count": 32,
   "metadata": {},
   "outputs": [
    {
     "data": {
      "text/html": [
       "<div>\n",
       "<style scoped>\n",
       "    .dataframe tbody tr th:only-of-type {\n",
       "        vertical-align: middle;\n",
       "    }\n",
       "\n",
       "    .dataframe tbody tr th {\n",
       "        vertical-align: top;\n",
       "    }\n",
       "\n",
       "    .dataframe thead th {\n",
       "        text-align: right;\n",
       "    }\n",
       "</style>\n",
       "<table border=\"1\" class=\"dataframe\">\n",
       "  <thead>\n",
       "    <tr style=\"text-align: right;\">\n",
       "      <th></th>\n",
       "      <th>review_year</th>\n",
       "      <th>review_overall</th>\n",
       "    </tr>\n",
       "  </thead>\n",
       "  <tbody>\n",
       "    <tr>\n",
       "      <th>2</th>\n",
       "      <td>2000</td>\n",
       "      <td>4.241379</td>\n",
       "    </tr>\n",
       "    <tr>\n",
       "      <th>0</th>\n",
       "      <td>1998</td>\n",
       "      <td>4.045455</td>\n",
       "    </tr>\n",
       "    <tr>\n",
       "      <th>1</th>\n",
       "      <td>1999</td>\n",
       "      <td>4.000000</td>\n",
       "    </tr>\n",
       "    <tr>\n",
       "      <th>3</th>\n",
       "      <td>2001</td>\n",
       "      <td>3.963687</td>\n",
       "    </tr>\n",
       "    <tr>\n",
       "      <th>12</th>\n",
       "      <td>2010</td>\n",
       "      <td>3.869730</td>\n",
       "    </tr>\n",
       "  </tbody>\n",
       "</table>\n",
       "</div>"
      ],
      "text/plain": [
       "   review_year  review_overall\n",
       "2         2000        4.241379\n",
       "0         1998        4.045455\n",
       "1         1999        4.000000\n",
       "3         2001        3.963687\n",
       "12        2010        3.869730"
      ]
     },
     "execution_count": 32,
     "metadata": {},
     "output_type": "execute_result"
    }
   ],
   "source": [
    "# sorting the dataframe in desceding order\n",
    "aggrReview_Data = aggrReview_Data.sort_values(by=['review_overall'], ascending=False)\n",
    "aggrReview_Data.head(5)"
   ]
  },
  {
   "cell_type": "markdown",
   "metadata": {},
   "source": [
    "This code creates a bar plot using Matplotlib, displaying the average 'review_overall' ratings for each 'review_year' from the 'aggrReview_Data' DataFrame."
   ]
  },
  {
   "cell_type": "code",
   "execution_count": 33,
   "metadata": {},
   "outputs": [
    {
     "data": {
      "image/png": "[encoded data removed]",
      "text/plain": [
       "<Figure size 640x480 with 1 Axes>"
      ]
     },
     "metadata": {},
     "output_type": "display_data"
    }
   ],
   "source": [
    "fig = plt.figure()\n",
    "ax = fig.add_axes([0,0,1,1])\n",
    "ax.bar(aggrReview_Data.review_year,aggrReview_Data.review_overall)\n",
    "plt.show()"
   ]
  },
  {
   "cell_type": "markdown",
   "metadata": {},
   "source": [
    "### Observation:\n",
    "1. Based on the bar plot above, it can be inferred that in the year 2000, beers received the highest overall ratings, with an average rating of \"4.241379.\""
   ]
  },
  {
   "cell_type": "markdown",
   "metadata": {},
   "source": [
    "<a name=\"question-3\"></a>\n",
    "## Question 3\n",
    "\n",
    "Based on the user’s ratings which factors are important among taste, aroma, appearance, and palette?"
   ]
  },
  {
   "cell_type": "code",
   "execution_count": 34,
   "metadata": {},
   "outputs": [
    {
     "data": {
      "text/html": [
       "<div>\n",
       "<style scoped>\n",
       "    .dataframe tbody tr th:only-of-type {\n",
       "        vertical-align: middle;\n",
       "    }\n",
       "\n",
       "    .dataframe tbody tr th {\n",
       "        vertical-align: top;\n",
       "    }\n",
       "\n",
       "    .dataframe thead th {\n",
       "        text-align: right;\n",
       "    }\n",
       "</style>\n",
       "<table border=\"1\" class=\"dataframe\">\n",
       "  <thead>\n",
       "    <tr style=\"text-align: right;\">\n",
       "      <th></th>\n",
       "      <th>beer_beerId</th>\n",
       "      <th>review_appearance</th>\n",
       "      <th>review_palette</th>\n",
       "      <th>review_taste</th>\n",
       "      <th>review_aroma</th>\n",
       "      <th>review_overall</th>\n",
       "    </tr>\n",
       "  </thead>\n",
       "  <tbody>\n",
       "    <tr>\n",
       "      <th>492945</th>\n",
       "      <td>1339</td>\n",
       "      <td>4.5</td>\n",
       "      <td>3.0</td>\n",
       "      <td>4.5</td>\n",
       "      <td>5.0</td>\n",
       "      <td>5.0</td>\n",
       "    </tr>\n",
       "    <tr>\n",
       "      <th>172728</th>\n",
       "      <td>689</td>\n",
       "      <td>5.0</td>\n",
       "      <td>3.0</td>\n",
       "      <td>4.5</td>\n",
       "      <td>4.0</td>\n",
       "      <td>5.0</td>\n",
       "    </tr>\n",
       "    <tr>\n",
       "      <th>409699</th>\n",
       "      <td>15881</td>\n",
       "      <td>4.0</td>\n",
       "      <td>4.0</td>\n",
       "      <td>4.5</td>\n",
       "      <td>4.5</td>\n",
       "      <td>5.0</td>\n",
       "    </tr>\n",
       "    <tr>\n",
       "      <th>517331</th>\n",
       "      <td>571</td>\n",
       "      <td>4.5</td>\n",
       "      <td>4.5</td>\n",
       "      <td>4.5</td>\n",
       "      <td>4.5</td>\n",
       "      <td>5.0</td>\n",
       "    </tr>\n",
       "    <tr>\n",
       "      <th>172704</th>\n",
       "      <td>689</td>\n",
       "      <td>3.0</td>\n",
       "      <td>3.5</td>\n",
       "      <td>4.0</td>\n",
       "      <td>5.0</td>\n",
       "      <td>5.0</td>\n",
       "    </tr>\n",
       "  </tbody>\n",
       "</table>\n",
       "</div>"
      ],
      "text/plain": [
       "        beer_beerId  review_appearance  review_palette  review_taste  \\\n",
       "492945         1339                4.5             3.0           4.5   \n",
       "172728          689                5.0             3.0           4.5   \n",
       "409699        15881                4.0             4.0           4.5   \n",
       "517331          571                4.5             4.5           4.5   \n",
       "172704          689                3.0             3.5           4.0   \n",
       "\n",
       "        review_aroma  review_overall  \n",
       "492945           5.0             5.0  \n",
       "172728           4.0             5.0  \n",
       "409699           4.5             5.0  \n",
       "517331           4.5             5.0  \n",
       "172704           5.0             5.0  "
      ]
     },
     "execution_count": 34,
     "metadata": {},
     "output_type": "execute_result"
    }
   ],
   "source": [
    "beerRatingsDf = beerData[['beer_beerId', 'review_appearance', 'review_palette','review_taste', 'review_aroma', 'review_overall']]\n",
    "beerRatingsDf.head()"
   ]
  },
  {
   "cell_type": "markdown",
   "metadata": {},
   "source": [
    "This code aggregates beer ratings data from the 'beerRatingsDf' DataFrame, grouping by 'beer_beerId' and calculating counts and means for various review aspects. The resulting DataFrame is assigned to 'beerRatingsAggrDf', and the column names are then renamed for clarity. The `.head()` function is used to display the first few rows of the resulting DataFrame."
   ]
  },
  {
   "cell_type": "code",
   "execution_count": 35,
   "metadata": {},
   "outputs": [
    {
     "data": {
      "text/html": [
       "<div>\n",
       "<style scoped>\n",
       "    .dataframe tbody tr th:only-of-type {\n",
       "        vertical-align: middle;\n",
       "    }\n",
       "\n",
       "    .dataframe tbody tr th {\n",
       "        vertical-align: top;\n",
       "    }\n",
       "\n",
       "    .dataframe thead th {\n",
       "        text-align: right;\n",
       "    }\n",
       "</style>\n",
       "<table border=\"1\" class=\"dataframe\">\n",
       "  <thead>\n",
       "    <tr style=\"text-align: right;\">\n",
       "      <th></th>\n",
       "      <th>beer_beerId_count</th>\n",
       "      <th>review_aroma</th>\n",
       "      <th>review_taste</th>\n",
       "      <th>review_appearance</th>\n",
       "      <th>review_palette</th>\n",
       "      <th>review_overall</th>\n",
       "    </tr>\n",
       "    <tr>\n",
       "      <th>beer_beerId</th>\n",
       "      <th></th>\n",
       "      <th></th>\n",
       "      <th></th>\n",
       "      <th></th>\n",
       "      <th></th>\n",
       "      <th></th>\n",
       "    </tr>\n",
       "  </thead>\n",
       "  <tbody>\n",
       "    <tr>\n",
       "      <th>5</th>\n",
       "      <td>420</td>\n",
       "      <td>3.342857</td>\n",
       "      <td>3.323810</td>\n",
       "      <td>3.488095</td>\n",
       "      <td>3.208333</td>\n",
       "      <td>3.554762</td>\n",
       "    </tr>\n",
       "    <tr>\n",
       "      <th>6</th>\n",
       "      <td>871</td>\n",
       "      <td>3.645809</td>\n",
       "      <td>3.514351</td>\n",
       "      <td>3.839839</td>\n",
       "      <td>3.517222</td>\n",
       "      <td>3.709529</td>\n",
       "    </tr>\n",
       "    <tr>\n",
       "      <th>7</th>\n",
       "      <td>655</td>\n",
       "      <td>3.103817</td>\n",
       "      <td>3.110687</td>\n",
       "      <td>3.251145</td>\n",
       "      <td>3.178626</td>\n",
       "      <td>3.271756</td>\n",
       "    </tr>\n",
       "    <tr>\n",
       "      <th>8</th>\n",
       "      <td>68</td>\n",
       "      <td>3.235294</td>\n",
       "      <td>3.301471</td>\n",
       "      <td>3.294118</td>\n",
       "      <td>3.080882</td>\n",
       "      <td>3.647059</td>\n",
       "    </tr>\n",
       "    <tr>\n",
       "      <th>9</th>\n",
       "      <td>116</td>\n",
       "      <td>3.043103</td>\n",
       "      <td>3.103448</td>\n",
       "      <td>3.051724</td>\n",
       "      <td>2.853448</td>\n",
       "      <td>3.400862</td>\n",
       "    </tr>\n",
       "  </tbody>\n",
       "</table>\n",
       "</div>"
      ],
      "text/plain": [
       "             beer_beerId_count  review_aroma  review_taste  review_appearance  \\\n",
       "beer_beerId                                                                     \n",
       "5                          420      3.342857      3.323810           3.488095   \n",
       "6                          871      3.645809      3.514351           3.839839   \n",
       "7                          655      3.103817      3.110687           3.251145   \n",
       "8                           68      3.235294      3.301471           3.294118   \n",
       "9                          116      3.043103      3.103448           3.051724   \n",
       "\n",
       "             review_palette  review_overall  \n",
       "beer_beerId                                  \n",
       "5                  3.208333        3.554762  \n",
       "6                  3.517222        3.709529  \n",
       "7                  3.178626        3.271756  \n",
       "8                  3.080882        3.647059  \n",
       "9                  2.853448        3.400862  "
      ]
     },
     "execution_count": 35,
     "metadata": {},
     "output_type": "execute_result"
    }
   ],
   "source": [
    "beerRatingsAggrDf = beerRatingsDf.groupby('beer_beerId').agg(\n",
    "        {'beer_beerId':'count',\n",
    "         'review_aroma':'mean',\n",
    "         'review_taste':'mean',\n",
    "         'review_appearance':'mean',\n",
    "         'review_palette':'mean',\n",
    "        'review_overall':'mean'})\n",
    "\n",
    "beerRatingsAggrDf.columns = ('beer_beerId_count','review_aroma','review_taste','review_appearance','review_palette','review_overall')\n",
    "beerRatingsAggrDf.head()"
   ]
  },
  {
   "cell_type": "markdown",
   "metadata": {},
   "source": [
    "Lets observe the correlation between columns.\n",
    "\n",
    "Calculate the Pearson's correlation coeff and plot a heatmap."
   ]
  },
  {
   "cell_type": "code",
   "execution_count": 36,
   "metadata": {},
   "outputs": [
    {
     "data": {
      "text/html": [
       "<div>\n",
       "<style scoped>\n",
       "    .dataframe tbody tr th:only-of-type {\n",
       "        vertical-align: middle;\n",
       "    }\n",
       "\n",
       "    .dataframe tbody tr th {\n",
       "        vertical-align: top;\n",
       "    }\n",
       "\n",
       "    .dataframe thead th {\n",
       "        text-align: right;\n",
       "    }\n",
       "</style>\n",
       "<table border=\"1\" class=\"dataframe\">\n",
       "  <thead>\n",
       "    <tr style=\"text-align: right;\">\n",
       "      <th></th>\n",
       "      <th>review_aroma</th>\n",
       "      <th>review_taste</th>\n",
       "      <th>review_appearance</th>\n",
       "      <th>review_palette</th>\n",
       "      <th>review_overall</th>\n",
       "    </tr>\n",
       "  </thead>\n",
       "  <tbody>\n",
       "    <tr>\n",
       "      <th>review_aroma</th>\n",
       "      <td>1.000000</td>\n",
       "      <td>0.835014</td>\n",
       "      <td>0.660198</td>\n",
       "      <td>0.825980</td>\n",
       "      <td>0.883830</td>\n",
       "    </tr>\n",
       "    <tr>\n",
       "      <th>review_taste</th>\n",
       "      <td>0.835014</td>\n",
       "      <td>1.000000</td>\n",
       "      <td>0.682245</td>\n",
       "      <td>0.756271</td>\n",
       "      <td>0.823196</td>\n",
       "    </tr>\n",
       "    <tr>\n",
       "      <th>review_appearance</th>\n",
       "      <td>0.660198</td>\n",
       "      <td>0.682245</td>\n",
       "      <td>1.000000</td>\n",
       "      <td>0.669227</td>\n",
       "      <td>0.637603</td>\n",
       "    </tr>\n",
       "    <tr>\n",
       "      <th>review_palette</th>\n",
       "      <td>0.825980</td>\n",
       "      <td>0.756271</td>\n",
       "      <td>0.669227</td>\n",
       "      <td>1.000000</td>\n",
       "      <td>0.766905</td>\n",
       "    </tr>\n",
       "    <tr>\n",
       "      <th>review_overall</th>\n",
       "      <td>0.883830</td>\n",
       "      <td>0.823196</td>\n",
       "      <td>0.637603</td>\n",
       "      <td>0.766905</td>\n",
       "      <td>1.000000</td>\n",
       "    </tr>\n",
       "  </tbody>\n",
       "</table>\n",
       "</div>"
      ],
      "text/plain": [
       "                   review_aroma  review_taste  review_appearance  \\\n",
       "review_aroma           1.000000      0.835014           0.660198   \n",
       "review_taste           0.835014      1.000000           0.682245   \n",
       "review_appearance      0.660198      0.682245           1.000000   \n",
       "review_palette         0.825980      0.756271           0.669227   \n",
       "review_overall         0.883830      0.823196           0.637603   \n",
       "\n",
       "                   review_palette  review_overall  \n",
       "review_aroma             0.825980        0.883830  \n",
       "review_taste             0.756271        0.823196  \n",
       "review_appearance        0.669227        0.637603  \n",
       "review_palette           1.000000        0.766905  \n",
       "review_overall           0.766905        1.000000  "
      ]
     },
     "execution_count": 36,
     "metadata": {},
     "output_type": "execute_result"
    }
   ],
   "source": [
    "corVals = beerRatingsAggrDf.corr()\n",
    "corVals = corVals.iloc[1:6,1:6]\n",
    "corVals"
   ]
  },
  {
   "cell_type": "markdown",
   "metadata": {},
   "source": [
    "masking the upper diagonal matrix"
   ]
  },
  {
   "cell_type": "code",
   "execution_count": 38,
   "metadata": {},
   "outputs": [],
   "source": [
    "upperMask = np.zeros_like(corVals)\n",
    "upperMask[np.triu_indices_from(upperMask, k=1)] = True"
   ]
  },
  {
   "cell_type": "markdown",
   "metadata": {},
   "source": [
    "This code creates a heatmap using Seaborn to visualize Pearson's correlation coefficients stored in the 'corVals' matrix. The 'mask' parameter is applied to display only the upper triangular part of the matrix, and annotations are included. The plot is titled \"Pearson's Correlation Coefficients.\""
   ]
  },
  {
   "cell_type": "code",
   "execution_count": 39,
   "metadata": {},
   "outputs": [
    {
     "data": {
      "image/png": "[encoded data removed]",
      "text/plain": [
       "<Figure size 640x480 with 2 Axes>"
      ]
     },
     "metadata": {},
     "output_type": "display_data"
    }
   ],
   "source": [
    "sns.heatmap(corVals, mask=upperMask, annot=True, linewidths=.3)\n",
    "plt.title(\"Pearson's Correlations Coeff\")\n",
    "plt.show()"
   ]
  },
  {
   "cell_type": "markdown",
   "metadata": {},
   "source": [
    "### Observations:\n",
    "1. The heatmap above suggests that the key factors influencing the overall rating of beers are aroma (0.88), followed by taste (0.82), palette (0.77), and appearance (0.64). These correlation coefficients indicate the strength and direction of the relationships between these variables and the overall rating."
   ]
  },
  {
   "cell_type": "markdown",
   "metadata": {},
   "source": [
    "<a name=\"question-4\"></a>\n",
    "# Question 4\n",
    "\n",
    "If you were to recommend 3 beers to your friends based on this data which ones will you recommend?"
   ]
  },
  {
   "cell_type": "markdown",
   "metadata": {},
   "source": [
    "Upon reviewing the dataset, it appears that the 'review_overall' field is a suitable metric for ranking beers. While other features focus more on evaluating specific attributes of the beers, the overall review provides a comprehensive assessment that can serve as a robust basis for ranking."
   ]
  },
  {
   "cell_type": "markdown",
   "metadata": {},
   "source": [
    "Chosing the relevant features to analyze\n"
   ]
  },
  {
   "cell_type": "code",
   "execution_count": 40,
   "metadata": {},
   "outputs": [],
   "source": [
    "recommendData = beerData[['beer_brewerId','beer_beerId','beer_name','beer_ABV', 'beer_style', 'review_overall']]"
   ]
  },
  {
   "cell_type": "markdown",
   "metadata": {},
   "source": [
    "Counting the number of the reviews with fresoect to each beer"
   ]
  },
  {
   "cell_type": "code",
   "execution_count": 41,
   "metadata": {},
   "outputs": [
    {
     "name": "stderr",
     "output_type": "stream",
     "text": [
      "/tmp/ipykernel_22879/4227454575.py:3: SettingWithCopyWarning: \n",
      "A value is trying to be set on a copy of a slice from a DataFrame.\n",
      "Try using .loc[row_indexer,col_indexer] = value instead\n",
      "\n",
      "See the caveats in the documentation: https://pandas.pydata.org/pandas-docs/stable/user_guide/indexing.html#returning-a-view-versus-a-copy\n",
      "  recommendData['review_count'] = recommendData.groupby(['beer_beerId'])['review_overall'].transform('count')\n"
     ]
    }
   ],
   "source": [
    "recommendData['review_count'] = recommendData.groupby(['beer_beerId'])['review_overall'].transform('count')"
   ]
  },
  {
   "cell_type": "code",
   "execution_count": 42,
   "metadata": {},
   "outputs": [
    {
     "data": {
      "text/plain": [
       "624.2821477991729"
      ]
     },
     "execution_count": 42,
     "metadata": {},
     "output_type": "execute_result"
    }
   ],
   "source": [
    "recommendData.review_count.mean()"
   ]
  },
  {
   "cell_type": "markdown",
   "metadata": {},
   "source": [
    "Plotting Histogram to visualise the distribution review_count "
   ]
  },
  {
   "cell_type": "code",
   "execution_count": 43,
   "metadata": {},
   "outputs": [
    {
     "data": {
      "image/png": "[encoded data removed]",
      "text/plain": [
       "<Figure size 640x480 with 1 Axes>"
      ]
     },
     "metadata": {},
     "output_type": "display_data"
    }
   ],
   "source": [
    "recommendData.review_count.hist(bins=50)\n",
    "plt.ylabel('Count')\n",
    "plt.show()"
   ]
  },
  {
   "cell_type": "markdown",
   "metadata": {},
   "source": [
    "calculating mean review_overall value for each beer Id "
   ]
  },
  {
   "cell_type": "code",
   "execution_count": 44,
   "metadata": {},
   "outputs": [
    {
     "name": "stderr",
     "output_type": "stream",
     "text": [
      "/tmp/ipykernel_22879/1564388399.py:2: SettingWithCopyWarning: \n",
      "A value is trying to be set on a copy of a slice from a DataFrame.\n",
      "Try using .loc[row_indexer,col_indexer] = value instead\n",
      "\n",
      "See the caveats in the documentation: https://pandas.pydata.org/pandas-docs/stable/user_guide/indexing.html#returning-a-view-versus-a-copy\n",
      "  recommendData['review_overall_mean'] = recommendData.groupby(['beer_beerId'])['review_overall'].transform('mean')\n"
     ]
    }
   ],
   "source": [
    "recommendData['review_overall_mean'] = recommendData.groupby(['beer_beerId'])['review_overall'].transform('mean')"
   ]
  },
  {
   "cell_type": "markdown",
   "metadata": {},
   "source": [
    "Considering 1/4 th of avg review count to filter"
   ]
  },
  {
   "cell_type": "code",
   "execution_count": 45,
   "metadata": {},
   "outputs": [],
   "source": [
    "filteredRecommendData = recommendData[recommendData.review_count >= 150]"
   ]
  },
  {
   "cell_type": "markdown",
   "metadata": {},
   "source": [
    "The top 3 suggestions are as below"
   ]
  },
  {
   "cell_type": "code",
   "execution_count": 46,
   "metadata": {},
   "outputs": [
    {
     "data": {
      "text/html": [
       "<div>\n",
       "<style scoped>\n",
       "    .dataframe tbody tr th:only-of-type {\n",
       "        vertical-align: middle;\n",
       "    }\n",
       "\n",
       "    .dataframe tbody tr th {\n",
       "        vertical-align: top;\n",
       "    }\n",
       "\n",
       "    .dataframe thead th {\n",
       "        text-align: right;\n",
       "    }\n",
       "</style>\n",
       "<table border=\"1\" class=\"dataframe\">\n",
       "  <thead>\n",
       "    <tr style=\"text-align: right;\">\n",
       "      <th></th>\n",
       "      <th>beer_brewerId</th>\n",
       "      <th>beer_beerId</th>\n",
       "      <th>beer_name</th>\n",
       "      <th>beer_ABV</th>\n",
       "      <th>beer_style</th>\n",
       "      <th>review_overall</th>\n",
       "      <th>review_count</th>\n",
       "      <th>review_overall_mean</th>\n",
       "    </tr>\n",
       "  </thead>\n",
       "  <tbody>\n",
       "    <tr>\n",
       "      <th>334964</th>\n",
       "      <td>14064</td>\n",
       "      <td>56082</td>\n",
       "      <td>Citra DIPA</td>\n",
       "      <td>8.0</td>\n",
       "      <td>American Double / Imperial IPA</td>\n",
       "      <td>5.0</td>\n",
       "      <td>246</td>\n",
       "      <td>4.630081</td>\n",
       "    </tr>\n",
       "    <tr>\n",
       "      <th>484119</th>\n",
       "      <td>388</td>\n",
       "      <td>36316</td>\n",
       "      <td>Cantillon BlÃ¥bÃ¦r Lambik</td>\n",
       "      <td>5.0</td>\n",
       "      <td>Lambic - Fruit</td>\n",
       "      <td>5.0</td>\n",
       "      <td>155</td>\n",
       "      <td>4.625806</td>\n",
       "    </tr>\n",
       "    <tr>\n",
       "      <th>378552</th>\n",
       "      <td>27039</td>\n",
       "      <td>16814</td>\n",
       "      <td>Heady Topper</td>\n",
       "      <td>8.0</td>\n",
       "      <td>American Double / Imperial IPA</td>\n",
       "      <td>5.0</td>\n",
       "      <td>443</td>\n",
       "      <td>4.623025</td>\n",
       "    </tr>\n",
       "  </tbody>\n",
       "</table>\n",
       "</div>"
      ],
      "text/plain": [
       "        beer_brewerId  beer_beerId                  beer_name  beer_ABV  \\\n",
       "334964          14064        56082                 Citra DIPA       8.0   \n",
       "484119            388        36316  Cantillon BlÃ¥bÃ¦r Lambik       5.0   \n",
       "378552          27039        16814               Heady Topper       8.0   \n",
       "\n",
       "                            beer_style  review_overall  review_count  \\\n",
       "334964  American Double / Imperial IPA             5.0           246   \n",
       "484119                  Lambic - Fruit             5.0           155   \n",
       "378552  American Double / Imperial IPA             5.0           443   \n",
       "\n",
       "        review_overall_mean  \n",
       "334964             4.630081  \n",
       "484119             4.625806  \n",
       "378552             4.623025  "
      ]
     },
     "execution_count": 46,
     "metadata": {},
     "output_type": "execute_result"
    }
   ],
   "source": [
    "aggrFilteredRecommendData = filteredRecommendData.groupby('beer_beerId').head(1).sort_values('review_overall_mean', ascending=False )\n",
    "aggrFilteredRecommendData.head(3)"
   ]
  },
  {
   "cell_type": "markdown",
   "metadata": {},
   "source": [
    "<a name=\"question-5\"></a>\n",
    "## Question 5\n",
    "\n",
    "Which beer style seems to be the favourite based on the reviews written by users? How does written reviews compare to overall review score for that beer style?"
   ]
  },
  {
   "cell_type": "markdown",
   "metadata": {},
   "source": [
    "Instantiating Sentiment Analyzer"
   ]
  },
  {
   "cell_type": "code",
   "execution_count": 34,
   "metadata": {},
   "outputs": [],
   "source": [
    "analyser = SentimentIntensityAnalyzer()"
   ]
  },
  {
   "cell_type": "markdown",
   "metadata": {},
   "source": [
    "Considering only relevant columns"
   ]
  },
  {
   "cell_type": "code",
   "execution_count": 42,
   "metadata": {},
   "outputs": [],
   "source": [
    "reviewTextData = df[['beer_beerId','beer_name','beer_ABV','beer_style','review_overall','review_text']]"
   ]
  },
  {
   "cell_type": "markdown",
   "metadata": {},
   "source": [
    "lets consider the higher reviews only to calculate the polarity score of review_text and compare it with overall review"
   ]
  },
  {
   "cell_type": "code",
   "execution_count": 43,
   "metadata": {},
   "outputs": [],
   "source": [
    "reviewTextData = reviewTextData.loc[reviewTextData['review_overall'] >= 4]"
   ]
  },
  {
   "cell_type": "markdown",
   "metadata": {},
   "source": [
    "Resetting Index"
   ]
  },
  {
   "cell_type": "code",
   "execution_count": 44,
   "metadata": {},
   "outputs": [
    {
     "data": {
      "text/html": [
       "<div>\n",
       "<style scoped>\n",
       "    .dataframe tbody tr th:only-of-type {\n",
       "        vertical-align: middle;\n",
       "    }\n",
       "\n",
       "    .dataframe tbody tr th {\n",
       "        vertical-align: top;\n",
       "    }\n",
       "\n",
       "    .dataframe thead th {\n",
       "        text-align: right;\n",
       "    }\n",
       "</style>\n",
       "<table border=\"1\" class=\"dataframe\">\n",
       "  <thead>\n",
       "    <tr style=\"text-align: right;\">\n",
       "      <th></th>\n",
       "      <th>beer_beerId</th>\n",
       "      <th>beer_name</th>\n",
       "      <th>beer_ABV</th>\n",
       "      <th>beer_style</th>\n",
       "      <th>review_overall</th>\n",
       "      <th>review_text</th>\n",
       "    </tr>\n",
       "  </thead>\n",
       "  <tbody>\n",
       "    <tr>\n",
       "      <th>0</th>\n",
       "      <td>64883</td>\n",
       "      <td>Cauldron DIPA</td>\n",
       "      <td>7.7</td>\n",
       "      <td>American Double / Imperial IPA</td>\n",
       "      <td>4.0</td>\n",
       "      <td>According to the website, the style for the Ca...</td>\n",
       "    </tr>\n",
       "    <tr>\n",
       "      <th>1</th>\n",
       "      <td>52159</td>\n",
       "      <td>Caldera Ginger Beer</td>\n",
       "      <td>4.7</td>\n",
       "      <td>Herbed / Spiced Beer</td>\n",
       "      <td>4.0</td>\n",
       "      <td>I'm not sure why I picked this up... I like gi...</td>\n",
       "    </tr>\n",
       "  </tbody>\n",
       "</table>\n",
       "</div>"
      ],
      "text/plain": [
       "   beer_beerId            beer_name  beer_ABV                      beer_style  \\\n",
       "0        64883        Cauldron DIPA       7.7  American Double / Imperial IPA   \n",
       "1        52159  Caldera Ginger Beer       4.7            Herbed / Spiced Beer   \n",
       "\n",
       "   review_overall                                        review_text  \n",
       "0             4.0  According to the website, the style for the Ca...  \n",
       "1             4.0  I'm not sure why I picked this up... I like gi...  "
      ]
     },
     "execution_count": 44,
     "metadata": {},
     "output_type": "execute_result"
    }
   ],
   "source": [
    "reviewTextData.reset_index(drop=True,inplace=True)\n",
    "reviewTextData.head(2)"
   ]
  },
  {
   "cell_type": "markdown",
   "metadata": {},
   "source": [
    "Printing some random reviews to observe the review text"
   ]
  },
  {
   "cell_type": "code",
   "execution_count": 45,
   "metadata": {},
   "outputs": [
    {
     "data": {
      "text/plain": [
       "\"According to the website, the style for the Caldera Cauldron changes every year. The current release is a DIPA, which frankly is the only cauldron I'm familiar with (it was an IPA/DIPA the last time I ordered a cauldron at the horsebrass several years back). In any event... at the Horse Brass yesterday. The beer pours an orange copper color with good head retention and lacing. The nose is all hoppy IPA goodness, showcasing a huge aroma of dry citrus, pine and sandlewood. The flavor profile replicates the nose pretty closely in this West Coast all the way DIPA. This DIPA is not for the faint of heart and is a bit much even for a hophead like myslf. The finish is quite dry and hoppy, and there's barely enough sweet malt to balance and hold up the avalanche of hoppy bitterness in this beer. Mouthfeel is actually fairly light, with a long, persistentely bitter finish. Drinkability is good, with the alcohol barely noticeable in this well crafted beer. Still, this beer is so hugely hoppy/bitter, it's really hard for me to imagine ordering more than a single glass. Regardless, this is a very impressive beer from the folks at Caldera.\""
      ]
     },
     "execution_count": 45,
     "metadata": {},
     "output_type": "execute_result"
    }
   ],
   "source": [
    "reviewTextData.review_text[0]"
   ]
  },
  {
   "cell_type": "markdown",
   "metadata": {},
   "source": [
    "### Text Preprocessing"
   ]
  },
  {
   "cell_type": "markdown",
   "metadata": {},
   "source": [
    "Initial text processing to deconstruct the short forms"
   ]
  },
  {
   "cell_type": "code",
   "execution_count": 55,
   "metadata": {},
   "outputs": [],
   "source": [
    "def decontracted(phrase):\n",
    "    # # specific\n",
    "    phrase = re.sub(r\"won\\'t\", \"will not\", phrase)\n",
    "    phrase = re.sub(r\"can\\'t\", \"can not\", phrase)\n",
    "\n",
    "    # general\n",
    "    phrase = re.sub(r\"n\\'t\", \" not\", phrase)\n",
    "    phrase = re.sub(r\"\\'re\", \" are\", phrase)\n",
    "    phrase = re.sub(r\"\\'s\", \" is\", phrase)\n",
    "    phrase = re.sub(r\"\\'d\", \" would\", phrase)\n",
    "    phrase = re.sub(r\"\\'ll\", \" will\", phrase)\n",
    "    phrase = re.sub(r\"\\'t\", \" not\", phrase)\n",
    "    phrase = re.sub(r\"\\'ve\", \" have\", phrase)\n",
    "    phrase = re.sub(r\"\\'m\", \" am\", phrase)\n",
    "    \n",
    "    return phrase"
   ]
  },
  {
   "cell_type": "markdown",
   "metadata": {},
   "source": [
    "This code snippet uses the `tqdm` library to display a progress bar during the loop. It preprocesses text data in the 'review_text' column of the 'reviewTextData' DataFrame, removing numeric characters and applying a decontraction function ('decontracted'). The preprocessed sentences are then stored in the 'preprocessed_reviews' list. Additionally, there's a print statement to handle non-string values during the loop."
   ]
  },
  {
   "cell_type": "code",
   "execution_count": 60,
   "metadata": {},
   "outputs": [
    {
     "name": "stderr",
     "output_type": "stream",
     "text": [
      "100%|██████████| 338410/338410 [00:15<00:00, 22544.80it/s]\n"
     ]
    }
   ],
   "source": [
    "from tqdm import tqdm\n",
    "# Assuming reviewTextData is your DataFrame\n",
    "reviewTextData = reviewTextData.dropna(subset=['review_text'])\n",
    "\n",
    "# Now, you can proceed with your text processing loop\n",
    "preprocessed_reviews = []\n",
    "\n",
    "for sentence in tqdm(reviewTextData['review_text'].values):\n",
    "    if isinstance(sentence, str):\n",
    "        sentence = decontracted(sentence)\n",
    "        sentence = re.sub(\"\\S*\\d\\S*\", \"\", sentence).strip()\n",
    "        preprocessed_reviews.append(sentence)\n",
    "    else:\n",
    "        # Handle the case where the sentence is not a string (optional)\n",
    "        print(f\"Skipped non-string value: {sentence}\")\n"
   ]
  },
  {
   "cell_type": "code",
   "execution_count": 61,
   "metadata": {},
   "outputs": [
    {
     "name": "stderr",
     "output_type": "stream",
     "text": [
      "/tmp/ipykernel_50555/320853897.py:2: SettingWithCopyWarning: \n",
      "A value is trying to be set on a copy of a slice from a DataFrame.\n",
      "Try using .loc[row_indexer,col_indexer] = value instead\n",
      "\n",
      "See the caveats in the documentation: https://pandas.pydata.org/pandas-docs/stable/user_guide/indexing.html#returning-a-view-versus-a-copy\n",
      "  reviewTextData['preprocessed_review_text'] = preprocessed_reviews\n"
     ]
    }
   ],
   "source": [
    "#Appending preprocessed reviews to the filtered dataframe\n",
    "reviewTextData['preprocessed_review_text'] = preprocessed_reviews"
   ]
  },
  {
   "cell_type": "code",
   "execution_count": 62,
   "metadata": {},
   "outputs": [
    {
     "data": {
      "text/plain": [
       "\"According to the website, the style for the Caldera Cauldron changes every year. The current release is a DIPA, which frankly is the only cauldron I'm familiar with (it was an IPA/DIPA the last time I ordered a cauldron at the horsebrass several years back). In any event... at the Horse Brass yesterday. The beer pours an orange copper color with good head retention and lacing. The nose is all hoppy IPA goodness, showcasing a huge aroma of dry citrus, pine and sandlewood. The flavor profile replicates the nose pretty closely in this West Coast all the way DIPA. This DIPA is not for the faint of heart and is a bit much even for a hophead like myslf. The finish is quite dry and hoppy, and there's barely enough sweet malt to balance and hold up the avalanche of hoppy bitterness in this beer. Mouthfeel is actually fairly light, with a long, persistentely bitter finish. Drinkability is good, with the alcohol barely noticeable in this well crafted beer. Still, this beer is so hugely hoppy/bitter, it's really hard for me to imagine ordering more than a single glass. Regardless, this is a very impressive beer from the folks at Caldera.\""
      ]
     },
     "execution_count": 62,
     "metadata": {},
     "output_type": "execute_result"
    }
   ],
   "source": [
    "reviewTextData.review_text[0]"
   ]
  },
  {
   "cell_type": "markdown",
   "metadata": {},
   "source": [
    "loop over the 'preprocessed_review_text' column and calculate the polarity score for each review. "
   ]
  },
  {
   "cell_type": "code",
   "execution_count": 66,
   "metadata": {},
   "outputs": [
    {
     "name": "stderr",
     "output_type": "stream",
     "text": [
      "/tmp/ipykernel_50555/2910192002.py:3: SettingWithCopyWarning: \n",
      "A value is trying to be set on a copy of a slice from a DataFrame.\n",
      "Try using .loc[row_indexer,col_indexer] = value instead\n",
      "\n",
      "See the caveats in the documentation: https://pandas.pydata.org/pandas-docs/stable/user_guide/indexing.html#returning-a-view-versus-a-copy\n",
      "  reviewTextData['polarity_score2'] = reviewTextData['preprocessed_review_text'].apply(lambda x: sianalyzer.polarity_scores(x)['compound'])\n"
     ]
    }
   ],
   "source": [
    "reviewTextData['polarity_score2'] = reviewTextData['preprocessed_review_text'].apply(lambda x: analyser.polarity_scores(x)['compound'])"
   ]
  },
  {
   "cell_type": "markdown",
   "metadata": {},
   "source": [
    "Groupping by the 'beer_beerId' and calculate mean polarity score."
   ]
  },
  {
   "cell_type": "code",
   "execution_count": 67,
   "metadata": {},
   "outputs": [],
   "source": [
    "reviewTextDataGroupped = reviewTextData.groupby('beer_style')['polarity_score2'].mean()"
   ]
  },
  {
   "cell_type": "markdown",
   "metadata": {},
   "source": [
    "Lets Sort the groupped data by mean polarity score"
   ]
  },
  {
   "cell_type": "code",
   "execution_count": 68,
   "metadata": {},
   "outputs": [
    {
     "data": {
      "text/plain": [
       "beer_style\n",
       "Braggot                      0.924828\n",
       "Happoshu                     0.921055\n",
       "Dortmunder / Export Lager    0.905423\n",
       "Wheatwine                    0.897439\n",
       "Quadrupel (Quad)             0.893216\n",
       "Name: polarity_score2, dtype: float64"
      ]
     },
     "execution_count": 68,
     "metadata": {},
     "output_type": "execute_result"
    }
   ],
   "source": [
    "reviewTextDataGroupped.sort_values(ascending=False)[0:5]"
   ]
  },
  {
   "cell_type": "markdown",
   "metadata": {},
   "source": [
    "1. By Observing the mean compund ploarity score , we can say that the beer style \"Braggot\" is quite most famous.\n",
    "2. By Observing the mean compund ploarity score calculated we can get an idea how the user written review text is collaborating in calculating the overall review score."
   ]
  },
  {
   "cell_type": "code",
   "execution_count": null,
   "metadata": {},
   "outputs": [],
   "source": []
  }
 ],
 "metadata": {
  "kernelspec": {
   "display_name": "Python 3 (ipykernel)",
   "language": "python",
   "name": "python3"
  },
  "language_info": {
   "codemirror_mode": {
    "name": "ipython",
    "version": 3
   },
   "file_extension": ".py",
   "mimetype": "text/x-python",
   "name": "python",
   "nbconvert_exporter": "python",
   "pygments_lexer": "ipython3",
   "version": "3.8.10"
  }
 },
 "nbformat": 4,
 "nbformat_minor": 2
}
