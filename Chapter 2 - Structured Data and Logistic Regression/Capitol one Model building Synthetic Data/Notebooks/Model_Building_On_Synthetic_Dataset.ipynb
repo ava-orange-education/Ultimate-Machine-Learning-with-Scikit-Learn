version https://git-lfs.github.com/spec/v1
oid sha256:19a11c94a3758b99db6f78e95ef49b17e3a19e859f96f1b56f9dfda6d573e4db
size 134559
