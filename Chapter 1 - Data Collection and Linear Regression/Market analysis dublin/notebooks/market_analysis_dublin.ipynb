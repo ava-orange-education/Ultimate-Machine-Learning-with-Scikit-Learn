{
 "cells": [
  {
   "cell_type": "markdown",
   "metadata": {},
   "source": [
    "# Hospitality Insights - Analyzing Accommodation Preferences"
   ]
  },
  {
   "cell_type": "markdown",
   "metadata": {},
   "source": [
    "## Table Of Contents\n",
    "\n",
    "* [Business Problem Statement](#business-problem-statement)\n",
    "* [Data Description](#data-description)\n",
    "* [Exploratory Data Analysis](#exploratory-data-analysis)\n",
    "* [Searches Dataset](#searches-dataset)\n",
    "* [Distributions](#distribution)\n",
    "* [Contacts Dataset](#contacts-dataset)\n",
    "\n"
   ]
  },
  {
   "cell_type": "markdown",
   "metadata": {},
   "source": [
    "<a name=\"business-problem-statement\"></a>\n",
    "# Business Problem Statement:\n",
    "    Explore user interactions and preferences on a short-term rental platform to improve the overall user experience and streamline the reservation process.\n",
    "\n",
    "* Identify the date with the highest number of completed trips within a provided two-week period.\n",
    "\n",
    "* Determine the peak number of completed trips within a 24-hour timeframe.\n",
    "\n",
    "* Find the hour of the day with the maximum ride requests throughout the two-week duration.\n",
    "\n",
    "* Calculate the percentage of instances with zero requests during weekends (Friday 5 pm to Sunday 3 am) within the two-week timeframe. Note: The local time value represents the start of the hour.\n",
    "\n",
    "* Compute the weighted average ratio of completed trips per driver, considering the total trip volume in      each  hour over the two-week period.\n",
    "\n",
    "* Establish the busiest 8 consecutive hours for unique ride requests over the two-week duration, considering a continuous 8-hour shift for drivers.\n",
    "\n",
    "* Determine whether the statement \"Driver supply always increases when demand increases during the two-week period\" is true or false. Visualize the data if necessary.\n",
    "\n",
    "* Identify the 72-hour period with the highest ratio of Zeroes to Eyeballs.\n",
    "\n",
    "* Determine the optimal hour to add 5 drivers each day during the two-week period, considering both rider eyeballs and driver supply.\n",
    "\n",
    "* Assess the accuracy of the statement: \"There is exactly two weeks of data in this analysis.\"\n",
    "\n",
    "* Identify the time that could be considered a true \"end day\" instead of midnight by examining when supply and demand are both at their natural minimums. Visualize the data for confirmation if needed."
   ]
  },
  {
   "cell_type": "markdown",
   "metadata": {},
   "source": [
    "![Image](https://img.rasset.ie/001e97e4-800.jpg)"
   ]
  },
  {
   "cell_type": "markdown",
   "metadata": {},
   "source": [
    "<a name=\"data-description\"></a>\n",
    "# Data Description:\n",
    "\n",
    "During the hour beginning at 4 pm (hour 16) on September 10th, 2012, 11 people engaged with a platform (Eyeballs). Among them, 2 did not find any available options (Zeroes), while 4 made requests (Requests). Out of these 4 requests, only 3 were successfully completed (Completed Trips). Throughout this period, a total of 6 individuals were actively participating (Unique Participants).\n",
    "\n",
    "\n"
   ]
  },
  {
   "cell_type": "markdown",
   "metadata": {},
   "source": [
    "<a name=\"exploratory-data-analysis\"></a>\n",
    "# Exploratory Data Analysis:\n",
    "\n",
    "Importing essential data analysis libraries, including Pandas for data manipulation, NumPy for numerical operations, Seaborn for data visualization, and Matplotlib for creating plots. Two datasets, namely \"contacts.tsv\" and \"searches.tsv,\" are loaded into Pandas DataFrames – 'contacts_df' and 'searches_df,' respectively. The data is read from tab-separated values (tsv) files, emphasizing the use of the '\\t' separator. These initial steps lay the foundation for the subsequent data exploration and analysis processes, enabling the user to leverage the functionalities of Pandas and other visualization tools for a comprehensive investigation of the datasets.\n"
   ]
  },
  {
   "cell_type": "code",
   "execution_count": 1,
   "metadata": {},
   "outputs": [],
   "source": [
    "# Import libraries and load datasets\n",
    "import pandas as pd\n",
    "import numpy as np\n",
    "import seaborn as sns\n",
    "import matplotlib.pyplot as plt\n",
    "\n",
    "contacts_data = (\"contacts.tsv\")\n",
    "contacts_df = pd.read_csv(contacts_data, sep=\"\\t\")\n",
    "\n",
    "searches_data = (\"searches.tsv\")\n",
    "searches_df = pd.read_csv(searches_data, sep=\"\\t\")"
   ]
  },
  {
   "cell_type": "markdown",
   "metadata": {},
   "source": [
    "Percentage of null values within the 'contacts_df' and 'searches_df' DataFrames is calculated and displayed. The 'isna()' function is employed to identify missing values, and the 'sum()' function aggregates the count of null values for each column. The result is then divided by the total number of entries in the respective datasets, providing a comprehensive overview of the proportion of missing values for each variable. This step is crucial for understanding the completeness of the datasets and helps guide decisions on handling missing data, such as imputation or exclusion, as part of the overall data preprocessing process."
   ]
  },
  {
   "cell_type": "code",
   "execution_count": 2,
   "metadata": {},
   "outputs": [
    {
     "name": "stdout",
     "output_type": "stream",
     "text": [
      "Contacts\n",
      "id_guest          0.000000\n",
      "id_host           0.000000\n",
      "id_listing        0.000000\n",
      "ts_contact_at     0.000000\n",
      "ts_reply_at       0.077208\n",
      "ts_accepted_at    0.536367\n",
      "ts_booking_at     0.722101\n",
      "ds_checkin        0.000000\n",
      "ds_checkout       0.000000\n",
      "n_guests          0.000000\n",
      "n_messages        0.000000\n",
      "dtype: float64 \n",
      "\n",
      "Searches\n",
      "ds                      0.000000\n",
      "id_user                 0.000000\n",
      "ds_checkin              0.331561\n",
      "ds_checkout             0.331561\n",
      "n_searches              0.000000\n",
      "n_nights                0.331561\n",
      "n_guests_min            0.000000\n",
      "n_guests_max            0.000000\n",
      "origin_country          0.000000\n",
      "filter_price_min        0.627221\n",
      "filter_price_max        0.627221\n",
      "filter_room_types       0.546940\n",
      "filter_neighborhoods    0.962336\n",
      "dtype: float64\n"
     ]
    }
   ],
   "source": [
    "\n",
    "# Find percentage of null values in datasets\n",
    "print('Contacts')\n",
    "print(contacts_df.isna().sum() / len(contacts_df), '\\n')\n",
    "print('Searches')\n",
    "print(searches_df.isna().sum() / len(searches_df))"
   ]
  },
  {
   "cell_type": "markdown",
   "metadata": {},
   "source": [
    "<a name=\"searches-dataset\"></a>\n",
    "# Searches Dataset"
   ]
  },
  {
   "cell_type": "markdown",
   "metadata": {},
   "source": [
    "Removing column 'filter_neighborhoods' from the 'searches_df' DataFrame using the 'drop' function. The 'drop' function, when applied to columns, allows for the exclusion of specific features from the dataset. By utilizing the 'columns' parameter and specifying the target column to be dropped, this operation facilitates the removal of the designated column from the DataFrame. This step is particularly useful when certain columns are deemed unnecessary for subsequent analyses or when feature selection is required to streamline the dataset for further exploration."
   ]
  },
  {
   "cell_type": "code",
   "execution_count": 3,
   "metadata": {},
   "outputs": [],
   "source": [
    "# Drop filter_neighborhoods column\n",
    "searches_df = searches_df.drop(columns=['filter_neighborhoods'])"
   ]
  },
  {
   "cell_type": "markdown",
   "metadata": {},
   "source": [
    "'searches_df' DataFrame undergoes manipulation to enhance its analytical potential. Three new columns are created, namely 'date_searched,' 'checkin_date,' and 'checkout_date,' by converting the corresponding columns ('ds,' 'ds_checkin,' and 'ds_checkout') to datetime format using the 'pd.to_datetime' function. This conversion facilitates subsequent time-based analyses.\n",
    "\n",
    "Additionally, a new feature 'length_preparation' is introduced by calculating the duration between the 'checkin_date' and 'date_searched.' This metric represents the length of preparation time, providing insights into the duration users take to plan their accommodation stays. The inclusion of these derived features enhances the dataset, enabling a more detailed exploration of temporal aspects and patterns within the data."
   ]
  },
  {
   "cell_type": "code",
   "execution_count": 4,
   "metadata": {},
   "outputs": [],
   "source": [
    "# Manipulation of searches dataset\n",
    "searches_df['date_searched'] = pd.to_datetime(searches_df['ds'])\n",
    "searches_df['checkin_date'] = pd.to_datetime(searches_df['ds_checkin'])\n",
    "searches_df['checkout_date'] = pd.to_datetime(searches_df['ds_checkout'])\n",
    "\n",
    "# Calculate the length of preparation time\n",
    "searches_df['length_preparation'] = searches_df['checkin_date'] - searches_df['date_searched']"
   ]
  },
  {
   "cell_type": "markdown",
   "metadata": {},
   "source": [
    "Here is a descriptive summary of the 'searches_df' DataFrame is presented using the 'describe()' function, offering statistical insights into the numerical features within the dataset. This includes key statistical measures such as mean, standard deviation, minimum, maximum, and quartile information, providing an overview of the central tendency and distribution of the data.\n",
    "\n",
    "Subsequently, the skewness of the dataset is calculated using the 'skew()' function. The skewness value for each numeric column is computed along the specified axis (axis=0) to assess the asymmetry in the distribution of each feature. A positive skewness indicates a right-skewed distribution, while a negative skewness suggests a left-skewed distribution. This analysis aids in understanding the shape and nature of the data distribution, contributing valuable information for subsequent analytical steps. The 'display()' function is utilized to present these statistical outputs in a clear and organized format."
   ]
  },
  {
   "cell_type": "code",
   "execution_count": 5,
   "metadata": {},
   "outputs": [
    {
     "data": {
      "text/html": [
       "<div>\n",
       "<style scoped>\n",
       "    .dataframe tbody tr th:only-of-type {\n",
       "        vertical-align: middle;\n",
       "    }\n",
       "\n",
       "    .dataframe tbody tr th {\n",
       "        vertical-align: top;\n",
       "    }\n",
       "\n",
       "    .dataframe thead th {\n",
       "        text-align: right;\n",
       "    }\n",
       "</style>\n",
       "<table border=\"1\" class=\"dataframe\">\n",
       "  <thead>\n",
       "    <tr style=\"text-align: right;\">\n",
       "      <th></th>\n",
       "      <th>n_searches</th>\n",
       "      <th>n_nights</th>\n",
       "      <th>n_guests_min</th>\n",
       "      <th>n_guests_max</th>\n",
       "      <th>filter_price_min</th>\n",
       "      <th>filter_price_max</th>\n",
       "      <th>length_preparation</th>\n",
       "    </tr>\n",
       "  </thead>\n",
       "  <tbody>\n",
       "    <tr>\n",
       "      <th>count</th>\n",
       "      <td>35737.000000</td>\n",
       "      <td>23888.000000</td>\n",
       "      <td>35737.000000</td>\n",
       "      <td>35737.000000</td>\n",
       "      <td>13322.000000</td>\n",
       "      <td>1.332200e+04</td>\n",
       "      <td>23888</td>\n",
       "    </tr>\n",
       "    <tr>\n",
       "      <th>mean</th>\n",
       "      <td>9.206565</td>\n",
       "      <td>7.672765</td>\n",
       "      <td>1.742955</td>\n",
       "      <td>2.105857</td>\n",
       "      <td>8.470200</td>\n",
       "      <td>9.019063e+07</td>\n",
       "      <td>51 days 08:11:53.730743469</td>\n",
       "    </tr>\n",
       "    <tr>\n",
       "      <th>std</th>\n",
       "      <td>17.348746</td>\n",
       "      <td>21.557614</td>\n",
       "      <td>1.460440</td>\n",
       "      <td>1.817358</td>\n",
       "      <td>53.987679</td>\n",
       "      <td>2.978482e+08</td>\n",
       "      <td>65 days 18:56:19.491940518</td>\n",
       "    </tr>\n",
       "    <tr>\n",
       "      <th>min</th>\n",
       "      <td>1.000000</td>\n",
       "      <td>0.000000</td>\n",
       "      <td>1.000000</td>\n",
       "      <td>1.000000</td>\n",
       "      <td>0.000000</td>\n",
       "      <td>9.000000e+00</td>\n",
       "      <td>-1 days +00:00:00</td>\n",
       "    </tr>\n",
       "    <tr>\n",
       "      <th>25%</th>\n",
       "      <td>1.000000</td>\n",
       "      <td>2.000000</td>\n",
       "      <td>1.000000</td>\n",
       "      <td>1.000000</td>\n",
       "      <td>0.000000</td>\n",
       "      <td>8.600000e+01</td>\n",
       "      <td>10 days 00:00:00</td>\n",
       "    </tr>\n",
       "    <tr>\n",
       "      <th>50%</th>\n",
       "      <td>4.000000</td>\n",
       "      <td>3.000000</td>\n",
       "      <td>1.000000</td>\n",
       "      <td>2.000000</td>\n",
       "      <td>0.000000</td>\n",
       "      <td>1.390000e+02</td>\n",
       "      <td>26 days 00:00:00</td>\n",
       "    </tr>\n",
       "    <tr>\n",
       "      <th>75%</th>\n",
       "      <td>10.000000</td>\n",
       "      <td>5.000000</td>\n",
       "      <td>2.000000</td>\n",
       "      <td>2.000000</td>\n",
       "      <td>0.000000</td>\n",
       "      <td>3.010000e+02</td>\n",
       "      <td>67 days 00:00:00</td>\n",
       "    </tr>\n",
       "    <tr>\n",
       "      <th>max</th>\n",
       "      <td>448.000000</td>\n",
       "      <td>399.000000</td>\n",
       "      <td>16.000000</td>\n",
       "      <td>16.000000</td>\n",
       "      <td>1250.000000</td>\n",
       "      <td>1.073742e+09</td>\n",
       "      <td>604 days 00:00:00</td>\n",
       "    </tr>\n",
       "  </tbody>\n",
       "</table>\n",
       "</div>"
      ],
      "text/plain": [
       "         n_searches      n_nights  n_guests_min  n_guests_max  \\\n",
       "count  35737.000000  23888.000000  35737.000000  35737.000000   \n",
       "mean       9.206565      7.672765      1.742955      2.105857   \n",
       "std       17.348746     21.557614      1.460440      1.817358   \n",
       "min        1.000000      0.000000      1.000000      1.000000   \n",
       "25%        1.000000      2.000000      1.000000      1.000000   \n",
       "50%        4.000000      3.000000      1.000000      2.000000   \n",
       "75%       10.000000      5.000000      2.000000      2.000000   \n",
       "max      448.000000    399.000000     16.000000     16.000000   \n",
       "\n",
       "       filter_price_min  filter_price_max          length_preparation  \n",
       "count      13322.000000      1.332200e+04                       23888  \n",
       "mean           8.470200      9.019063e+07  51 days 08:11:53.730743469  \n",
       "std           53.987679      2.978482e+08  65 days 18:56:19.491940518  \n",
       "min            0.000000      9.000000e+00           -1 days +00:00:00  \n",
       "25%            0.000000      8.600000e+01            10 days 00:00:00  \n",
       "50%            0.000000      1.390000e+02            26 days 00:00:00  \n",
       "75%            0.000000      3.010000e+02            67 days 00:00:00  \n",
       "max         1250.000000      1.073742e+09           604 days 00:00:00  "
      ]
     },
     "metadata": {},
     "output_type": "display_data"
    },
    {
     "data": {
      "text/plain": [
       "n_searches           7.509258\n",
       "n_nights             9.942364\n",
       "n_guests_min         3.583798\n",
       "n_guests_max         3.148548\n",
       "filter_price_min    11.087745\n",
       "filter_price_max     2.999833\n",
       "dtype: float64"
      ]
     },
     "metadata": {},
     "output_type": "display_data"
    }
   ],
   "source": [
    "# Describe searches dataset\n",
    "display(searches_df.describe())\n",
    "\n",
    "# Calculate skewness in searches dataset\n",
    "display(searches_df.skew(axis=0, numeric_only=True, skipna=True))"
   ]
  },
  {
   "cell_type": "markdown",
   "metadata": {},
   "source": [
    "<a name=\"distribution\"></a>\n",
    "# Distributions"
   ]
  },
  {
   "cell_type": "markdown",
   "metadata": {},
   "source": [
    "Analysizng distribution plots for the 'n_guests_min' and 'n_guests_max' columns within the 'searches_df' DataFrame are generated using Seaborn's 'displot' function. The 'displot' function provides a convenient way to visualize the distribution of numerical data, allowing for a quick assessment of the spread and frequency of values.\n",
    "\n",
    "Two separate plots are created, each representing the distribution of the specified variables. The 'x' parameter designates the variable to be plotted on the x-axis, and distinct colors ('brown' and 'black') are assigned to differentiate between the two distributions. These plots offer a visual understanding of the guest count distribution, providing insights into the frequency and range of values for both minimum and maximum guest counts."
   ]
  },
  {
   "cell_type": "code",
   "execution_count": 6,
   "metadata": {},
   "outputs": [
    {
     "name": "stderr",
     "output_type": "stream",
     "text": [
      "c:\\Users\\WalkingTree\\AppData\\Local\\Programs\\Python\\Python310\\lib\\site-packages\\seaborn\\axisgrid.py:118: UserWarning: The figure layout has changed to tight\n",
      "  self._figure.tight_layout(*args, **kwargs)\n",
      "c:\\Users\\WalkingTree\\AppData\\Local\\Programs\\Python\\Python310\\lib\\site-packages\\seaborn\\axisgrid.py:118: UserWarning: The figure layout has changed to tight\n",
      "  self._figure.tight_layout(*args, **kwargs)\n"
     ]
    },
    {
     "data": {
      "text/plain": [
       "<seaborn.axisgrid.FacetGrid at 0x283f9762950>"
      ]
     },
     "execution_count": 6,
     "metadata": {},
     "output_type": "execute_result"
    },
    {
     "data": {
      "image/png": "[encoded data removed]",
      "text/plain": [
       "<Figure size 500x500 with 1 Axes>"
      ]
     },
     "metadata": {},
     "output_type": "display_data"
    },
    {
     "data": {
      "image/png": "[encoded data removed]",
      "text/plain": [
       "<Figure size 500x500 with 1 Axes>"
      ]
     },
     "metadata": {},
     "output_type": "display_data"
    }
   ],
   "source": [
    "# Distribution plot of n_guests_min and n_guests_max\n",
    "sns.displot(searches_df, x='n_guests_min', color='brown')\n",
    "sns.displot(searches_df, x='n_guests_max', color='black')"
   ]
  },
  {
   "cell_type": "markdown",
   "metadata": {},
   "source": [
    "Distribution plot of the searches conducted over time is created using Seaborn's 'displot' function. The 'x' parameter is set to 'date_searched,' representing the date when the searches were conducted. The resulting plot is visualized with a brown color.\n",
    "\n",
    "To enhance readability, the x-axis labels are rotated by 90 degrees using the 'plt.setp' function. This adjustment is particularly useful when dealing with date values, as it prevents overcrowding of labels and ensures better visibility.\n",
    "\n",
    "Overall, this visualization provides a chronological overview of when searches were initiated, facilitating the identification of any temporal patterns or trends in user behavior within the dataset."
   ]
  },
  {
   "cell_type": "code",
   "execution_count": 7,
   "metadata": {},
   "outputs": [
    {
     "name": "stderr",
     "output_type": "stream",
     "text": [
      "c:\\Users\\WalkingTree\\AppData\\Local\\Programs\\Python\\Python310\\lib\\site-packages\\seaborn\\axisgrid.py:118: UserWarning: The figure layout has changed to tight\n",
      "  self._figure.tight_layout(*args, **kwargs)\n"
     ]
    },
    {
     "data": {
      "text/plain": [
       "[[None,\n",
       "  None,\n",
       "  None,\n",
       "  None,\n",
       "  None,\n",
       "  None,\n",
       "  None,\n",
       "  None,\n",
       "  None,\n",
       "  None,\n",
       "  None,\n",
       "  None,\n",
       "  None,\n",
       "  None]]"
      ]
     },
     "execution_count": 7,
     "metadata": {},
     "output_type": "execute_result"
    },
    {
     "data": {
      "image/png": "[encoded data removed]",
      "text/plain": [
       "<Figure size 500x500 with 1 Axes>"
      ]
     },
     "metadata": {},
     "output_type": "display_data"
    }
   ],
   "source": [
    "# When were searches conducted\n",
    "ax = sns.displot(searches_df, x='date_searched', color='brown')\n",
    "[plt.setp(ax.get_xticklabels(), rotation=90) for ax in ax.axes.flat]"
   ]
  },
  {
   "cell_type": "markdown",
   "metadata": {},
   "source": [
    "he percentage of the dataset with 'filter_price_max' values exceeding 600 is calculated and printed. The expression inside the print statement uses boolean indexing to filter the rows where 'filter_price_max' is greater than 600, and the length of this filtered subset is divided by the total length of the 'filter_price_max' column. The result is then multiplied by 100 to obtain the percentage.\n",
    "\n",
    "This analysis provides insights into the proportion of searches with higher price filters, specifically those above 600. It allows for an understanding of the prevalence of higher-priced accommodation preferences within the dataset."
   ]
  },
  {
   "cell_type": "code",
   "execution_count": 8,
   "metadata": {},
   "outputs": [
    {
     "name": "stdout",
     "output_type": "stream",
     "text": [
      "5.311022189887232 %\n"
     ]
    }
   ],
   "source": [
    "# Percentage of dataset with filter_price_max above 600\n",
    "print(len(searches_df[searches_df['filter_price_max'] > 600]) / len(searches_df['filter_price_max']) * 100, '%')\n"
   ]
  },
  {
   "cell_type": "markdown",
   "metadata": {},
   "source": [
    "Distribution plot of the 'filter_price_max' values for searches is generated using Seaborn's 'displot' function. The 'x' parameter is set to the filtered subset 'searches_max_price_removed,' which includes only rows where 'filter_price_max' is less than or equal to 600. The resulting plot is visualized with a blue color.\n",
    "\n",
    "This visualization aims to display the distribution of maximum price filters for searches, excluding values above 600. Such plots are valuable for gaining insights into the typical range of price preferences among users, as well as identifying any concentration or patterns in the distribution of maximum price limits within the specified range. The 'plt.show()' function is used to display the plot"
   ]
  },
  {
   "cell_type": "code",
   "execution_count": 9,
   "metadata": {},
   "outputs": [
    {
     "name": "stderr",
     "output_type": "stream",
     "text": [
      "c:\\Users\\WalkingTree\\AppData\\Local\\Programs\\Python\\Python310\\lib\\site-packages\\seaborn\\axisgrid.py:118: UserWarning: The figure layout has changed to tight\n",
      "  self._figure.tight_layout(*args, **kwargs)\n"
     ]
    },
    {
     "data": {
      "image/png": "[encoded data removed]",
      "text/plain": [
       "<Figure size 500x500 with 1 Axes>"
      ]
     },
     "metadata": {},
     "output_type": "display_data"
    }
   ],
   "source": [
    "# Distribution of filter_price_max of searches\n",
    "searches_max_price_removed = searches_df[searches_df['filter_price_max'] <= 600]\n",
    "sns.displot(x=searches_max_price_removed[\"filter_price_max\"], color='blue')\n",
    "plt.show()\n"
   ]
  },
  {
   "cell_type": "markdown",
   "metadata": {},
   "source": [
    "Exploring distribution of the 'length_preparation' variable for searches. First, a new 'distribution' series is created by converting the 'length_preparation' values from a timedelta format to days using the NumPy library. The percentage of entries in this distribution that exceed 100 days is then calculated and printed.\n",
    "\n",
    "Following this, values exceeding 100 days are removed from the distribution, and a distribution plot is generated using Seaborn's 'displot' function. The 'x' parameter is set to the filtered 'distribution' series, and the plot is visualized with a green color.\n",
    "\n",
    "This analysis focuses on understanding the distribution of preparation time for accommodation searches, particularly emphasizing values within a reasonable time frame (less than 100 days). The visualization provides insights into the concentration and spread of preparation times within the dataset."
   ]
  },
  {
   "cell_type": "code",
   "execution_count": 10,
   "metadata": {},
   "outputs": [
    {
     "name": "stdout",
     "output_type": "stream",
     "text": [
      "9.396423874415872 % \n",
      "\n"
     ]
    },
    {
     "name": "stderr",
     "output_type": "stream",
     "text": [
      "c:\\Users\\WalkingTree\\AppData\\Local\\Programs\\Python\\Python310\\lib\\site-packages\\seaborn\\axisgrid.py:118: UserWarning: The figure layout has changed to tight\n",
      "  self._figure.tight_layout(*args, **kwargs)\n"
     ]
    },
    {
     "data": {
      "image/png": "[encoded data removed]",
      "text/plain": [
       "<Figure size 500x500 with 1 Axes>"
      ]
     },
     "metadata": {},
     "output_type": "display_data"
    }
   ],
   "source": [
    "\n",
    "\n",
    "# Distribution of length_preparation of searches\n",
    "distribution = searches_df[\"length_preparation\"] / np.timedelta64(1, 'D')\n",
    "print(len(distribution[distribution > 100]) / len(distribution) * 100, '% \\n')\n",
    "distribution = distribution[distribution < 100]\n",
    "sns.displot(x=distribution, color='green')\n",
    "plt.show()\n",
    "\n",
    "\n"
   ]
  },
  {
   "cell_type": "markdown",
   "metadata": {},
   "source": [
    "Analysing the distribution of the 'n_nights' variable for searches. The percentage of entries in the dataset where the 'n_nights' value exceeds 20 is calculated and printed. Following this, a subset of the dataset, 'searches_within_twenty,' is created, including only those rows where 'n_nights' is less than 20.\n",
    "\n",
    "A distribution plot is then generated using Seaborn's 'displot' function, focusing on the 'n_nights' variable within the filtered subset. The color of the plot is set to red.\n",
    "\n",
    "This analysis aims to understand the distribution of the number of nights users are searching for, particularly emphasizing values within a reasonable range (less than 20 nights). The visualization provides insights into the concentration and spread of the duration of stays within the specified range"
   ]
  },
  {
   "cell_type": "code",
   "execution_count": 11,
   "metadata": {},
   "outputs": [
    {
     "name": "stdout",
     "output_type": "stream",
     "text": [
      "4.737387021854101 % \n",
      "\n"
     ]
    },
    {
     "name": "stderr",
     "output_type": "stream",
     "text": [
      "c:\\Users\\WalkingTree\\AppData\\Local\\Programs\\Python\\Python310\\lib\\site-packages\\seaborn\\axisgrid.py:118: UserWarning: The figure layout has changed to tight\n",
      "  self._figure.tight_layout(*args, **kwargs)\n"
     ]
    },
    {
     "data": {
      "text/plain": [
       "<seaborn.axisgrid.FacetGrid at 0x283f9806710>"
      ]
     },
     "execution_count": 11,
     "metadata": {},
     "output_type": "execute_result"
    },
    {
     "data": {
      "image/png": "[encoded data removed]",
      "text/plain": [
       "<Figure size 500x500 with 1 Axes>"
      ]
     },
     "metadata": {},
     "output_type": "display_data"
    }
   ],
   "source": [
    "# Distribution of n_nights of searches\n",
    "print(len(searches_df[searches_df['n_nights'] > 20]) / len(searches_df['n_nights']) * 100, '% \\n')\n",
    "searches_within_twenty = searches_df[searches_df['n_nights'] < 20]\n",
    "sns.displot(searches_within_twenty, x='n_nights', color='red')"
   ]
  },
  {
   "cell_type": "markdown",
   "metadata": {},
   "source": [
    " the distribution of the months associated with the 'ds_checkin' variable in the searches dataset is visualized. The 'pd.DatetimeIndex' function is used to extract the month from the 'ds_checkin' column, and the resulting 'checkin_month' series is then utilized to create a distribution plot.\n",
    "\n",
    "Seaborn's 'displot' function is employed to generate the plot, with the 'x' parameter set to 'checkin_month.' The color of the plot is specified as yellow.\n",
    "\n",
    "This visualization aims to illustrate the distribution of check-in months for accommodation searches. Examining the distribution provides insights into the seasonal patterns of user search behavior, helping to identify any preferences or trends related to specific months. The 'plt.show()' function is used to display the plot.\n",
    "\n",
    "\n",
    "\n",
    "\n",
    "\n"
   ]
  },
  {
   "cell_type": "code",
   "execution_count": 12,
   "metadata": {},
   "outputs": [
    {
     "name": "stderr",
     "output_type": "stream",
     "text": [
      "c:\\Users\\WalkingTree\\AppData\\Local\\Programs\\Python\\Python310\\lib\\site-packages\\seaborn\\axisgrid.py:118: UserWarning: The figure layout has changed to tight\n",
      "  self._figure.tight_layout(*args, **kwargs)\n"
     ]
    },
    {
     "data": {
      "image/png": "[encoded data removed]",
      "text/plain": [
       "<Figure size 500x500 with 1 Axes>"
      ]
     },
     "metadata": {},
     "output_type": "display_data"
    }
   ],
   "source": [
    "\n",
    "# Distribution of months of ds_checkin of searches\n",
    "checkin_month = pd.DatetimeIndex(searches_df['ds_checkin']).month\n",
    "sns.displot(checkin_month, color='yellow')\n",
    "plt.show()"
   ]
  },
  {
   "cell_type": "markdown",
   "metadata": {},
   "source": [
    "This analysis provides a glimpse into the various types of rooms users are searching for in the dataset. Understanding the diversity of room types can offer valuable insights into user preferences and accommodation choices within the studied dataset."
   ]
  },
  {
   "cell_type": "code",
   "execution_count": 15,
   "metadata": {},
   "outputs": [
    {
     "data": {
      "text/plain": [
       "Index(['ds', 'id_user', 'ds_checkin', 'ds_checkout', 'n_searches', 'n_nights',\n",
       "       'n_guests_min', 'n_guests_max', 'origin_country', 'filter_price_min',\n",
       "       'filter_price_max', 'filter_room_types', 'date_searched',\n",
       "       'checkin_date', 'checkout_date', 'length_preparation'],\n",
       "      dtype='object')"
      ]
     },
     "execution_count": 15,
     "metadata": {},
     "output_type": "execute_result"
    }
   ],
   "source": [
    "searches_df.columns"
   ]
  },
  {
   "cell_type": "code",
   "execution_count": 16,
   "metadata": {},
   "outputs": [
    {
     "data": {
      "text/plain": [
       "array([',Entire home/apt,Entire home/apt,Private room,Private room', nan,\n",
       "       ',Entire home/apt',\n",
       "       'Entire home/apt,Entire home/apt,Private room,Private room',\n",
       "       'Entire home/apt', ',Shared room,Private room',\n",
       "       'Entire home/apt,Private room,Shared room,Private room,Shared room',\n",
       "       'Private room', 'Entire home/apt,Private room', ',Private room',\n",
       "       ',Entire home/apt,Private room',\n",
       "       ',Entire home/apt,Private room,Private room',\n",
       "       'Entire home/apt,Private room,Shared room',\n",
       "       ',Entire home/apt,Entire home/apt,Private room',\n",
       "       ',Entire home/apt,Entire home/apt,Shared room,Shared room'],\n",
       "      dtype=object)"
      ]
     },
     "execution_count": 16,
     "metadata": {},
     "output_type": "execute_result"
    }
   ],
   "source": [
    "# Types of rooms searched for\n",
    "searches_df['filter_room_types'].unique()[0:15]  # Display first 15 unique values"
   ]
  },
  {
   "cell_type": "markdown",
   "metadata": {},
   "source": [
    "The top 15 countries from which searches originate are identified. The 'search_origin' DataFrame is created by grouping the 'searches_df' dataset based on the 'origin_country' column and aggregating the counts for each country. The resulting DataFrame is then sorted in descending order based on the count values.\n",
    "\n",
    "The 'nlargest' function is utilized to extract the 15 countries with the highest search counts, providing insight into the countries that contribute the most to the search activity within the dataset. This analysis aids in understanding the geographic distribution of user engagement in the context of accommodation searches.\n",
    "\n"
   ]
  },
  {
   "cell_type": "code",
   "execution_count": 17,
   "metadata": {},
   "outputs": [
    {
     "data": {
      "text/html": [
       "<div>\n",
       "<style scoped>\n",
       "    .dataframe tbody tr th:only-of-type {\n",
       "        vertical-align: middle;\n",
       "    }\n",
       "\n",
       "    .dataframe tbody tr th {\n",
       "        vertical-align: top;\n",
       "    }\n",
       "\n",
       "    .dataframe thead th {\n",
       "        text-align: right;\n",
       "    }\n",
       "</style>\n",
       "<table border=\"1\" class=\"dataframe\">\n",
       "  <thead>\n",
       "    <tr style=\"text-align: right;\">\n",
       "      <th></th>\n",
       "      <th>count</th>\n",
       "    </tr>\n",
       "    <tr>\n",
       "      <th>origin_country</th>\n",
       "      <th></th>\n",
       "    </tr>\n",
       "  </thead>\n",
       "  <tbody>\n",
       "    <tr>\n",
       "      <th>IE</th>\n",
       "      <td>6608</td>\n",
       "    </tr>\n",
       "    <tr>\n",
       "      <th>US</th>\n",
       "      <td>5811</td>\n",
       "    </tr>\n",
       "    <tr>\n",
       "      <th>GB</th>\n",
       "      <td>4832</td>\n",
       "    </tr>\n",
       "    <tr>\n",
       "      <th>FR</th>\n",
       "      <td>3444</td>\n",
       "    </tr>\n",
       "    <tr>\n",
       "      <th>IT</th>\n",
       "      <td>2333</td>\n",
       "    </tr>\n",
       "    <tr>\n",
       "      <th>DE</th>\n",
       "      <td>2170</td>\n",
       "    </tr>\n",
       "    <tr>\n",
       "      <th>ES</th>\n",
       "      <td>1759</td>\n",
       "    </tr>\n",
       "    <tr>\n",
       "      <th>CA</th>\n",
       "      <td>1085</td>\n",
       "    </tr>\n",
       "    <tr>\n",
       "      <th>AU</th>\n",
       "      <td>962</td>\n",
       "    </tr>\n",
       "    <tr>\n",
       "      <th>NL</th>\n",
       "      <td>843</td>\n",
       "    </tr>\n",
       "    <tr>\n",
       "      <th>BR</th>\n",
       "      <td>636</td>\n",
       "    </tr>\n",
       "    <tr>\n",
       "      <th>CH</th>\n",
       "      <td>535</td>\n",
       "    </tr>\n",
       "    <tr>\n",
       "      <th>BE</th>\n",
       "      <td>386</td>\n",
       "    </tr>\n",
       "    <tr>\n",
       "      <th>AT</th>\n",
       "      <td>320</td>\n",
       "    </tr>\n",
       "    <tr>\n",
       "      <th>RU</th>\n",
       "      <td>274</td>\n",
       "    </tr>\n",
       "  </tbody>\n",
       "</table>\n",
       "</div>"
      ],
      "text/plain": [
       "                count\n",
       "origin_country       \n",
       "IE               6608\n",
       "US               5811\n",
       "GB               4832\n",
       "FR               3444\n",
       "IT               2333\n",
       "DE               2170\n",
       "ES               1759\n",
       "CA               1085\n",
       "AU                962\n",
       "NL                843\n",
       "BR                636\n",
       "CH                535\n",
       "BE                386\n",
       "AT                320\n",
       "RU                274"
      ]
     },
     "execution_count": 17,
     "metadata": {},
     "output_type": "execute_result"
    }
   ],
   "source": [
    "# Find top 15 countries where searches originate from\n",
    "search_origin = searches_df.groupby(\"origin_country\").agg({'origin_country': 'count'})\n",
    "search_origin.columns = ['count']\n",
    "search_origin = search_origin.sort_values('count', ascending=False)\n",
    "search_origin.nlargest(15, 'count')  # Find the 15 largest values"
   ]
  },
  {
   "cell_type": "markdown",
   "metadata": {},
   "source": [
    "<a name=\"contacts-dataset\"></a>\n",
    "# Contacts Dataset"
   ]
  },
  {
   "cell_type": "markdown",
   "metadata": {},
   "source": [
    "The 'contacts_df' DataFrame undergoes manipulation to enhance its analytical capabilities. Date-related columns such as 'ts_contact_at,' 'ts_reply_at,' 'ts_accepted_at,' 'ts_booking_at,' 'ds_checkin,' and 'ds_checkout' are converted to datetime format using the 'pd.to_datetime' function. This conversion facilitates subsequent analyses involving temporal aspects.\n",
    "\n",
    "Several new columns are introduced, including 'contact_at,' 'reply_at,' 'accepted_at,' 'booking_at,' 'checkin_date,' and 'checkout_date,' which represent the corresponding datetime values. Additionally, a binary 'accepted' column is created based on whether the 'accepted_at' values are null or not, denoting whether a contact resulted in acceptance.\n",
    "\n",
    "Furthermore, a 'length_stay' column is introduced by calculating the duration between 'checkout_date' and 'checkin_date,' providing insights into the length of stay associated with each contact.\n",
    "\n",
    "The 'display' function is employed to showcase the data types and descriptive statistics of the modified 'contacts_df' DataFrame, offering a comprehensive understanding of the dataset after these manipulations."
   ]
  },
  {
   "cell_type": "code",
   "execution_count": 18,
   "metadata": {},
   "outputs": [
    {
     "data": {
      "text/plain": [
       "id_guest                   object\n",
       "id_host                    object\n",
       "id_listing                 object\n",
       "ts_contact_at              object\n",
       "ts_reply_at                object\n",
       "ts_accepted_at             object\n",
       "ts_booking_at              object\n",
       "ds_checkin                 object\n",
       "ds_checkout                object\n",
       "n_guests                    int64\n",
       "n_messages                  int64\n",
       "contact_at         datetime64[ns]\n",
       "reply_at           datetime64[ns]\n",
       "accepted_at        datetime64[ns]\n",
       "booking_at         datetime64[ns]\n",
       "checkin_date       datetime64[ns]\n",
       "checkout_date      datetime64[ns]\n",
       "accepted                     bool\n",
       "length_stay       timedelta64[ns]\n",
       "dtype: object"
      ]
     },
     "metadata": {},
     "output_type": "display_data"
    },
    {
     "data": {
      "text/html": [
       "<div>\n",
       "<style scoped>\n",
       "    .dataframe tbody tr th:only-of-type {\n",
       "        vertical-align: middle;\n",
       "    }\n",
       "\n",
       "    .dataframe tbody tr th {\n",
       "        vertical-align: top;\n",
       "    }\n",
       "\n",
       "    .dataframe thead th {\n",
       "        text-align: right;\n",
       "    }\n",
       "</style>\n",
       "<table border=\"1\" class=\"dataframe\">\n",
       "  <thead>\n",
       "    <tr style=\"text-align: right;\">\n",
       "      <th></th>\n",
       "      <th>n_guests</th>\n",
       "      <th>n_messages</th>\n",
       "      <th>length_stay</th>\n",
       "    </tr>\n",
       "  </thead>\n",
       "  <tbody>\n",
       "    <tr>\n",
       "      <th>count</th>\n",
       "      <td>7823.000000</td>\n",
       "      <td>7823.000000</td>\n",
       "      <td>7823</td>\n",
       "    </tr>\n",
       "    <tr>\n",
       "      <th>mean</th>\n",
       "      <td>2.422600</td>\n",
       "      <td>6.319954</td>\n",
       "      <td>5 days 19:25:32.864629937</td>\n",
       "    </tr>\n",
       "    <tr>\n",
       "      <th>std</th>\n",
       "      <td>1.617347</td>\n",
       "      <td>6.472827</td>\n",
       "      <td>14 days 23:45:24.447710564</td>\n",
       "    </tr>\n",
       "    <tr>\n",
       "      <th>min</th>\n",
       "      <td>1.000000</td>\n",
       "      <td>1.000000</td>\n",
       "      <td>1 days 00:00:00</td>\n",
       "    </tr>\n",
       "    <tr>\n",
       "      <th>25%</th>\n",
       "      <td>1.000000</td>\n",
       "      <td>2.000000</td>\n",
       "      <td>2 days 00:00:00</td>\n",
       "    </tr>\n",
       "    <tr>\n",
       "      <th>50%</th>\n",
       "      <td>2.000000</td>\n",
       "      <td>4.000000</td>\n",
       "      <td>3 days 00:00:00</td>\n",
       "    </tr>\n",
       "    <tr>\n",
       "      <th>75%</th>\n",
       "      <td>3.000000</td>\n",
       "      <td>8.000000</td>\n",
       "      <td>5 days 00:00:00</td>\n",
       "    </tr>\n",
       "    <tr>\n",
       "      <th>max</th>\n",
       "      <td>16.000000</td>\n",
       "      <td>102.000000</td>\n",
       "      <td>334 days 00:00:00</td>\n",
       "    </tr>\n",
       "  </tbody>\n",
       "</table>\n",
       "</div>"
      ],
      "text/plain": [
       "          n_guests   n_messages                 length_stay\n",
       "count  7823.000000  7823.000000                        7823\n",
       "mean      2.422600     6.319954   5 days 19:25:32.864629937\n",
       "std       1.617347     6.472827  14 days 23:45:24.447710564\n",
       "min       1.000000     1.000000             1 days 00:00:00\n",
       "25%       1.000000     2.000000             2 days 00:00:00\n",
       "50%       2.000000     4.000000             3 days 00:00:00\n",
       "75%       3.000000     8.000000             5 days 00:00:00\n",
       "max      16.000000   102.000000           334 days 00:00:00"
      ]
     },
     "metadata": {},
     "output_type": "display_data"
    }
   ],
   "source": [
    "# Manipulation of contacts dataset\n",
    "contacts_df['contact_at'] = pd.to_datetime(contacts_df['ts_contact_at'])\n",
    "contacts_df['reply_at'] = pd.to_datetime(contacts_df['ts_reply_at'])\n",
    "contacts_df['accepted_at'] = pd.to_datetime(contacts_df['ts_accepted_at'])\n",
    "contacts_df['booking_at'] = pd.to_datetime(contacts_df['ts_booking_at'])\n",
    "contacts_df['checkin_date'] = pd.to_datetime(contacts_df['ds_checkin'])\n",
    "contacts_df['checkout_date'] = pd.to_datetime(contacts_df['ds_checkout'])\n",
    "contacts_df['accepted'] = np.where(np.isnan(contacts_df['accepted_at']), False, True)\n",
    "contacts_df['length_stay'] = contacts_df['checkout_date'] - contacts_df['checkin_date']\n",
    "\n",
    "# Understand dataset\n",
    "display(contacts_df.dtypes)\n",
    "display(contacts_df.describe())"
   ]
  },
  {
   "cell_type": "markdown",
   "metadata": {},
   "source": [
    "Calculating skewness of the numeric columns within the 'contacts_df' DataFrame using the 'skew()' function. The 'axis' parameter is set to 0 to compute the skewness along the columns, and 'numeric_only=True' ensures that only numeric columns are considered in the analysis. The 'skipna=True' parameter excludes missing values from the calculation."
   ]
  },
  {
   "cell_type": "code",
   "execution_count": 19,
   "metadata": {},
   "outputs": [
    {
     "data": {
      "text/plain": [
       "n_guests      2.441468\n",
       "n_messages    3.696440\n",
       "accepted      0.145883\n",
       "dtype: float64"
      ]
     },
     "metadata": {},
     "output_type": "display_data"
    }
   ],
   "source": [
    "\n",
    "# Calculate skewness in contacts dataset\n",
    "display(contacts_df.skew(axis=0, numeric_only=True, skipna=True))"
   ]
  },
  {
   "cell_type": "markdown",
   "metadata": {},
   "source": [
    "Generating a distribution plot using Seaborn's 'displot' function for contacts with less than 8 guests. The 'contacts_less_8' DataFrame is created by filtering 'contacts_df' to include only rows where the 'n_guests' variable is less than 8. The resulting plot visualizes the distribution of the number of guests ('n_guests') and distinguishes between contacts that were accepted and those that were not using the 'hue' parameter. The 'multiple=\"dodge\"' option is used to display the distributions side by side, facilitating a comparative analysis.\n",
    "\n",
    "This visualization provides a clear representation of the distribution of contacts with a focus on those involving fewer than 8 guests. Additionally, it allows for the examination of how the acceptance status varies with the number of guests. The 'plt.show()' function is employed to display the generated plot.\n"
   ]
  },
  {
   "cell_type": "code",
   "execution_count": 20,
   "metadata": {},
   "outputs": [
    {
     "name": "stderr",
     "output_type": "stream",
     "text": [
      "c:\\Users\\WalkingTree\\AppData\\Local\\Programs\\Python\\Python310\\lib\\site-packages\\seaborn\\axisgrid.py:118: UserWarning: The figure layout has changed to tight\n",
      "  self._figure.tight_layout(*args, **kwargs)\n"
     ]
    },
    {
     "data": {
      "image/png": "[encoded data removed]",
      "text/plain": [
       "<Figure size 584.875x500 with 1 Axes>"
      ]
     },
     "metadata": {},
     "output_type": "display_data"
    }
   ],
   "source": [
    "\n",
    "contacts_less_8 = contacts_df[contacts_df['n_guests'] < 8]\n",
    "sns.displot(contacts_less_8, x='n_guests', hue='accepted', multiple=\"dodge\")\n",
    "plt.show()"
   ]
  },
  {
   "cell_type": "markdown",
   "metadata": {},
   "source": [
    "the conversion rate from accepting to booking is calculated. The count of non-null values in the 'booking_at' column is divided by the count of non-null values in the 'accepted_at' column. This calculation yields the ratio of contacts that resulted in a booking to those that were accepted, providing a conversion rate.\n",
    "\n",
    "This analysis helps understand the efficiency of the booking process following acceptance. The higher the conversion rate, the more effective the platform is at converting accepted contacts into actual bookings."
   ]
  },
  {
   "cell_type": "code",
   "execution_count": 21,
   "metadata": {},
   "outputs": [
    {
     "data": {
      "text/plain": [
       "0.5993934381031155"
      ]
     },
     "execution_count": 21,
     "metadata": {},
     "output_type": "execute_result"
    }
   ],
   "source": [
    "# Conversion rate from accepting to booking\n",
    "contacts_df['booking_at'].count() / contacts_df['accepted_at'].count()"
   ]
  },
  {
   "cell_type": "markdown",
   "metadata": {},
   "source": [
    "Time-based analysis is performed to understand the timeframe of when guests are accepted versus rejected. The 'month_checkin' column is created by extracting the month component from the 'checkin_date' column using the 'dt.month' attribute. Subsequently, a subset of the 'contacts_df' DataFrame, named 'contacts_checkin,' is formed, including only those rows where the 'month_checkin' is greater than 9 (indicating October or later).\n",
    "\n",
    "A distribution plot is then generated using Seaborn's 'displot' function, focusing on the 'month_checkin' variable and differentiating between contacts that were accepted and those that were not using the 'hue' parameter. The 'multiple=\"dodge\"' option is used to display the distributions side by side for easy comparison. Additionally, the 'plt.xticks([10, 11, 12])' command ensures that only October, November, and December are displayed on the x-axis for improved readability.\n",
    "\n",
    "This visualization provides insights into the acceptance and rejection patterns concerning guest check-in months, helping to identify any temporal trends or preferences within the dataset. The 'plt.show()' function is utilized to display the generated plot."
   ]
  },
  {
   "cell_type": "code",
   "execution_count": 22,
   "metadata": {},
   "outputs": [
    {
     "name": "stderr",
     "output_type": "stream",
     "text": [
      "c:\\Users\\WalkingTree\\AppData\\Local\\Programs\\Python\\Python310\\lib\\site-packages\\seaborn\\axisgrid.py:118: UserWarning: The figure layout has changed to tight\n",
      "  self._figure.tight_layout(*args, **kwargs)\n"
     ]
    },
    {
     "data": {
      "image/png": "[encoded data removed]",
      "text/plain": [
       "<Figure size 584.875x500 with 1 Axes>"
      ]
     },
     "metadata": {},
     "output_type": "display_data"
    }
   ],
   "source": [
    "\n",
    "# Timeframe of when guests are accepted vs rejected\n",
    "contacts_df['month_checkin'] = contacts_df['checkin_date'].dt.month\n",
    "contacts_checkin = contacts_df[contacts_df['month_checkin'] > 9]\n",
    "sns.displot(contacts_checkin, x='month_checkin', hue = 'accepted', multiple=\"dodge\")\n",
    "plt.xticks([10, 11, 12])\n",
    "plt.show()"
   ]
  },
  {
   "cell_type": "markdown",
   "metadata": {},
   "source": [
    " 'contacts_df' and 'searches_df,' are merged based on the 'id_guest' column from 'contacts_df' and the 'id_user' column from 'searches_df.' The resulting merged dataset is named 'merged_datasets.' Subsequently, a subset named 'merged_pricemax_filter' is created by filtering rows where the 'filter_price_max' column is less than or equal to 600.\n",
    "\n",
    "A distribution plot is then generated using Seaborn's 'displot' function for the 'filter_price_max' variable within the 'merged_pricemax_filter' subset. The plot distinguishes between accepted and non-accepted contacts using the 'hue' parameter, and the 'multiple=\"dodge\"' option displays the distributions side by side for easy comparison.\n",
    "\n",
    "This visualization aids in understanding the relationship between the maximum price filter ('filter_price_max') and the acceptance status of contacts within the merged dataset. The 'plt.show()' function is used to display the generated plot.\n",
    "\n",
    "\n",
    "\n",
    "\n",
    "\n"
   ]
  },
  {
   "cell_type": "code",
   "execution_count": 23,
   "metadata": {},
   "outputs": [
    {
     "name": "stderr",
     "output_type": "stream",
     "text": [
      "c:\\Users\\WalkingTree\\AppData\\Local\\Programs\\Python\\Python310\\lib\\site-packages\\seaborn\\axisgrid.py:118: UserWarning: The figure layout has changed to tight\n",
      "  self._figure.tight_layout(*args, **kwargs)\n"
     ]
    },
    {
     "data": {
      "image/png": "[encoded data removed]",
      "text/plain": [
       "<Figure size 584.875x500 with 1 Axes>"
      ]
     },
     "metadata": {},
     "output_type": "display_data"
    }
   ],
   "source": [
    "# Merge datasets for more analysis\n",
    "merged_datasets = contacts_df.merge(searches_df, left_on='id_guest', right_on='id_user')\n",
    "\n",
    "merged_pricemax_filter = merged_datasets.loc[(merged_datasets['filter_price_max'] <= 600)]\n",
    "\n",
    "sns.displot(merged_pricemax_filter, x=\"filter_price_max\", hue=\"accepted\", multiple=\"dodge\")\n",
    "plt.show()\n"
   ]
  },
  {
   "cell_type": "markdown",
   "metadata": {},
   "source": [
    "A new column named 'classification_max_price' is added to the 'merged_datasets' DataFrame by applying the 'label_price' function to each row. The function categorizes each row based on the 'filter_price_max' values into different price ranges ('0-100,' '100-200,' ..., '600+'). This classification provides a more generalized view of the price range associated with each contact.\n",
    "\n",
    "Subsequently, the dataset is grouped by the 'classification_max_price' column, and the mean of the 'accepted' column is calculated for each group. The resulting DataFrame, named 'classification_mean_acceptance,' contains the mean acceptance rate for each price range.\n",
    "\n",
    "Finally, the results are printed to display the relationship between the categorized maximum price filter and the mean acceptance rates. This analysis can offer insights into how acceptance rates vary across different price ranges within the dataset.\n",
    "\n",
    "\n",
    "\n",
    "\n",
    "\n"
   ]
  },
  {
   "cell_type": "code",
   "execution_count": 24,
   "metadata": {},
   "outputs": [
    {
     "name": "stdout",
     "output_type": "stream",
     "text": [
      "                          accepted\n",
      "classification_max_price          \n",
      "0-100                     0.411160\n",
      "100-200                   0.430308\n",
      "200-300                   0.431149\n",
      "300-400                   0.450488\n",
      "400-500                   0.485549\n",
      "500-600                   0.422297\n",
      "600+                      0.433122\n"
     ]
    }
   ],
   "source": [
    "# Classify dataset based on filter_price_max\n",
    "def label_price(row):\n",
    "    if 0 <= row['filter_price_max'] < 100:\n",
    "        return '0-100'\n",
    "    elif 100 <= row['filter_price_max'] < 200:\n",
    "        return '100-200'\n",
    "    elif 200 <= row['filter_price_max'] < 300:\n",
    "        return '200-300'\n",
    "    elif 300 <= row['filter_price_max'] < 400:\n",
    "        return '300-400'\n",
    "    elif 400 <= row['filter_price_max'] < 500:\n",
    "        return '400-500'\n",
    "    elif 500 <= row['filter_price_max'] < 600:\n",
    "        return '500-600'\n",
    "    else:\n",
    "        return '600+'\n",
    "\n",
    "merged_datasets['classification_max_price'] = merged_datasets.apply(lambda row: label_price(row), axis=1)\n",
    "\n",
    "# Group by classification_max_price and calculate the mean of acceptance\n",
    "classification_mean_acceptance = merged_datasets.groupby('classification_max_price').agg({'accepted': 'mean'})\n",
    "\n",
    "# Display the results\n",
    "print(classification_mean_acceptance)\n"
   ]
  },
  {
   "cell_type": "code",
   "execution_count": null,
   "metadata": {},
   "outputs": [],
   "source": []
  }
 ],
 "metadata": {
  "kernelspec": {
   "display_name": "Python 3 (ipykernel)",
   "language": "python",
   "name": "python3"
  },
  "language_info": {
   "codemirror_mode": {
    "name": "ipython",
    "version": 3
   },
   "file_extension": ".py",
   "mimetype": "text/x-python",
   "name": "python",
   "nbconvert_exporter": "python",
   "pygments_lexer": "ipython3",
   "version": "3.8.10"
  }
 },
 "nbformat": 4,
 "nbformat_minor": 2
}
