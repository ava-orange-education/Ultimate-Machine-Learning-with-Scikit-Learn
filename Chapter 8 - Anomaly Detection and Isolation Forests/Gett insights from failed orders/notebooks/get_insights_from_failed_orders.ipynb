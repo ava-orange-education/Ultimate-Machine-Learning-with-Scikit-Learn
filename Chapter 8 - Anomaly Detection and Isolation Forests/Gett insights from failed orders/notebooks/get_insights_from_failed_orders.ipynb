version https://git-lfs.github.com/spec/v1
oid sha256:53681554e964550a854d082dd44435ebe4bdabc5de995af50fbec4a51ca0fabe
size 448285
